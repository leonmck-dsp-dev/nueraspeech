{
  "cells": [
    {
      "cell_type": "markdown",
      "metadata": {
        "id": "view-in-github",
        "colab_type": "text"
      },
      "source": [
        "<a href=\"https://colab.research.google.com/github/leonmck-dsp-dev/nueraspeech/blob/main/nueraspeech.ipynb\" target=\"_parent\"><img src=\"https://colab.research.google.com/assets/colab-badge.svg\" alt=\"Open In Colab\"/></a>"
      ]
    },
    {
      "cell_type": "code",
      "execution_count": 1,
      "metadata": {
        "id": "LaTtLnEMYUZ-"
      },
      "outputs": [],
      "source": [
        "%matplotlib inline"
      ]
    },
    {
      "cell_type": "markdown",
      "metadata": {
        "id": "lalY1_2iYUZ_"
      },
      "source": [
        "\n"
      ]
    },
    {
      "cell_type": "code",
      "execution_count": 2,
      "metadata": {
        "id": "1sjxjWufYUZ_"
      },
      "outputs": [],
      "source": [
        "# Uncomment the line corresponding to your \"runtime type\" to run in Google Colab\n",
        "\n",
        "# CPU:\n",
        "# !pip install pydub torch==1.7.0+cpu torchvision==0.8.1+cpu torchaudio==0.7.0 -f https://download.pytorch.org/whl/torch_stable.html\n",
        "\n",
        "# GPU:\n",
        "# !pip install pydub torch==1.7.0+cu101 torchvision==0.8.1+cu101 torchaudio==0.7.0 -f https://download.pytorch.org/whl/torch_stable.html\n",
        "\n",
        "import torch\n",
        "import torch.nn as nn\n",
        "import torch.nn.functional as F\n",
        "import torch.optim as optim\n",
        "import torchaudio\n",
        "import sys\n",
        "from torchaudio import transforms\n",
        "import matplotlib.pyplot as plt\n",
        "import IPython.display as ipd\n",
        "import editdistance\n",
        "\n",
        "from tqdm import tqdm"
      ]
    },
    {
      "cell_type": "code",
      "execution_count": 3,
      "metadata": {
        "colab": {
          "base_uri": "https://localhost:8080/"
        },
        "id": "qK_nSa0aYUaA",
        "outputId": "c524cb56-a74b-4ca5-8edb-d9043c94bcb3"
      },
      "outputs": [
        {
          "output_type": "stream",
          "name": "stdout",
          "text": [
            "cuda\n"
          ]
        }
      ],
      "source": [
        "device = torch.device(\"cuda\" if torch.cuda.is_available() else \"cpu\")\n",
        "print(device)"
      ]
    },
    {
      "cell_type": "code",
      "execution_count": 4,
      "metadata": {
        "id": "7EM6WlKQYUaA"
      },
      "outputs": [],
      "source": [
        "from torchaudio.datasets import SPEECHCOMMANDS\n",
        "import os\n",
        "\n",
        "\n",
        "class SubsetSC(SPEECHCOMMANDS):\n",
        "    def __init__(self, subset: str = None):\n",
        "        super().__init__(\"./\", download=True)\n",
        "\n",
        "        def load_list(filename):\n",
        "            filepath = os.path.join(self._path, filename)\n",
        "            with open(filepath) as fileobj:\n",
        "                return [os.path.normpath(os.path.join(self._path, line.strip())) for line in fileobj]\n",
        "\n",
        "        if subset == \"validation\":\n",
        "            self._walker = load_list(\"validation_list.txt\")\n",
        "        elif subset == \"testing\":\n",
        "            self._walker = load_list(\"testing_list.txt\")\n",
        "        elif subset == \"training\":\n",
        "            excludes = load_list(\"validation_list.txt\") + load_list(\"testing_list.txt\")\n",
        "            excludes = set(excludes)\n",
        "            self._walker = [w for w in self._walker if w not in excludes]\n",
        "\n",
        "\n",
        "train_set = SubsetSC(\"training\")\n",
        "test_set = SubsetSC(\"testing\")\n",
        "\n",
        "waveform, sample_rate, label, speaker_id, utterance_number = train_set[0]"
      ]
    },
    {
      "cell_type": "code",
      "execution_count": 5,
      "metadata": {
        "colab": {
          "base_uri": "https://localhost:8080/",
          "height": 466
        },
        "id": "0_rUOAj8YUaA",
        "outputId": "7e3bc0fe-7d26-4951-f1ff-320d12fe23e6"
      },
      "outputs": [
        {
          "output_type": "stream",
          "name": "stdout",
          "text": [
            "Shape of waveform: torch.Size([1, 16000])\n",
            "Sample rate of waveform: 16000\n"
          ]
        },
        {
          "output_type": "display_data",
          "data": {
            "text/plain": [
              "<Figure size 640x480 with 1 Axes>"
            ],
            "image/png": "[encoded data removed]"
          },
          "metadata": {}
        }
      ],
      "source": [
        "print(\"Shape of waveform: {}\".format(waveform.size()))\n",
        "print(\"Sample rate of waveform: {}\".format(sample_rate))\n",
        "\n",
        "plt.plot(waveform.t().numpy());"
      ]
    },
    {
      "cell_type": "code",
      "execution_count": 6,
      "metadata": {
        "colab": {
          "base_uri": "https://localhost:8080/"
        },
        "id": "Aj6_jO85YUaB",
        "outputId": "316bd4c5-aec5-49e5-8455-e25650c85013"
      },
      "outputs": [
        {
          "output_type": "execute_result",
          "data": {
            "text/plain": [
              "['backward',\n",
              " 'bed',\n",
              " 'bird',\n",
              " 'cat',\n",
              " 'dog',\n",
              " 'down',\n",
              " 'eight',\n",
              " 'five',\n",
              " 'follow',\n",
              " 'forward',\n",
              " 'four',\n",
              " 'go',\n",
              " 'happy',\n",
              " 'house',\n",
              " 'learn',\n",
              " 'left',\n",
              " 'marvin',\n",
              " 'nine',\n",
              " 'no',\n",
              " 'off',\n",
              " 'on',\n",
              " 'one',\n",
              " 'right',\n",
              " 'seven',\n",
              " 'sheila',\n",
              " 'six',\n",
              " 'stop',\n",
              " 'three',\n",
              " 'tree',\n",
              " 'two',\n",
              " 'up',\n",
              " 'visual',\n",
              " 'wow',\n",
              " 'yes',\n",
              " 'zero']"
            ]
          },
          "metadata": {},
          "execution_count": 6
        }
      ],
      "source": [
        "labels = sorted(list(set(datapoint[2] for datapoint in train_set)))\n",
        "labels"
      ]
    },
    {
      "cell_type": "code",
      "execution_count": 7,
      "metadata": {
        "colab": {
          "base_uri": "https://localhost:8080/",
          "height": 75
        },
        "id": "0adiSTjFYUaB",
        "outputId": "6cd793e0-5522-4d5c-ced7-461e27919577"
      },
      "outputs": [
        {
          "output_type": "execute_result",
          "data": {
            "text/plain": [
              "<IPython.lib.display.Audio object>"
            ],
            "text/html": [
              "\n",
              "                <audio  controls=\"controls\" >\n",
              "                    <source src=\"data:audio/wav;base64,UklGRiR9AABXQVZFZm10IBAAAAABAAEAgD4AAAB9AAACABAAZGF0YQB9AAD2//j/7//4//j/BAD9//P/9v/t/+v/8v/r/+r/7//o/+//6P/l/+T/4P/i/9j/3v/g/9//4v/p/+3/6f/y/////P/3//v/9//4/wIA9//3//X/7P/5//H/8//4//L/AQACAAAAFAATAA4ABQAFABAAGgAVABcAHQAKAAQABwD1/wQABQAHAAQAAAACAAoACgAOAA0ACAARABMACwANAAEADQAWAAUAEAALABgAEAAVABUAEAAXABwAEQAUABcAAgAPABAACwALAAgABQAHAAUABwAHAPf/8P/r//H/+//5/wMA9//2//X/7P8BAP//AAD7//z//P/+/wUABQD3//P/9//z//f/AQD7//n/+f/4/wAAAAD7/wMAAAD1/+//6v/v/+z/+P/8//L//v/5/+r/6v/l/+//7f/3/+3/8v/z/+3/9f/x//z/8f/3/wIA//8EAAIABAABAPb//f/4//f/AwABAAAA/P/8//z/AQD///3/+P/5//b/BAAFAPn/+f/9//P/8/8BAPn/AAD1/wAAAwANABgAFAAEAPz/BQACAA0ACwAPAAcACwAOABoAEwAVACMAFgAkACAAGwAoACcAFwAOAA8AFQAaABcADgAXAA0AEQAWABcAFAAIAAAA/v8EAPn/CAADAAUA+//2/wAA/f/9/wkABwD4/wMA7f/z//b/+P8DAP3///8DAAsAEAD4/wgADwAHABUACQANAPn//P////z///8BAPj/8v/7/wUABwD2//n/+//9/wEA///3//3/8P/p//L//f/3/+3/8v/o/+L/7P/w/+T/5v/l//L/9v/5/wIA//8JAAEAAAD8/wEAAgD9//7/AAD7//3/AAACAPb/4v/t/+T/6P/t/+T/5P/g/+T/9f/3/+3/5v/r/+r/6f/5//z/8f/t//X/9f///wEA//8IAAsACAAeACIAIgAgABgAJgAVAB4AJwAmABsAFwAiACgAGwAbACAAGgAQABUAGgAQABMA/f/8////+f8JAAIA/P8DAAkADQADAAIA9//5//f/+f8HAAAA/f/y//D//P8NAAIADQAEAAUA///7//3///8KAPv//f8CAAUA9v/3////9f/+//3/9v/l/+v/2f/f/9n/z//W/9b/2P/c/+b/6P/q/9L/3v/v/97/2v/m//H/8//x//D//v8IAPn//P8BAAIA9f/8/w4A/v/+/wQA/P/1/wcAAAARAAsAAAALAAkABwD8/wkA///7//v//f8DAAMACAAFAAQADQATABYAFgAhACMAIQAuAC8AIwApAB4AIgAdABoAIAAeABoAGgAaABQAFQALABEAFgAJAAsAAwALAAkACQAJAAcABAADAPz/9v/4/+r/6//v/+//9v/+/+v/5v/l/9//4//1/+3/9v/x//7/AwD5//3/BAACAPn/CgAKAP//+//y/+j/6f/j/+j/4v/t//b/+P/7/+//8f/s//f/9//x/+v/7P/y/+r/7P/d/97/6f/m/+r/4//o/+P/4v/i/+3/6f/o//H/6f/f/+j/6v/z/+z/9v/4//D/+f/8//z/8f/w//X/AgADAAsACAAIABAADwAFABQAGgAPABUAEwAXAAsAFwAaABgADgAUABQACAAPABoAIQAmACIAHgAxACEAHQAWAB0AJAAnAC0AKAAeABcAHAARABAAGgAaAB4AFwAUAB4AFQAOAAcABQAFAAUACAADAP//AgADAPj////2/+z/+f/2/wAA+//s////7//y/+v/7//v/+X/8P/m//D/7P/w/+v/4P/d/9z/3v/i/+n/6//p//f/+//w//n/8v/8//b/8f8AAP3/CAAAAAEA/v/+//z//P8EAAIABAD3/wEABAABAAEAAgACAAoADQANABQACQANAAAAAQD+/+//8P/t/+j/6P/t/+v/7//2/+v/8P/r/+b/8P/t/////v8DAAMA/P/7//z/AQDz//X//v/7//7//f8FAAMAAAD+//z/AgAAAAQAAwAJAAkACgAHAAMABwD7//j//P/1//f/+//5//3/+f8CAAsAAAAFAAoACgAPABEAGwAbABgAGgAkACQALQAUAB4AIwAgACkALQAwACoANQA2ADMANQAxADYALwA5ADsAMAAtACgANAAhACIAIQAbABMAEQAXAAkAAQD8//7/+f/y//n/6f/s//X/8P/4////7P/r//L/5f/k/+r/6//e/+X/6P/z/+T/6//1/+L/6//w/+3/5v/x//z/5f/v//D/5f/x/+r/7f/3//H/5f/i//L/3v/W/+r/4P/j/93/6//s/9j/4//j/93/0//g/+P/6v/x//L/9v/y//L/8//1/+//8v/y//X/7/8AAP7/AgD9//7/9v/8/wUAAQAYABUAFgAUABAADwANAA0AGAAQABMAHgAPAA8ADQAVAA0ADwAmABUAGAAbABcAEAAYAB4AHgAgABgAIgAdACcAJAApACEAHQAYAAoADQAIAAkAEAALABYAFAAPAAUABAAFAPz//f/y//j/8v/v//X/8f/1/+n/6f/m/+j/9v/m/+T/7f/x/+//9v/y//b/9v/v//P/5v/m/+r/7f/r//D/7//3//f/9v/+//v////8/wEACAAEAAAACwAIAAMAAwADAPj//f8EAPb//P/9//7/AAD3//3//f8HAAoADQAHAAsAFwADABAACAAOABcAEwAQABAADwAPAA4AFwAUAAMAFQAIAAcADwAPAAsAEwAOAAsAAgAKAAoABAAHAAcACAAIAAMAAwAEAAAACgD1//j/+P/2//v/+/8DAPz/BwABAAAA/P/z////7f/t//b/6P/t/+j/7//p/+//7//1//D/9v/z/+P/6//r//P/+f8AAP3/BADz//z/AQD//wMA/P/4////DQAHAAEACQAHAAQACwARABYAFwAaAA0AGwAQABMAFwAOABgADgALAAgABAAOAAsACAAPABoABwABAAkACwACAAcAFAALAA0ADgAKAPv///8FAPn/+/8CAA8AAgACAAAABQD5//b/AwDx/wcAAgAAAP//8P/z//D/7f/m/+j/6v/k/+j/8v/v/+P/6f/x/+r/7P/r/+b/6f/y/+3/7f/4/wAAAAACAAkABQANAAsACQAHAAUAEAAAAAgAFQAFAA4AFQATAAgAEQAJAAoAEQATAAoA/v8OAPP//P/+/wQACQAFAAoA9v/8//D/8P/x/+n/+f/7//j/AQAAAPj//P/8//v/AgACAP7/+P/4//b/9//4/wkA/v8FAAgA+P///////v/7//b/AgD4//P//f/1//X/6//y//L/9f////3//P/z//3/8//x//X/9f/9//v/AgD9/wIAAgD5/wIAAwD7/w8ADQAKAA4ABAALAAUACAAOAAoACwAQAAgABwAHAAAADwALAAQA+P8EAAUAAAAIAP//AwABAAUABwACAPf/+f8CAO//AgAJAPb//v8AAAMAAgAIAA0ABwANABEAGAARAAcABwABAPz/CAAFAAoACAADABEA/f8BAP///f///wEAAAAHAAUA/f8LAAEAAAADAPP//f/3//X/+P/p//X/8P/l//z/9v/2//3/9/8FAPn/8/////H/8//+//z/BwAIAAkA//8DAAEA//8AAAUABQD+/wUAAwACAAEAAgADAPf/AQAFAAkA/v/8/w0ADwADAAMADwAHAPv/CQAAAAAADgAJAA0AAQAFAAEA//8AAP3/+f/8//f/+//7//3////z//D//v8DAP//BQAJAPv//v/7//z/AwDy//j/AAD4//X/BQD9//f/+P8DAPz/8//8//n//f/2//n/CgD//wAABAAHAAgAAAD+//z/9v/4//P//f/7/+//AwD5//L////3//D/7//r//X/7//o//P/8f/r///////5/wAA/f8FAPz/BAANAPb/AgD4//D/CAD+////DQADABEAEQAAAP7/+//9//n/+/8IAAgAAwAEAA8ABwABAAgAAAD8/wIABwAVAA8AEwANAAUACAAIAAgABAD9/wgAEwAQAAUABwAIAAAACAAKAAUAAwAPAAgABAAQAAIACQD+//n/BAD4/wUAAQAEAAUACQAKAAMA/f8CABAADgAWABAACwANAAEABwAJAAkAFgACABAAHQARABcABQAQAB0A//8NABwADQARAA0AHQAaABoAIQALABYAEQATACEAFwAQAAQABQABAPv/+f/+//X/8//+//f/+P/2//P//P/1/+3/+P/+//b/7P/s/+r/4v/d/+v/2v/Z/+j/3v/m/+P/3v/r/9r/0f/f/+D/3v/f/+L/5f/p//H/8P/z/+r/7//o/+P/6f/f/+L/2f/a/+T/8P/q/+n/6P/q/+n/8f/9//L/9v/5/+///f8BAPv//f///xQADgAUABMABQARAA4AFQAYAA0ADwAVABgAHAAWABQAGAAXAAgADgALABYAGAAWACEAHgAhABwAHAAhABsABwAKABYAGwAbABcADQAbAB0ADgARABsADgAOABQAFAARAAsACwAIAAoADQATABQAFQAgACYAGgAUACIADQALAAQA/P8DAAQABQALAAoA+f/w//n//P/2//v/+//x//D/7f/w/+v/4//o/+n/8P/g/+L/6P/Y/9//6f/i/+D/6v/o/+P/5v/g/+T/3P/d/+T/4//d/+L/6f/p/+z/7//w//H//f/2//H/7f/p/+j/6//p/+3/7//p//H/9f/9//v////+/wEA9//4/wAAAQAHAAgAFQARABcAIQAeABgAEwATABgAFgAVAB4AFQAYABUAGAARAAgACwALAAoAEwATAAkADQAUAAoAFQAUABQAGwAUABUAFgAUABgAHAAWACEAHAAcACEAFgAaABYAFQAQAAgACgAUAAgA/v8FAAIAEQACAAkACwAEABAACgAIAA8AAwD5/////f8KAAEA+/8AAAQAAAD8/wQAAAD1//H//P8AAP7//P8CAPj/AgD3//H/+//s//D/6f/v/+j/7//w/+L/5v/l/+P/6P/k/97/2P/U/9H/3f/Y/9D/2v/g/+P/6//t/+r/8v/w//f/8v/+/////f8EAPf/BwAJAAMADgAQAA0ACQAKABEADQANABUAFgAQAAoADQATABYADgANAA8ABAADAP7/AQABAAsAAQAEAAkAAwAEAAUA+//x//P/9v/p//v/+//y//z/AAD4/wQABAAAAAgACgD9/wIACgAIABYADgAOAA8ADQAEAAgACwACAPL/8v////X/8//x//3//f8AAAUACQAKAP7/AgACAP//BwAKAAEABQAEAA4ADQADAAgA//////3//P8DAAEA8f/9/+z/8P/9/wgAAgD8/wAA9//4/wAA7f/f/+j/2v/Z/93/8f/7/+r/9//r//v/9//s//3/AgAJAAIA/P8DAPz//f/z//v//f/z//j/BQDw/+//AgD7/+//8f/z////CAACAA0AHAAOABUAFgAJAPj/+//7////DgARABAADwD//wcAAgAAAPb/8P/4//H/6//p/+3/9//7/wAA/P///xAABQAQABEAAwAKABEACQABABoACAANAA8ACAAJABcAAwAEABAACwAFAA0ACgAFABEAFgAHABYAHAAQABAACgAEAAoADgADAA8ABAD///v////8/+z/8f/5//f/7P/7/wIABAD1//3/CAAKAAgACQAIABUABAAPABgADwATAA8AFQAIAAMAAgADAO3/9f8BAPD/8P/v//f/+P/w//D//P8AAAQABwAJAAcABQAAAAcAEAD7////AADs//b/6//t//X/6//k/97/5P/k/+b/6f/i//v/8//3//j/CgAHABUAKQAdACwAKQAeAAsAFgAOAAEA9f/2//3/7P/r//D/9//7/+3/6v/t//7/AAAHAAMA9v8AAPH/7//m/9P/1P++/7f/BQABANz/8P8aABEA5P8tAI8AOwAuAGgAVgBFAC0AJgDw/6r/pP+u/7L/s/+L/0z/VP9t/2//U/9b/23/Wf9V/4X/df+F/9j/CAA0AGgA7wAQAfkAPAGMASUBAgH1ALAAFwCg/1D/vP44/tT9j/06/Wz9Y/2Z/Rn+nP4s/9L/1ACMAQ0C9wLCAxkEfQT9BAAF4QR4BDsEkgOkAgoCQAFdAIf/6P4Y/mD9pPwq/Lb7PfuP+4L75Pua/Ef9G/63/mD/DQAcAEkAggB8AGYAaQCaAKUAegB5AIAAEQDy/8n/nv+T/8D/PQCeAP4ArgELAg8CIwITAsYBKwHyAN8AaQA2AH4AcQAqAAAA8P+T/93+dP4u/lb9ufx//Bj86/v5+2L8Af14/WD+bf8vAEEBkQJzA9EDKQSwBAMF7gTRBDoFrAWzBRMFBwRYAlgAEf3++Pf0WPFC7qzqluZS4yPh5t9U4EPiEucW8WH/fw5dHCsqaDpfSYJQc08WS2RHH0IrNsQkfBSbBWnzidyGxoy3Mq4ApkCfKZ7bpWa0ZcT70x3lvvjKDashmzJ4QSJPnFnTXDVY5U+SRVc2JiCNBfTrPtYIwxCxUqE9lzWVn5kWoyezdcog508FGCF8Oe9OtF8uaRtrKGjRYgtZ2khAM+waBAGx5aHKH7NNoeGVqpB9kfWXzqPds/TG5dzx9B0OdScyPj9P3VxpaeJ1vnuhcNVYYD/6JmMO0vNG12O/Qa5coUeaapiFnB+nwbIkwSDY2/WvFFgtfDsMRGlL5lCxUVRLv0B1M0ghBQyb+IvpMdxyzQPA1Leyt0+/FsnB0qzdDuqp90IE/A3jFoofKydILQEwsy/VLLgkxxVwAwzzSOja4T3b+dJzy8bHh8WgwH6/y8/p84wfbUX5Xrpuwnr/f4d1SV3SQpksexhJA4Tv/t55zuC5SKAnis6E75GPp4W9U9NN7hAPpy3uQypQiFSvUzBNt0NQPC43ly+yHysHXOwb1IK/1q20n0SagZ93q6K6Hcp72UfrAgFOG9Q4/VWHbm16znXXZaVQ9TqNJWQNRvPv2KPATa4qoq6bGpyloU6rarqsz5LqPAc1IM8zHkNmTP1O2E2LSotFYz8ANYQjyAwm8/baz8fat4isQqkOrBG0A8NP1vnrGgTFGs0rKDfGPVA/mDwkOHo45TyOOIEoihN5+x3lwdSox3vB48NjyonT+duQ5JTwmflX/WoCYgr+FoAnvDOlNisufR3LC1r5Jui43pXbfduU3sPjDevU8uT2cPVX8dnwl/aV/6AJMBNnGhgeqxzfFu0NKwMI+h71LvXt+M77vPny8trocdy60MHKdMpezTHYLO+TDjwv4Uo2XdFmLGtUaiFgHk5iPDkqFROC++/od9Zgv5qp1JvwmTOnhr1F0sTl2PobD78gxi+ePfFHMkmaQdA0viVaGUEOKP4R60/ZLssfwn68nrkmu7zBjszr2Enl6PIK/0wJrxc4LMtCD1epYn1f90/8OQwhBwr+9qHksNNLyObBKb4BvW6+/MIgzEvZLepB/3sWlyv+OAA7VzOpJLsRQAL7+539oQL9BQEE9fzX8yvsH+j851Lsa/N4+qcCYwz2E0QXeBbaESwMyQieBqcCTvzf9WPxFO++73fzCvdl95b14vR99hP9mw1+HxolpiJjHVQRlwIj997prdtI1nbbsuSd7iD4V/v29ZvxIPTS+e8DuxOTIiws1S+NK+Qezw13/bvv1OWD4YjhaONE5hTpc+u37A7u3vD79EP7MAPBCNUKqQqgBoEAD/20/QoCWAmKER4ZYh0aGvQO9/3e6ZLYps3mxcrEctXx9Q0b8kHuZC936nd2bYRYfzs+HqsF4u5w2MLIob6gsMakO6WxrTy8etR48cULcSRiOyhJrkteSe9CwjO+HmUJwPQ/5BjdE9404H7fcdy417DSRNIE2QHjmO1N+GwA+wT4CIQNzRP0HB4myS31NL83MTEJJFUUJgNr89/ntN8Q3Ozfquck7APs1enk5Tjhwd8i5JLtIPqYBm8OOhHMD+QJsgOvAqUICBbvJT4v2C/6KKwb5AzK/6/z5ekF4wnfNd+D4nbnke4E9+39CwO8B4kM6BHPF2MbcxmyE5MMgASE+5bx+eaU3tba2Ntl4+7zpgdCFTAdHSFeHWEVTQ+vB5z+EP7uBD0Gbv4R9ArpGd4Z2FTZyOBR7E75RgXKC7cJzwG49m7pGeB+4evrn/nhBtQRFxm0G38ZvhTqDxsLHQc1BTsCqvyi9tHuI+Tp2iHXQ9oM5uz3bQruGoUm/ioQLcousCptIUoZ0BByA/zy7OVa4FjjBPEYB5kafiTlJXYioB9eHn8Y4QnD80XdVNId1v/eT+b97Wv39/8AB6wOfxOGEVMNrAkQBHIAOQMbBRn+k+/X3WDOGskm04PoewCXFK4iwinHKOkhuRgnD5kGYv8q95nrKt/Q2KfbpONT7gf8OglvEdUVvBf3FAsRcBM/GpYdjBzyFhYKg/u882vx4PCF8/326va99UX2HfdG+Ez5JPcm8xLzh/mMBIoRPR4bJFMdrA8ABO370PeQ9173BvbJ98r8HwEAA9MDzgRUBYEDV/769pnvoelj5UjkLugK7/j0zfl7/roCvwdlDhcTFBM0Fs0hJSnxIskYvAzt9X/cd87AxxPDd8v44ZnxHPX4+3IEMgStBe8QHBvNIAMncCiUHi0Ov/zm613eGtd01sPbhOdm92gIqBmtJiAp2yLcG/gU6ApdATr8ovfE84D17vef88jsVu2Q9qgCphCeIVItRCxhIvcTVAGB79nk/d/i3brgAOn/8Cvy/Okl2hfMJ81p5WUToEj8bol5/m2KWNs8ZhpW9VXTTLnSrj+3Ush41K/X99XB1FDb3O7DCpgkJzUaOx85gDKrKeQg9RWLAw3r2NRVyDTJ+9a469r/TQ/zGXQhQyUqI/EbtBGTBUL6+PES62Dj29za3FXm6va/Cu4d1SzwM4MxHSjJG/4N2v/186/r/uTK3NnToc4m0bLZB+TN78H8MAhOFNMioyzlLBkntx4iFBcLlgjBCD0Bae/B23PPr87k2Gzon/SB+ZL75gBZCooVqh50IOwYvwtk/Wvxp+ts6tfnQeSm4wXm/+ui+GoGEAxbCmMGFwHJ/SADThBYINQuRjNVKIoUegAG7tXhp+Cv43nk4ucH79ny8PRq+7wBngPDCbsY+SWrKlQpRR34AmroWdp41s3abeh5+CMDFwpAEGsTLREYDKUJbwpLCjAITgTh+1bwxuZ54LXdUeJD7w/+KAnKEL0U1RTiEwURqQdY+Qjt2eb45sjta/kuAwYIaAomCDL91O8y6DPjyd0n3+nsfwVbKMZOqWT5XhJKdzU+I14SjQJt7tjUVcDvuMK6DMERy3jXGOUu9uoMaSPTMJE1ejfmNf4vTSouJAAXdAJC7OLXWcoNywPahe4mAGQJswgZArb77ffl9q36BAICBokD9vxr8wvsiu8y/VkNtBv2JNclFB8lE2wDp/RX7A7qZ+mr59PlN+U85+Xsl/JY9N/01PhdARwPqh/rKicrACJjE88C2fTo7tvyBPznA2QGjAG89qPrEeb+5vnrEfLV9wv9eAKpCZ0PDxDqCz4GKv/X+Lz3vPky+1v+XAM1BswG8wdvB8YC5/40/8cBHAvdHSwq0CWDHb8VRwOx6mvbodHrxVDFi9Zo6en1+AHDB5wBXf7dBjMQahcVIsspFyVTGF4JSPXi3q7RRNEx1rTdouru+bIHnxQoH0YjtR94FTgIa/0E9+n0rvV89vn1hvS282P1gftEBo4RGBiVF4wQAwYi/F/0du3O6CvqNPIQ/roKdxUtGg0U7gPc73HZ/MM8vl/Tp/1EMf1fQXZSbWpVMD49JwkP/vh64x/OP8J+ww7HGce0xyLKQ9GU5sUJlCuNQAhJekY6OpkrFSHlFa4C6unx0F27ibCyt5/Ng+g1AW0U3R8VJEQkIiEnGigR2gYE+ZLottnx0KjS8N8X9S0OvyX1MjIytSePGNgJyQAx/q79xfkx8F3jR9h50tPSsdlR5oD0VAEaDxAfwCsIMOkqIhwWBoHxC+jn6j309vzv/yX7C/Kp7IfuR/U0/ZYDmwhpDa8RXRMqETELMwNj/LD4Vvc+9TjyRfDf7zPyavgH/2kAdv/3AEkBbQCRB+QXqiWRKgkpnB5fCAzwH+Lu27/VQdJz1cHdGOvH/NQJhgkoALn4Y/ouB+ob5i2HM0crlBgAAlju/t8g1gbT3diL5Ovz4QeZGjgi3R4OGEwQRQj7BKwG3gQx/Wf10O526EPm2OqU8q/8NAuRGa8f/hxRFakIO/rb8Pvsluwv8GL0YfUb+O7+VAM2A57/rvKu3SHUf+IeAzwwMV/ldnBsQ1H5MuAQQfPb4zXb3s9/yL/Jqczdz87WVdyr3BniZfRUDokpokGbTpNLfD5LLcUWdPyy4zTONL5/uubEytfy7tkFZRNrE2YMEAWHAJcDjQ8BGaUUEgZA9afkx9sw5XH9DxaYJk8sqSNgEZwBePcO7+frDfE99in2D/bV9i/0dO8E7ZDuTfRf/WAGUQ30EdUS4g/+CrgDofm68kD1JwDUDUsY1BjpDS4A3fdF9hL64wANBKP/9/in9Yb1WPgr/CH6cvFm69DtdPaHAooNGxFfDQILHQ4+EyEZwx31Gu8P4gMY+qLx3OsN6DjiANsS1xbZBuJX8dQCFREsGdAZqBIZB/X70fK17RTwHPrtB7QV1h5vHuUU+gZm+FDtPOqy7SXy5fYi/YcAkf3E+CP3jvcH+p8BPgzuEjkVzBZMFZEOxQeFAwj+QPib9+r4p/Yu8wLybPAm7I7pguog7m/2iwSrEX0VJhDrB+cAkPtM/OUJIiCsMoY9EkU9R9I9QCt2FLX4qtpqxbu9QL7dxCLSrN7X4yboivFb+fb90QdoF9smSjYpQ6xCxTF5Gcn/KujL293eDung8mD7Sf+5++H1H/LZ7jzubfNn+ef6aPmb9hzzpvX1A4kY0iqIN106fS5pGfIFgfZv6aThaN/13CfaHtvQ3njjfOxM+XYEuQ3NFlocgxyHGq8Uvwfd+Try+O8X8sX6DgZ7DIoMAQkdAoT4zvBs7vrwLPg8A50Mkg8sD24NkweeARsEcgm2B4wEhQSR/xL2CPTV+fX8z/xU/Qj5cu8b60rvfPWr/X4IgAyqBQL9J/lZ97T1zvXu9oj28/at+rv9iPsV9tny4/PC9wf+uQZMDgsR8Q+gDb8JcAQzAND9wvxk/GH8Cf2l/8QDdwc9C/UPNhJ2DxwK8QIo+pj18PeQ+Yf3P/iB+bX12vWB/yIH0wf2CRMKG/6x7vLn8uMN3mnfTOow+U8SejeBVVVhbGGcURAs1ANh7Erg8tv952H4UvY16cTj9t5n1nvcd/E4/oUA0gQ3Bff7wfbn++/+av0LAiIKgQsyCvkL1wsNCAQHqwqTDkUR4REZDOf+efA15pXgG+A75brrpvBn9sv+uggxEzUbBh3kF38OagTh/VoAMQuBFWoZ1xRnBObqu9WizZ3O7tU25F7yO/jU+IH5Qvkd+mICNQ9cGdkiiCz8LZ4kAhb3BLHzPumN6kb0WACyCtcPdQ39A1H2/+lZ5JXlz+uY9bT9yf2b91bw5enh51vvsPzdCKsRHRVhD3EERf45/q7/fAM9CX0JMgFR9nrsiOQv5OTuIf8uD7YcyyInHvoTzQnN/4X3WvQO9OfyA/MP9jT5y/qK/coA+gHgAkYGLAynEYUTbBEXDZMG7/7F+qb7j/08/4EB/gGf/kH6fPcY9Z7znPV4+l7/EgQdCH8J5ge1BEYCuwGAAdQBkAbJDXUQ2g5/DYkL6wdnB+YK/AvdCK0GugUoA0wC3wVoB/MBsfm98ortauxU8vL64v7s/N745fQz82r2K/2XA0wHJghvBrgDJQK9AAj+Rfut+rn6//kV+ob6Ffhp8w/xwPHJ80P65gXdD1oUJBaKFNUM8AM//xz8U/nZ+yACnQPZ/w38ofcR8SPvefV1/KP/VwKvA5//D/oy+PD3Afd/+JP8PQB8BNcI8Qc5AvX+dP9BAWwGFw40ESwOEwoKBUb9ufaj9Bz0VfNt9Oj28vfJ93T35faX9sT49/09A+UGBQhMBdn+CflK9yf5qv7vBRYM6w+gEU0QeAtrBfD+sfgd9f301vU59/f6Of/xAD8A1P59/eD8L/9FBOEJew7tELwP8QlKAQn4+O9l7Bfv1PUm/CkANQJvAaX+k/1b/24BFwMWBUQGoAbFBtYFBAO2/1n+IP+hADgCmAP5Ap//hPt8+D/3TvlD/+oFFwp0CxcKcgX8//r99v4pABQBJAGf/rr5ovVt85fyDvTF+Cj//gSeCdwL2Ap7CIoHBwjhCOoJlgqFCbgGOgPC/m75gPVf9Ib0YvXH99v5zPks+Vb6Cf2iABsFSglWDDYOZg4kDMII9QXPAsv+L/yw/JD+GgDaAesCGwED/gL9ev5GAOUBgwKfAEv9n/qL+V/5J/rt+xv+6gCTBAwHCQajAkf+avkX9in2MPmp/VcCWwVhBfIC3v4u+yL67PuT/uwATAIrAssAXP8z/u78Zvsb+tz5s/oH/YwAgwRlB+YHQgbBAuj9TvnU9uH21vj0+7f+i/+k/TT6Evd/9Sb35/xTBVANvRIxFGUQ/wj+ACD6ePVh9AL3UPtV/84CdATfAg3/r/sv+tr6TP4MA8IGlAgYCTAILAVCAskA/f5d/AD7p/qz+dz51PsF/fv8KP48AIABcANIBv4GSQXeA6ECeAAu/+T/aADH//D/KQDO/t39u/6e/wf/Av6z/NL66Pnp+pz8ev7fADgD8QSLBogH/wYFBkMF5wPNAZsAm//V/e/8tf0E/8EAdQOtBa0GSwfjBrwEJgJIADz+0ft4+iH6zPnJ+S77GP3u/l4BOgR5BvMGCwaSBEUDYgNZBfEH6Qk7CgYIigPI/jj7AvmD+OH43fmB+zr9X/5u/iD+p/3H/Sr/RQGuAxkF0QRUAkv+c/ry9zT3Wvjj+j/94v5CABsBIgH1ALoALQBH/wr/+/9KAUYCugKeAYb++Pqc+Hv3cPg9/FsBvwV1CGkJtgd4BMgBYADZ/y4AngD1/2T+yvxY+2z6H/tY/QMAeAJtBFwFlwTHApgAHf6N/Kn8GP4aADACZgPrApIBgQDZ/3T/AwBJAR8CdAKdAiQC3QDJ/wT/vf1P/H37JftJ+zr8fP36/ef9Z/5f//sAtQNBBnkGxQR1ArT/Ov2p/A39SvyN+jb56Phw+q/+6gM3B+4HmAaMAzYA4v45/7L/OQCEAKj/Jv6y/SH+7f27/UX+nP7P/tb/VwEfAn4C2gJxAhEBNAACAJH/fv/MAE4C3wIzA1cDbwKuAWICjgMeBBAEdQOUAR3/Hf3M+xX7W/vf/CT/sgGyAy4E3AKzANL+Mf7G/x4DBAbnBpkFdQLe/mL8MfxY/cr+3/9HABgAjv8I/3H+MP13+1v6fPrr+xv+QgApATYAL/5b/Gn75fvs/WEARAJAA9EDsAO0AsQBaQEEAZsAUAAFAI7/mf6o/Vn8Tfsm+yv8Z/5cATsEAQZ7BuQFZgTaAgYC9AGuAScBPACv/vb82PuJ+5T7E/z0/C3+kv88AZ4CrwNtBPQE5wR3BCAEkAOsAlYBcf+V/Wf8evyY/R7/ugCYAVwBiwCF/9X+mv7X/hX/p/76/X/9Uf1p/cX9bv7I/iH+E/1f/H/8O/2N/vX/vQCZAAAAvv+N/63/CwBjAPf/sf5S/Ur8mfvR+2b9WP8JAakCDQSKBFsESATOA6gCrAEcAVkAk/8H/3n+if0Y/bT9bf7X/mH/s/9e/xf/PP+j/wsAEAFvAgEDJwMaAz8C2AA7/5j9PPwS/Ff9Yv9gAesCkgNrA8AC0wHzAHMAOgDk//b/lQAkAQUBwACBAJT/uf4p/pz98vy2/Pz8lf1+/pX/RwCbALYAnQDXAEkBzQHwAbUBDAHg/6L+z/3F/Sn+8v4YABIB7gGzAiwDewM8AwwD1gJhAusBWwGmAIL/Wv5q/dP8ivzo/LT9kP51/1sA9wAEAagALwDa/0j/8v4Q/zr/8v5//k7+B/72/Sv+g/62/tz+C/8x/4T/GAArAXACnQMpBNkDwAL9AOz+Pf3x/BD+8//sAUQDVwNGAiEBeAD//7H/y//F/wP/Bv5x/eD8ifyY/Cv98P3f/lAAuQG7Ah8DBwOIApkBwwBYADcAtP+g/pn9If1L/RL+k/86AWkCGgNXAxIDLQIfATUANf8D/hH9/vyw/cb+DwAxAcUBfAHKAEgA///4////IgCt/7v+/f1Z/eD8WP3V/iYA5gBFAcYAqv+p/nP+7/7M/wwBzwEjAj4CxAHSANr/JP9d/sr+QAHZA08FIAd8CHMHsARMAoH/ZvsL+H724vSv80r1Xvih+w3//gLPBdcGbweKB3oGYQRjAkoAFP51/AH8HPwZ/fr+GQEUA3gE0AQ7BFMDvwHD/9X9Nvyn+rj5uPmO+jD8LP6gAAwDXgVYB8YIZwm0CEIGWwLj/Tb5hvXl81L0Avag+Gz8JAB3A9gGoAmfCvoJTQhoBbgBav6l+yj5w/e392/4D/rH/P3/4QJMBRsHgweQBqkE8QGG/j779Phj+Ib5C/xW/0oDpQZcCLwISwg3BoIC5P6f+1b4pPXi9Fr1Z/bL+CL8pv/iAgUGmwgNCvEJjgi9BsYEQgK6/5j+P/6r/Zf9l/5M/3r+Af5P/rv9/fvV+7v8afzr+zT9Iv+o/2AAWAIDBB4EUQTrBMIEzQMdA44C7ACv/hn9W/z4+wX8rfz6/ff+Nv91/08A9gDaACEB8wHtAQABlQAxAIz/v/4n//7//f9yAKcBbgIFAqwBQgELAMj+H/5Z/eH8L/6GAEkC4gO2BeYF9AP+ASAAEf3f+Rz4/vbf9Uf2E/k2/Or+bQLpBR4ICQnRCfcJZQjyBSED7/9n/Cf6mPni+Rz7LP2q/8YBxwIqAwgDOAJFAHD+av0j/Kr6/PmS+gb7DPzA/hACCASTBWgHDgiLBuUEjAM0AS3+E/zm+oH5bPnt+nj8wf3X/x8CmQMbBAAFGwVmBBoDYAFh/4P98vuB+jf6jfpo+1j8ef6aAGgCnQPuBAkFGQTQAlYBCf9F/N769PlI+aP55Pt1/SH/KgKmBcsGBQhlCtoL5gquCZoITgXLANT8efpv91r1W/Vo9lD3uPgi+4j9sf4iAA8CcAPDAw0EgATpAyIChgDv/97+p/07/mwAXAGjASsD7wQcBIICRgKnAen+Vfzl+xz7uPkO+nD8I/73/gwB6gO1BLYEvwW0BncFUAO8Abv/zfxD+p35yPkw+iT7Uf0g/2UACwJRBG8F5wSiBJYESgPYAHn//f70/ZX8r/xs/ez93v7rANQClAO2A1gDEwIjABD+J/zf+jv6kfqz+9v99/86ARwCOgNpA20COAHAABQA7v7P/gf/j/4Z/qv+VP8i/xn/3P8uALr/qP9rAIIAAgDp/8EAZAGbAUsCHgNSA6ICpwGhAG3/+/0P/Vn9GP7N/YT9d/7u/k/+Uv6o//b/7v4//9z/9P7c/QX/vwC6ACQBPwPQBAME4gPiBF0EIwKTANz/NP4N/DX7oPtH+8H6wPvj/b7+bP/HAZwEmQUoBcoFywVeA8EAzf92/s/7VvoO+zj7pPr5+wL/mgBHAYMDtgUdBScEMQQABPcB3v+C/wX/+f2s/ff+/v8eALYANwJwAtQAYv+//nf9Q/uG+rv7fvyE/AL+mQAYAngCGwTsBcEFwgRoBEwDlQBP/hP+bf24+0H7RfyK/DH8iP0kAIYBaQIMBCgFIQQ2AhUB/P8v/iD9N/1U/Rr9XP2W/t3/sADYATkD5AOQA9YCFALFAE3/Z/4S/vH9m/1L/jT/1P/9/1YAxQB4ANr/Z//h/uf97/xc/A78+fuX/Jv9+/4wAKYB4QLyA5UEvASdBJ0EAwT8Au4BXgGbALH/df/U/+j/oP+l/07/mf7B/Wz9J/3r/Cb9k/23/Wz9Af5o/qn+M/9TAP4AXQH9AYcCAAP+ApoCdgJAApMBjQDp/8//Vf8L/6H/jQAzANr/RQAtAAT/pP5y/yb/L/5G/gv/r/4Z/vf+bABJAIYAsQEQAiUBlQBBAfMACgD8/5gAQwBe/0P/mv88/2r+oP6O/3P/9v6l/9wA/wC9AFEBkAFuACn/W/9s/77+p/73/4gASABbAPEA6wBoAI4A9wDNAC8AQwAJAH//5P7C/tb+oP6M/tb+af/X/9r/PwApAVUB3wCrAJMA6v8F/wn/YP9I/3P/QgDfAA4BNgEAAnECRQIzAisCxAFZAEH/uP4x/qj9O/1Z/WX9Wf1O/Zf9KP7O/rT/ywCUAeEBEAIvAg0C9wH4Ad4BrAFjAf0A3wDHALgAqACzAIoANgDq/8r/Q/+q/sX+4f7r/g7/bP9o/xf/u/42/nH92Pzr/F797/3f/uj/vQDsAB0BIgEWAcAAfwDGAKcAjQC3AEkB+QGmAsEDvARGBUkFsgSwA54BCP/S/Ln6kfgw99v2rPal9tX2afeK9wj3qPYq9kP1xfSO9YL3nvp4/5QFNgywEqAYfB1FIIch9SAXHjsZRROQDH8F+v6B+UL1fvL/8IPwevCT8KLwdPCs77bu4u347N/si+2P74zyd/ZW+3EAawXRCcMNTBBCEcUQKQ9IDLQIRQU7Atr/kP6i/vD/3wFuBDYHZwmOCpAKUwmgBvoCGf9g+/X3rPVW9AD0yfSg9gP5x/vX/noBRgMYBNoDggKRAHb+afzD+hH6sfoi/N39NADGAp8EhgWxBQ0FhgOsAYv/q/1X/Nv7cPzW/RgA3wJeBWMHnAi0CKIHoAXvAs3/6fyA+rf45/cN+Mv4LvoX/Lz9Vf9+ADcBdwE3AW4APf8I/tX8jPvF+oL6i/rS+k/7uPus+3r7Bftg+nn5H/g99r3zevBu7L3oYuZr5lPqbPJT/uAMFB34LDg6hEMDSNtHTUMAOwowpCPYFn4KpP/c9hjwmusw6ajn7eWP4yXgdts41hLRIc13y6jMJdGE2GziPu4y+1UIZxSCHuslKyqdKq8nNSLyGkMTCgxOBpQCbwBFAPABkQRLB8MJjAuAC1kJegWa/0r4CfHD6uHl8+KS4n/k6Odi7HTxZfau+hz+iwDnAdcBuwBc/xP+eP0t/hABrgWoC3QSwxhrHbEfUR8yHKEWZg+hByEAd/kz9BPxJ/AJ8Z3zSvcT+zb+QQDkAL//Lf3f+ff21vT08770Avcr+qn9PgEJBLcFeAZ0BqAFxgMfAeD9afpA9x71uPQx9o75WP5xA8MHLgqBCuEIqQV2Aaf9w/rk+E74fvi2+JP4YPgS+Hj3ifau9c309fNw80Lz4fOz9Rn5uP1vAlsGFQnhCXgIHQUdAH/68/TN73Pr8+du5gzow+28938FGxZ3J7I33EMxSnFKpUW7PVE0DivQIjYcNhftEggOAgjFAHn45e4X5EvYbMymwXW5EbUDtce5FMPszxnelus595IAoAcBDVMR5RR3GA8cZR+4IWkiciHVHqoaBBU4DlEHGQGU/ED6Avo8+7T9bwBqArAC6gBq/e/43/Oz7lbqC+eA5S/m2Ojp7DfydviY/o8Dhwb9BvQERAEx/bz5Ffi6+cL+WgbbDsQWxByMH/ceTRvdFAYNCQUN/s/4mfXX9Hf2N/oU/8sD2waNB2IFmgDh+cPyCO0P6qXqPu7L8yr6UAB6BfoIqQp4CtwIrwYSBAMBB/7B+y77jvwp/4oCoQWNB78HUgVtAKX52/Ko7Tjr1OvD75H25f5MB6QNpxAWEKgMKweRAC36EvUU8jbxNPIm9KX2aPnb+8H9bP5Y/Yz6o/Zg8qXupOx37brxIfkGApIK2hDaE1gTng+1Ce8CAP3C+Er2LfXz9Hr16vYn+pj/HweXEFIbmSX7LS0zYDQHMpQtByhwIrEd4BliFoYSew3wBoz+3fSG6v3fztVqzBXFs8DZv0fDu8r91JPguesI9Yn7ev8ZAu0EeAkOEGAYSiEoKVoutS/ZLNsleRtRD3sCK/b7607l6uLd5JLqiPLO+k4BfgSdA/z+P/hq8WLsRuqO69Lv/vXl/PgCoAexCusLyAvRChIJ+gaeBGkC2AB5AKYBRwQsCGAMuA9AEREQZwwDB0kBgvyN+RT5c/oA/aX/XQHsASQBrv/m/S38efqx+Oz2+PSV8wfzz/Pn9eT4XfyA/0sBjQFVAI3+Rf0k/Y/+9wAMBOEGjgioCBAH5wTDA20EzAZbCnUNtg5QDaEI8wC092Lv0+nn5zTpt+yh8KLzSfXp9D7zPvEp8HrwX/Iu9Xr4MvyXAMwFRAs5ENkTbxXEFLwRuww5B8cC/wD4AcwEAgjeCXAJRwaYAGb5K/Lm7Njq5es17/3zePnl/l8D4wU3BpkE0QFt/tn65vdS9vX2p/lT/XkAvgGoAKz9Nvng9KrymfTt+0YIoheGJiMywziXOf40bCxUInYZeBN7EE4P6w1IC0QG9P6S9avqpd+I1aLNj8ipxivISM281WnggOsF9cz7n/9kAWQCNQSPCDoQlBriJZYvdDUINjQxFyhzHBYQtgTM+9f10PLz8U/y9fJj8yjz7vGG7z/sIekW5/rmQumP7aLzdfraAPkFFgkhCtgJDwnnCDUJLgouC6ELHAtECREGCgIa/kv7JPor+rf67fpd+gD5rvbI887wwu4s7ufuvPAn8wv2OvlD/Nn+cwDYAOr/ZP7B/NP7d/wH/1ADggg+DdsPdg8sDMAGnQA6+4r3T/ZR96n5+ftW/bD9kP0V/rP/nAJNBk4Kmw1AD7EOowx+CngJdAoEDQkQHhLxEeIOqgh1ACH4TPFG7err1Ozb7hfxGfPd9Lz2/Pjn+wD/bAGRAqsBzP7m+nn3t/V79oT54P1VAmgFJQb8A3X/NfrT9dfzy/Qo+EX9RwMkCaANMRCwED8PRww+CIkDl/5J+iH3iPUh9XD1y/VG9ZHzm/DE7KzoSeWT46vkmulZ8jH+MQwoG6gpCDaxPhJDqUN6QbA9EjlSNMUv3irhJJIcaRHaA8f0kOXX19XMWsVfwaHAMcLXxOfHvsp8zdLQi9VI3IDllPEkACIQth++LJM1IjmtN8ox5ygmH1MW3w8XDGcKngnHCN8GfQOv/qz4LPIj7Dnn6OOC4jPjX+ZU607x2vYF+wv9uvzU+tH44veI+T7+7QT3C40RJxSqEtMNHAdQAFH7E/lu+YD7yf0u/wP/mP3S+6L6oPoQ/Hr+EQEEAwkEfwTeBNAFjQfgCUQM6w1gDhYNRQqOBpMCzv7Y+4f5fPe59fXzj/LU8STyhvP29cj4LPvQ/E39Bv3M/GX9n/9oAx8IuAz4DyIRrA9WDBYIiQTUAmgDlwU2CPAJrgnsBpgBhfpr84bt8enj6Onpcex/77jyXfVF99T4NfqJ+878P/6g/9gAHwLPA50FlAeDCcUK7gqoCSYHpQMuAJ39tPyi/f3/mgJTBGQE0gInAGD9+vq8+WL6sfzE/2oCEARuBBIEagO1AqMBLwCF/pX8lfqZ+AT3H/Ym9vX23/fq9/H2pvW/9Z74tv6aB/IR9hu2I8YnlCdRJMofNBzhGocbDB2UHYUbwxWhDD4BRPVy6s/hitsf1wTU69He0CvRSNNE1/vc3uME65nxivcn/eECzQjxDgEVNRq7Hd4epB3NGnQXcRRQEiERmRAjEC0PWQ3XCugH/gS1AicBZgAuAAQAef/I/gD+2vyK+/D5HPhp9jv1bPRM9K30H/VI9X70qPIi8HXtd+sq6xXtHPGO9mz8bgGvBNYFoAX1BJAEJgUJB68JXAxzDvoO8g3DCzcJqQY7BL4B1P7b+9H4H/bu85fyLvKb8onzTvSE9Ej0VfRQ9fv33vtBAF4EmwfICXUK1AnaCO0I9wqXDm8S1BTXFLASvQ7YCcIEuwB2/l3+lP+nADkAnP2L+QP1cvFM77bumu+h8Sj0wvbS+AT6zfrF+8j88/1H/4UAhgGFAmkDsAMTA9EBYgD1/jP++v1f/gX/X/8z/0/+GP1y/O78zv7bAU8FKwjWCd0JowjFBhMFEwS6A5YDHwPlATEAkf49/Vz8Bvzf+4n7w/oK+Yb2BvR38j3yifNu9XH3NvnH+pr8Yf+LA/IIUQ/QFZIbhh9qIbghNSFTIIEfmR5THd8a5BYyEWoKlQN3/av4x/SW8TzuT+oK5uLho94C3UbdOt+F4mLmSOrs7azxv/V8+sD/NAXvCVENIA+cD5MPew+dDxMQxhBmEeURvhHvEKwPlQ7bDVYNewyYCm4HCgOJ/o36xvfy9XL07/LC8OHtgOoT507kNeMQ5L/mRurB7VrwE/Jr8w/1m/dI+/X/IQUECs4NbhDrEewSthO4FJgVMRYhFuoUqBKdD4cMjAkCB9QElQLq/+/8sflH9hDzSfAS7mvsK+v96Srp9+jf6fjrMO8N8//2kvpw/bb/xAEQBMAGVwrjDpYTEBepGAQYERaeE5QRTBBqD4kOEA23Ck4HLgOQ/sn5s/UJ89DxQvG08Lrvie6i7YntW+6m7wTxNPIT8/bzgPX791T7Ff+1AnoFJAeaB3sHRweJB9UIQwsGDkIQ/RAQED8OpgwiDIEMew3/DUoNGwvVBykE2QAY/u37Tvrc+Ab3xfRz8pPwgu+M733w5/EB81LzUvPM84n1gPgg/Pj/JwNOBSEG6QUNBQIEYAN9A3oExwX6BqMHxQdYB/0GAAecB84ITgrOC9sMjw0ZDuMOrw/VD4UPJQ6uC8cI9wWvAw8CPgHPAFYAtP9y/l38pfkE9x31KfQP9IX0BPWO9Sn2MPdQ+AT5I/mv+D74KPjL+Ej6XfyP/qEA+wHFAhUD8QIKA8gDhwWiB7gJ3QrDCqoJ7QdJBiAFdAThA/oCLwGS/pD7hfjm9Tb05fOg9N/1wfYt97z25/VT9ZT1+PZM+U789/74AAkCZAKpAjkDbgRaBlII6wmpCjoK+AhwBxsGLwWoBCAEYwMxAmkAhf6d/BX7Ovrw+Rf6Qfo9+iL6xPlg+Wz5L/of+xb8yvwB/Zf89/vR+2/8av5qAYoEkwYyB1EGlwTVAsQB8wENA6sEBQacBvMFHwSfAfT+s/yM+4/76/vu+yT7w/lB+C/33/Zv93r4YPn1+Y/6evvE/Kr+7ABaA2EFtAb3BtMGgAZVBsAGjAeVCDMJGgnrBxYGGwRUAh0BNwCM/8P+xP2k/LD7XPvC+2z88/w5/ef8I/zR+z78o/2y/5QB+QJ4AzgDggKrAVsBlAFGAs0C4QJlAjABuf+K/kX+3/7t/wQB0wEsAhACWwFaAHH/AP8x/7T/gAAOAf8AkwBGAIIAVQFyApkDwgTuBQUH1AeQCDIJ+wkWC0gMdg1zDtcOZA4xDcsLXgrQCDcH2gWiBC4DwAEUACX+8ftL+f32jvUK9Tb1gPWf9SH1f/Sz8xPzGPOw87n0svV+9hL3MPcQ9zz3TPhl+jj9IABWAq4DGATQAycD9QJdA1EEdwWoBo0HXAdNBkgE5gHU/2T+4/0D/lf+bP6e/UD82frp+ZL5zPnB+tL7vfwr/UH9Bf3B/Nb8ef1e/kj/7//g/1v/h/7H/Wn9WP28/WX+7v4i/xb/0v5+/ln+hP4u/+T/igAeATgBCwG7AIsAgQD5AMABewIOAy0D1AIZAk0B/QBDARACIAMVBHME6APUArwBMgE2AZgBGgJnAoICawI5AgQC7gHMAYoBfwGWAQACUQJnAooCugIyA9ADWATJBJcE7APrAtMB+wCMAFoAGADR/0L/Vf4a/dH7wfrq+ZP5rPkQ+o/6A/s1+4j77ftu/Dr9w/1S/vf+2v8IAT8CZAMPBCEECAQoBE4EigT7BKoFEQZoBn0GKQbNBWIFFAWmBOgDrwIEAUP/t/2w/Nv7I/u9+mj6Gvqc+fT4dvjQ91L3ZPcR+Cz5jfog/Iv98v4gADoBUQKKAxcFWwZCB+EHIAg5CCYI/gf9BxEIHwj6B1sHTga2BBEDkgGNAEIARQCSAJgAMACK/53+w/3x/EP8//sK/MD86P1C/1AAhgBFALb/Wf95/wgAtgBKAZMBmAGmAacBpwHCAdMB5QH5AdgBYwGaAK3/kv6k/fj8WPzZ+x77Xfp4+Zz47fdT9wT38/Zv91n4pvkj+1f8NP21/Qz+u/66//AAdQLgA8IEKAX2BIUEugPlAj8CeQHTAFAAs/8g/23+fv2N/H370PrL+kv79ft//N/80Px8/FP8tfyQ/fL+awCUARIC+QGjATABCAFmAeMBUQKcApECLwKlAR4BxQDEANQA8QAKAbcARQDq/+D/KAC6AEsBlQGQAbQBDAKNAh4DWAM5A6cCOwIWAgACEgLqAVwBuQAmALf/Qf+f/tT98/xS/Df8pvxD/df9ZP7R/i7/lP8QAEIAXQB/ANcAlQGPAmYDHwSQBBcFVAUsBV8E+wIoAuUBPQKqArYCsAI8AnABWABJ/0z+fP0f/Tj9jv0F/mL+5/4B/7P+K/5I/vz+uv9dAIYAkwCGAI0ApACxAK4AdgBhAFIA4P9i/+v+Z/5f/hP/AQB1AEIAy/8v/+7+hP+hAFEBrgH0ARgCdQJrAjwCGgI7AoQCHwKeAZ4BhQEKASQAQf/3/hz/AP8v/jv9DP0m/Sj9D/0I/Un90f1r/n7+Gf6u/Yn9o/2f/WP9l/27/Qz+Of6O/TD9X/31/Uj+7f24/en9Nv55/nn+V/5Z/qP+Gf/4/tH+U/8OAHMAlADaAB4BCQHLAJQA3QBtASYCKgJ/AUcBOgEhARwB7wCsAK4AWgEGAh8CnwFJAQgBSwFdASsB0wDnAGYBPgGdAPL/Sv/3/vz+0f7X/rH+sv5F/lP9yPzO/IP9Gv5i/tb+u/53/n/+mv4e/73/kQBiAd0BaAKbArcC7gI0AywDhQJ8AggDIAPfAgMCcAGWAbYBSgEzAGz/0/8PAJf/xv5E/mf+Z/59/nP+Hf6a/or+O/7k/bL91v0B/i3+Zv5k/sT+f//v/+v/k//U/0MAWgD2/8z/0AApAlUCfAEGASgBZgH1ACoA4v+PAPkAmwDx/43/jf/W/wAA5f90/1z/jP8P//T+q/+uAAMBSADz/1AAGAEpAd3/ff5B/qf+6f6P/vz9XP2T/Z7+AP9e/vT9yv4LADYB7QERAqwC2gMWBLcD/AOXBMYEzwPfAlAC+gE8AvYBVQHgAFoADgAmAP3/Bf+8/RD+LP9I/xP//P7i/kP/fv8O/+z+Q/+u/0D/uf7u/gP/rP4+/rz9Kv1t/Wj+Cf8F/9j+dv5h/nb/tAD7AAgBywFFAlcCkQKaAuEBxAD9/5v//P97AOn/Jv4//Rf9E/0A/e38p/yO/F39f/4E/4z+yf3W/Q3/NADrAGMBEQJvAjICNgIkAn4C4gIdAxcD2QIdA/cCLwJmAXsANQC+AFQBPQFxAFAAVQDX/2D/aP/L/xUAv/9H/3r/KADMAE8A8/+GAOsA3gAQASEBUgBG/2b/nv8c/2L+Gf5L/iP+qf0m/Sv9p/3x/R/+vf6e/xwADQATAEEAhgAOAZwB6AGpAfgA+AA9AVcB8AB5ACoAUAA3AHX/0f6U/qL+EP6y/Rz+ef5s/oD+tf7L/vX+hP8gADkAMwCNAK4AuwDSAE8AMQB6AIUAGwDf/3EAewA9AAUA+f8pAGUA1ADwAMoAlAAXAMT/AwBUACMAxf+z/7f/kf9p/wD/av4r/gz+f/72/hz/2f57/kH+SP6d/vT+L/+s/1gA7QACAc0A4gDGAEcB+AELAscBRgLcAmECkAEMAQAB6wCbAKIAswCBAG4A5P8n/87+t/7X/iP/o/9i/9X+yv65/nn+sv6P/y4ARQB4AJ8AnwCrAN0AlwAtAJ4AGQEeAdQArgBfAOz/AQBxANwAsAAnAMv/nv/Z/+b/0v+y/6b/AgBNAHsAGwB4/zT/PP+w//P/v/9h/wH/Z/7a/Zf9U/15/RX+qf7p/gD/KP9O/6r/5v8HAGIA/QBtAeQAQQBrALkAxACqAB0BBQJ2AmMC7QHBAYABywBhACMA0f92/xP/vP4v/pf9MP15/XL+IP+m/zkA4wBgAZ4BRgJoAtoBoQEjAkUCxAF1AdMAIgCa/37/yv+y/zn/r/6z/ur+uP5E/vz9NP6S/hf/uP9CAJQA3wDTAIsAWgClAOMA0gCMAPH/f/9M//b+p/44/gj+Kf5u/vv+mf/m/9n/tP/M/5QAMgEyAS8BQgF3AVoBKwHsALEAvgCLADAANABWAFkAvv81/wX/U//m/+3/lf9i/8D/WQA2AOj/m/9+/9D/DwAhAAoAHQAwAPL/5P/r//f/sf9g/63/QADFAIsAOgA/AIIAigA8AEEAZgCzAKwAdAB0AHgAQADv/5//TP9H/4//wP/U/5v/Rv8//1z/qv/e//D/FQAmAD8ApQDwAN8AOQD7/z0AeQDEAKIATwDm/8T/0v///y8AEQCI/yL/m/8pACgADgDR/77//f91AMsApQBxAK4AFQFPAQIBkgBTADQArv8m/w7/Kv/i/pf+gP52/pr+5P5K/6z/BABVAIcArgDjAPMA9wD9AOUA+wAdASwB+AB1AAIAvv/U/////f/i/8f/wf+o/27/Sf9h/7j/FgA0ABwALwALAM3/pv/B//j/sv+V/4v/c/81/wT/3f7I/tz+/v4a/xv/HP8N/w7/Zv/t/0oAmgC7AM8A4AAyAZUBbAEjAfcAzAC+AKwASQCb/zT/Av/E/sz+Av8F/6T+tf4A/x3/mP88AJUAdQBzAJgAqgDaAM8AjACRANIAzABiACoAEwDX/9b/BwAPAD0AdgBbAAoA//8tAFQAaQCRAIQAWwBWAEIADwDJ/2D/FP8Z/yD/IP8x/2D/LP8Q/1j/wP/2/+z/PQCSAM0A8gCtAGIAUgB5AJEAogChAHUAewB/AHUAZQBsAF8ACAARAGsAkgCeAG0AKAD9/0AAtgCSAIUAeAA/ABAAz//L/83/wf9r/wP/G/9C/yP/Iv87/2L/e//s/1AARwAiAAUASgCLAMUA3wC9AK0AgABYAFMANwAiAPP/zf+l/7P/6P/N/6D/df+F/7b/6/8KAOD/0//J/9P/7f/2/9H/df9h/5X/n/+r/5v/eP9S/1j/xf/X/+T////d/8P/CQCgAN4AkQAwABsARgCbALMAZwAWAAMA3P/E/6T/pf+K/yL/Bf8L/yr/SP86/xb/A/9N/8//FgAJALP/lf/W/zUAeABcADwAKgAFANn/zf8DACEA8f+7//D/UABpACgA/P///wcAPQCRAH4AQgAmAPv/7P/o//H/+//r//v/DgAXAAgA2v+//9b/AQAhAEgAXABVABoAFgAKAAgAIwA9ACgA8P8kADYA/P/P/8r/+f9IAHIAegBgAG8AkgBYAG8ApwC2AJoAbwBYAEYAWABYAAIAv//l//n/0P+7/9j/vf+o/7P/uf/H/+//DQAHAPv/DwBTAEwAKAAeAC4ALQAAABcAawCFAE8ALwBAAFQAUwBYAEYADgAUACAA8v/a/+v/yf+z/7v/rv+s/9D//f/f/7T/4P8QAAcA6//2//f/FgA3ACoA///z/xEABADo/w0AKgAJAN3/0P/9/xoAPQBFACkAKQBPAHUAcwB8AGMAJAD//xMAFQDz/8r/v//S//L/6/+4/5L/mf+f/5f/yf/5/wkA6f+q/7//9/8kADsAGwAPABcAJgA2APn/v/+9/8v/u//G/wMABQCs/2n/iv+T/73/y//D/7b/vf/x/wUA8f/L/5P/mf/W/+b/9//R/6j/aP9j/67/yv/R/9T/uP+e/8b/+f/p//f/EQAYACYAKAA1ADYALAA8AFUAfwBlADsAGAAkAD0AUABUAFQAMQAXAAoA/P/4//j/9v/z//X/8f/4/wsAGADz//j///8uADkALwBPAE8ATABSADcAJwAdADkAMAD8/xoAJgAUAOb/w//F/+L/KABCABAAAwAnADcAFgANAAkACgD9//b/9v/y/9r/t/+N/3H/hf+h/7r/3v/r/+n/6v///wUA/P8EABcAUgBoAHQAYwA9ABwAAgATABgAUABgAEcALwAYAB4AHgBCAGsAUwA0AEgAWwAbAAAA3P+t/77/xf/N/7D/uf/W/7T/mP+b/7P/uv+9/9r/+f8bAEcAPwAaAAAA9v8uAEUAKAAbAP7/6f/L/8X/of+S/63/s/+r/63/wf/L/6j/sf+4/8v/FQAnABQA//8QAC4AEADj/9//AwARAAEA+P/r/wcA5v+x/6r/xP8DACYALwAiAC4ATAA1AD0ATQA5AE0AbwBmAGMAXABVADMA8P/4/w4AGgD9/+z/0v/R/9b/t/+n/7P/3v8DAP7/CgANAAgA6P/a//b/AQARAPz//f/e//D/+f/a/9T/xv/1//7/CgBAAEkAVQBJADwAVQBnAHUAbQBWAFkASgAwABcA///R/63/vf/L/77/xv/U/+b/4//g/wAAAQBGAFkATQBWAFQAVQAvAPb/+//3//z/FAAYAAgA1v/R/9D/yv/d/wkAEQAOACcAMwAnAAoAEQALAAAADQAjABcA/f/k/93/yf+l/5//o/+R/6H/xP+4/9b/5P/e/8//6P8UABEADwApAE0AKQAsAB4AAwALABoACAD3/w4ALwAIAN7/w/+s/7b/uP/N/9z/9v8TAA4A4//o/xsACwADAAQAGAAWAA0A/P+//7P/z//z//f/6f8kACYABQAPAPj/5v/j//P/1//S//D/EAD7/9n/4v/z/+z/3/8EAPv/DQA5ADMAIwAWACIAIAD+/zAARwBMAGUASAApAAIA9f/9/9H/2f/5//P/3v/i/9b/3f/K/83/6v/j/w8ACQDv/wkAFQACAOL//f/+/wgAAQABACIA///x/+v/1P/P/9z/5v/j/+v/+P/5//n/AAD3/+X/9/8gACcAFQAeACQAFgD5//L/BAAAABEADwD1/w4AHAAdAPP/4v/9/w4AAAAUAA4ABwAWABYABAACAAsAKgAvACYAQAAuACkAGgADAAIA/P8eAB4AHgA7ACoAEwD9//7/5P/Q/+D/AQARAA4AHAAQABUA+f8QACwALABJAEIAPwA3ACYACQDc/9j/4P/o//H//v8DAOX/4//W/9//1P/1/wMA+P8WABUAMwAYAA0AFwALACMAIQAqAB4A/f/y/9L/xv+s/67/uP/M/8//z//D/7L/s/+n/6X/uv/e////BwD/////8f/e/67/p//Y/+X/9v/f/8f/v/+w/7T/pP+j/8P/yv/a//b/DgAEAPj/CAACAN//AQAsADoARQA1AEoAIwD8//f/5P8QAB0ALwBAACkAGwDq/9b/2v/i//b/GAAgACkAIAAWACIADwD7/wsAEAAxAEgARgBMADwAIAATAP3/BQAYADAAQgBgAEMAKQAaAO//9v8FABsALABPAFYASAAvABwALwAiACAAJgA3AEMAOwAdAP//2P/q//X/+/8aAAoAHQBAAAgA8v/p/+L/DQAAAAMAGgAbAAsA///w/+z/9f/4/wAAFAAvACYALgApAA8ABQAAAPX/+//7/wsABwADAOT/uv+5/7r/uf+x/6D/pf/M/8b/vf+y/7n/tv/F/9f/yv/c/+//5v/T/+P/zP/K/9j/y//c/+n/6//a/8D/uf+6/8v/xP/Q/+//6//q//b/8P/X/+T/5v///woAAQAVABQAAQDo/+T/0//e/wMA///+//7////z/9D/0P/T/93/6//7/wUAEAAIAPj//v/7/xoAFAAcACoAIQAwACYANAAYAAQAHAAdAC0AKAAdACoAIAAaABcADwAgABgAHQAPAA0A/P/p/+r/AQD8/wUAEQAIAPv/5f/r/9//4P/c/83/0v/k/+b/9f/m/9P/3//k//P/8P/w/wgAFQAaABwAFQAOAPz/9f/+/wMAEQA0ADwARQA/ACAALAAkACQAKAAsADEAPAA0ABsALAApABAACAD1//3/DwATAB0AGgAbABsACwAHABgAAgAVABoAEQAYAPX/EQABAOb/5v/y//f/6P/7//X/6v/s/9z/4//o/+j/7//5/+v/7f/3//H/8f/3/woAAAD3//v/2f/i/9D/3v/z//j/AQAOABAABQAHAAoA//8HAAQAJgAqACwALAAeABoAEAAVABYAEwAUAB0AKQA3AC8AKgAYABEACQAUABoABAABAAcACQAFAAMABQAVAAEACgAQAA4ABAAOAB0AHQAcAAUACAD9/+b/8f/p/+L/6v/m/+n/1v/m/+b/4P/t/+//9//8//j//P/7//z/AgDd/+r/7//i/+T/8f/m/+j/9f/p/+L/1//T//P/4v/q//3//v8DAPz/EAALAAcABQAFAAoABQAFAPX/8v/1////+f8EAPj/7P/1/+b/6//4/+//+/8CAPz/BQD2//b/AgDx/woAAgANAA4A+/8HAPj////g//n/CwDk//j//f/3//f/8v/v/+3/8P/y//L/8P/t//z/CQAkABQAFQAFAA4AFAAJAB0AHgAYABAAHAAgAA0AEQAYAA4AFgAYABMAFwAuACMAFwAeACgAMwAnADcALAAgABwAFQAXABgANgAhABwAJAABAP3////r/+b/6v/2/wEA6v/p/+X/5v/o/9//4//o//v/AAD+/+//7//w/+3/5v/m/+n/7//3/+L/6v///+//9f/2////BQARABsACwAQABwAEQAWAP3/CAAHAAkACwAWABQADQAbAA4AIwAcACMAIgAgACYAHQAmAB0AHAAWAAIABwD9//v//v/4//j/6f/8/wUA/P/3//f/9f/t/+T/4//+/+z/0f/g/+b/2P/d/9z/0f+9/93/0//Z/9L/2f/w/9b/5v/f/9f/0v/e/+3/5f/j//X//v/r/+n/8P/3/+n/8//r//3/+/8DAAcA///3/wsAHQAjAC8AMAA8ADAALAAqACgALwAqACYAMwAuABoAIAAXAAAACgAVABUAGwAKAAgA+//y//j/3//d/+v/8f/w/wIA///j//P/6P/s//3/7P/3//P/8//f/+P/6f/r/+z/7f/x////BAAIAPX/+/8OAAkAEwAeAC4ANQA0ADcAJwAsAC0ALwA7ACIAJwA2ADkAIwAYAB4AGwAXAA8AEAANAA8ACwAQAAQAAADw/9r/2f/i/93/3v/c/+r/7//1//X/6v/y//f/DwAJAPn/+f/v/+P/5P/k/+n/0f/T/+j/4P/e/+j/6f/o/+n/+//7/wUA/f/8/wEA7f/o//f/AQD4//P/CAAVAAkAFgAcABMACwAFABgAEwACAAkAEQAKAPb/AgAKAAcADgADAAoABwD+/wUA+f/5/wMACAACAP7//v/y//v/8//x//n/6f/j/+b/7f/a/9f/1//P/93/0//X/9T/0f/X/9T/4v/l/wMA/v/1////DgAPABEAJwAbACMAFgAbABsAFQAkACMALQA5ACMAJAAgACQAEAAIABMAFwAUABwAIwAYACAAEwAQAAsAKQA1ACkAMAAmABoAFwADAAAACwD///n/AAALAA8ACQANAP3/8f/r/+T/8//l/+b/DQAAAPP/8f/3//H/6P/3/wcA/f/1//n/5v/f/9H/2v/U/9f/1P/m////5v/r/+z/6f/r//L/8v/q/+P/7f/1//f/7//+/wAA8/8CAAgACgANAO//9f8EAOz/6//2/woA+/8DAPz/9v/4/+3/8v/4//L/6P8AAAsA9//7/wMABQD2//z/7f/j/+X/3P/w/wEA8f/1//z/6//t//z/+/8AAPn/8//t/+L/7P/o/+r/+P/7//7/AQAdACkAOgAkACoAMwAtADEAKAAvADAAHgAgACYAHgAgADEALgAuADkAJgA0ACQAIgAoACkAHAAbAB4ABwAIAAcAEQADAAQAGAAXAAUAEAAKAAgABwDw/wIACQDy/+z/7f/p//b///8NAPf//P8HAAkACgD3//f////r/+n/6v/c/9f/5P/2/+n/3f/f/+T/6//2/+//8f/a/9P/1v/N/+n/0P/W/+X/3f/3//X/8//x/+r/3//e/+j/7//x/+r/+////wEACQACAAcA9/8DAAoA+/8FAPH/7P/l/9z/5v/a//P/8v/y/wAA+P8CAAMA+P/+/+v/5f/z/+z/8P/3//L////s/wQACQAVAB4AIgA1ACgAHgAkABwAHQAmAC4AJAAgADsANQAjACcALQAdAB4AHAAiACMAGAAVABQADwANAA4AAAABAAAAIAAbABEAJAAkABsACQAEAAsABQD//w4ACQD+//z/8//2//P/6f/k/+3//v/8//n/8v/e/+L/5f/4//7//f8AAP//BQADAAQAAwD7//7/+//+/wAA9//9//n/8f/4//j/8v/z//L/7//k/97/9//3/+L/5v/o//D/7f/y//7/DgAKAP//EwAYAAcA/v8EAAkA/f8HAAEA/P8HAAEAEwAJAAEAFwARAPv/BwAWAPv/+f/z/+j/2P/W/9z/1P/X/8n/3v/j/+L/7P/o//3/7f/x//j/9v8FAO3//f/8//D/+P///wgAAwALAA0AGwAkACIAIgAvABwAHgAsABgAKAAhACAAIgATABMAGwApABYAFAAhABUAGgAkACcAFAAJACYAEQAWABsAFgAeAAEACQACAPb/AwD1/wAA/v/o/+//8//9/+n/6//q/9j/8v8EAOj/7//r//D/8f/o//z/AAD1/+P/7/////n/CwD///7/CQD+//3/8//y////6f/3//P/3v/1//L//P////D/BAD7//f/CQD8//X/6f/q/wgA+f8DABUAAwAHABAABAD4/wcAAwD//wIA8v/1//v/8v/g/+L/6v/a/+X/7P/p/+//AQAAAPz/AQABAPf/+P8BAOj/8//j/+n/6v/Z/+n/6//z/wIA+//2//n/CAAEAP//DgADAPz/DwAUACEAEQAOABgACwAPAA4ACwAdABEAGgAhABAAKQAOACEALgAWACcAMwAwAD0ALQAUAB4AFwAmACAAIQAjACAAHQAWACYAHQAKABEAEwATAP//AQABAPL/+P/8/+b/7P/s//H/+//w/+//9//r/+L/7P/p/+D/5v/d/9r/4//s//7/BQAPAAEABAD//wgADwD3/xEADQAOAA8A/P8NAAgAAwAYABUAIAApABUAGAATAA4AFwALAAEAAAD///b/9f/+//z/+P/7/wIAAwD5//z/8//q//D/8v/l/+T/0//Q/8z/0P/N/83/1//D/9L/0P/S/+D/yf/j/+P/0P/q/+v/4//m/+z/+f/s/+v/8f/z/+//9f/8/+j/6v8FAAsAAAAOAP3//f8TABEADQAOABEABQAEAA8ACQARABoADgAcABAAAAACAAAACwAQABUAFgAPABcAEQALABoAEwATAAsA+P/+//f/AwAAAPf/BADs//v/BwD7/xcAIgAiAA4ADgALAAUAEQAPAAsACgARAAIABQAQAAQA///8/w8AFgAXAA4ABQANAAgABwAWABsADwAjABoAIQAoACIAHQAWACMAIAAVABUABwAHABsACwAgADAAJgAnABYAMAAiAA8AGwD5/wMA8P/m/+j/1P/e/+P/3//m//3/BQD9//D/7//r/9//8v/j/+r/8P/x//n/5f8FAAIA/f8LAAoA/f8BAPz///8JAP7/EQANABAADgAjACIAAQAPABAADQAPAA0AFAAFAPf/AgD8/+j/9f/2//b/7P/7//3/6v/s/wUABQD8/wcADwAKAP7/+/8CAPj/CAAFAP7/AwD9/////v/5//7/CAD8//j/8//x//L/7//f/+z/6P/P/8//0P/H/9j/4P/j/9//3P/M/83/5P/P/+P/4//f/9//yv/a/+n/y//l//3/8v/q//f//v8FAA0AFgAFAAoABwAKAAgAFwAaACcAJgAgACQAIQAbACoAIQARAAoADQABABYAFgARACAAAwAUAP7/CwAEAAAAEAAFAAoAEwAYABMAFQAhABsAGAAiABoADgATABEAHAAUABYAMwAxABwAJwA1ACAALAAoAC0AHQAhABUAFQAmACAAIQAsABsAHgAvADkANwAzACIAKAAnACwAIQAjABAABQAcAAgAAwD+/wIACAD9//D/2v/k/93/1v/f/+j/2v/o//P/3f/P/9H/4P/P/9r/6P/S/9f/0v/c/9z/3P/Y/83/zP/J/7H/sf/L/8n/y//G/7r/0//U/97/3v/e/+j/3f/S/9L/2f/c/9D/1v/m/9n/0f/p/+v/5v/w//z/8P/s/wMA8P/1/wUACgAHAA8ABQAHAAsAFwAKABAAGAAVACIAIwAsACQAJgA5ACgAKgAsADQALAAmADUAPwAmACEAKAAsACAAFwAdAB4AGwAXACYALQApACAAMQA0ABoAKAAxADMAKAAdADMAIQAkACQAIwAQAAsABAD///z/AgABAPv/BAAJABEAAwAAABAABwD+/w0AFQANABEABAAOABQAAQAHAAQABAD//wMA+//7/wUACgAEAPv/+P/2//f/AAAAAAUA+//7//z/9f/1//L/3f/c/9f/5f/m/+L//P/q/+z/8v/5/+X/8//3/+r//v/x//D/5v/o/+n/5f/e/+3/4P/k//D/2v/f/9b/4P/U/9H/4v/e/+r/7f/5//D/6f8FAAEA9v8KAAUAAQD//wEACgD2/wgA/////wgAAAAUABoAEAALABAA//8aABwAHAAiAA8AEwAUAAsAFgAbAAcAFAAQABEAAQD//xsAFwAEAAcAGAAXAAcAAgAPAAIA+/8IAA4ADwAQAAkAAgADAPb/9f/o/+3/8//r//n/7/8BAAEA7//5//H/6v/w//j/6//y//X//f/3/+r/8v/z////6//4//v/7P/2//7/CgAOABYAFgAYAAsAGAANAPj/CwADAAcAAgAIABgAEAAJAA0AAAATAPL/8P8OAOz//f/+//3//v/1//P/BAD7//L/8P/t/+v/6/////D/8//5/+b/7f/l/9H/yv/P/+T/4v/M/+L/3//R/9z/4v/2//f/AAAOAAAABwD9/wQA/P/7/xQAFwAWABQABwAVABsACwAKAAsAAwADAPv/FgAIAAoAIQAUABgAEAALAB4ACQAIABwACQAaABEAHgAhABUAJwAzADEAHQATABoAGwARABQAKgAmAB4AFgATAAsAGwAWAA8AGwAYABAAFQAYAA8AEAAIABQABQACABAACAACAAEAAwAAAPv/BQD8//3/AADj/+T/8f/x//z//P/+//v/7P/2//P/AAAAAOn/4v/g/+L/5P/o//L/6P/i//3/8P/w/wcAAQAHAP7/9////wQA//8HAAEACgD3//3/AADp//7/8P/3//n///8KABUADwAPAAgACAADAPb/DQD9//D//v/4/+//3v/p/+D/0//i/+P/3//e/+j/7P/a/+3////r//L/6f/7/wMA8/8FAAQAAAACAAIABwAEAAgAFQAQAAgABQAPAAoAEwAPAA8AFAD4/wIAIAAUABAAAQAVAA4ACAAWABcADgAEAAsACAD//wQABwAAAPn/EwATABQAFwAIAPv/7f/w/+b/6f/y//f/AgDx/wEABAAHAA0ABAAPAA4ACQAIABMABAADAPX////8/+z/7f/k/+v/7f/o//j/6f/k/+3/3f/t/+//5v/v/+r/7//q//X/8f/z/wAAAwDz//j//P8EAAAA/P8DAAQACwAIAP//DgAAAPn/AQDi//b//v/z/wMA7f/5/woA6v8CAP7//v8DAPv/CAAJAPn/BAD8//n/DwAHAAUAAQD8/w4A//8FAAMA+P8FAPj///8QAP3/FAATAAkACwANACIAFAAWACIAFwARAA0ACgAeABcAFwAaABQAIAAKAAsAGAAWAB0AJwAvACQAIAAnACoACwAXABMACAAkABcAIwALAAAACwADAAgADgAaACEADgAPAA4AEQAaABcAGAAeAA4ADQAIAAEA+//v//X/8f/X/+b/8f/g/+T/6v/3/+r/5v/+//n//f8EAAUAAwD4//3/+P/w/+L/8f/2//H/BADy//L/+f/4//n/+//8//v/AQAFAAMADQAIAPn/6//r/+P/7f/f/93/7f/j/+b/5P/W/+j/8P/s/9//3v/f/+L/3f/c/97/3P/Z/8v/wP/T/83/1P/k/+b/4//l//7////8/wEAFAAFAAgAEwAXABgAFQAXABYABAAWAA0AFAAgABUAJgAWACMAHQAaACEAFAAeACcAGwAYACIAJwAjAB0AGwAVAAIACAARAAoAGgACAAMADQD//w0AAgAQAAkACgAKAAIAEAANAA8ABwADAAsAHQATAAQACgD2/+//7P/5/xAAEQARAAUA/v/8/xYAEQAXAAoAAAD5//n/DwACABEA//8HAAAA9/8IAA0AAQAJAA0AEwAeAA0AHAA2ADAAIAATABUAFwACAAoA+//v//L/9v/1/+n/7/////j/+P8JAP7/9v8CAAMABQD8//3/6//m/93/0v/S/9T/w//F/8P/wP/L/8v/2P/c/9L/6P/c/9H/4//t//H/3f/q/+X/5P/Z/+r/7P/i/+3/4v/k/93/7//5/xEADwD//wIAAgACAAUADgAFAAUACQABAAAAAQAHABAAAgD//wcAAAADAAgAGgAYAB4AGAAdABEADQD+//7/AwD7/+z/6f/r/+n/9v/r//b/6v/8/wEA7/8AABUADwARACAAEAAdACoAJAAhACIAHQATACgAFQAgADAAKQAiABsAJABDADsASABKAEcAOwA8AD8ATwBFADwAQQAnAC8ALwA1ACkAKAAtAB0AHQARABwAIwAWABAAEAATABQAFQAaABMABwD9/woABAABAAAAAQDz/+X/+f/x//L/8f/o/+X/7P/o//n/8//r/+v/9f/y/+b/9/8AAPn/6f/l/97/1v/U/9r/1P/R/9P/2P/S/9L/3//w/+D/1//l/+z/8P/Y/9P/4P/H/9H/4P/i/+D/2v/Y/+P/7P/v/wIA///5/wkADwAIAAMADQANAAgABwD9/woA+f8CAAQA9f8DAAQAFAAQAAIAAQAEAA0AFgAWAA4ABAAJAAEA+P/5/+z/6P/1/93/5f/3/+v/7P/f/+n/7//r//D/+P/8/wAAAQAQAAMAFAAXABMAEwD///j/AwAAAAEAAwAJAAsAAAAFABQADwAOABwADgAQACQALgAnACYAJgAYACEAHgAtAA0ADQAOAAIAEwARABwAFwAUAA0AHgAaABMABAD4/wUA/f/r/+z/7P/s//b/6//r//b/8f/1/+z/8v/w/+3/AgAEAPz/+P/z//H////x//H/9f/t//H/8f/1/+v/8//7//P//P/2//H/8//s//f/9f/2//b/CAAHAAUA/v/4/xEAEAAAAAcA/f/w//v/AwAKAAUA/f8OAA8AEwAkACYAMQAsAB0AJAAiACwAIwAUABUACwAFAAMABQAAAAoABwD8/wsAAAACAAIA/v8HAA4ACQALAAcAAQAWAAgADgAPAAQACgAJAPD//P/+//3/CgABABQACgALAAgA+f8OAP//DgAQAAkAAAAWAA8ACQAQAAEA/v/4////CAATAAQACQD3//H/AQDz//H/AgD4//b/9//k/+z/4P/c/+X/2v/3/+z/6//5/+P/6v/r/+n/4//r//b/7f/z/wgA/f/7/w0A+f8JAA8ABQD+//f/9f8FAPj/6//4/+3/7f/i/9//5P/q/+//+P/i/+P/+//s/+v/8//z//j/AAD9//7//P8NAA0AAAD+//3/AgD9//f/7//+/wIAAgD4//7/+P/x//3//P8FAAcACgAFAA0ADwABAAkACQACAAgACwADAPf/9f8JAAoA//8HAPz/BwARABQAFQANABAAFwADAB0AGwAQABUACgAIAAQAHQAdABwAGAAgACMAGgAcADQAJgApADMAIgAcAA0ACgAFAPP//P/3//P/8//t//z/8P/w//X/+//7/wUAAQACAAcABAAQAAAACwAFAP7/DQAQAAsAEQADAPz//f8EAP///v/y//n/+/8BAP//9v/2/+v/9//3//L/9v/5/+3/8P/v/+X/6v/t/+b/5v/x//z//f/v//7///8LAA4ADQAKAAMACAAFAAMAAQAJAPv////9//z/DQAJAAkACgAEAAIAHgAFABMAIgAeADMAEwAOAAsAAAD+//3/8v/p/+r/8P/3/+D/6P/q/+r/7f/m//z/+//2/+r/8v/1//P/+P/7//b/9/8DAAkAAAALAAEABQARAPz///8PAAcAEwAXAAkAIAAaABEAGgAJACkAFAAeABsADgAmAAIABQAFAAIADgAKAA0AGgAVABMAJAAeACAAEAAhABEAAwAEAP//AQD5/+z/5f/s/9//3v/f/9n/4P/k/+n/8P/d/97/6f/i/9T/0//T/+D/3P/X/+D/0//d/9f/w//i/+r/5v8JAOj/5f/+/+//AADz/+r/6//k/+v/8P/v//b/CQAAAPb/CAAAABcAGgATACAAKAA7ACkAJgAtACAAGgAVABsAHAATABwAFAAJAP//9v/1//n/AwD4//3/FwAYAA4AGAAVABUABwD//w8AAQAAAO//8//2/+3/6//2/wMAAgANABQAFgAXACIAJAAnABYABQAbAAIADgAJAAkAEwAJABAAEAAJABMAEwANACAAFQAWACgAJAAkABwADQAFAPz/+f8FAPP/6//q/+P/6//m/+T/5v/W//L//P/v/wkAAAACAAcABwAHAPL////4/wcA///z/+v/7//w/+3/+P/o//X/7f/o//H/6v/7/wEA5P/8/wMA8v8KAPD/+P/5/+v/7//j/+b//P/v/+3/8v/2//X/8v8HAAQA9f8OAAgA///2//b/+P/o/9j/1v/a/+L/6v/q/+T/8P/y//z///8EABMABAANAAUACAAiACAAMAAnABgAEQAIABUAFwAIABEACQD8/xgAGAAhADkADQAXACEACgAgABYAEAAOABMAFAAEAAgAAgD4//n/CQAFABYAFwADAA8ACwD4//j/9v/8/+z/1P/w/+D/2f/W/8P/0//S/9b/3f/l//j/8P/j/97/6f/s/+v//P8AAPf/8/8JAP3///8FAPz////s//3/BwD//w0AAQAJAAkADwAEAAMAAwADAAQA/P8KAAAADwAXAAoACgAAAAUAAwADAO//BwAEAAAA8f/c//L/3v/1/wAA9//y//P/9v/m/+b/6//4/+z/3v/x//3///8BAP//BAAaAA0ADgAeACIALAAWABMABQABAA8ACwAJAA8AGwAUACMAJgATACAAIwAjACcAFgAhACAACgD5//z//v/+////CQAHAAMABAALAAoAAAAHAAsA6//z//f/+//y/+r/9f/x//f/5f/o/+3/7P/l//H//P8BAAQA+//2//X////2//v//v8BAPz/AwAVAAAA+/8HAAEABAD//wEADQAKAP3/9f////n/+//v//X/BQAOABUACgD5/wEABwDk//P/3v/Y/9z/z//N/9D/5f/U/9L/wf/E/7v/v//P/9b/0f/W/9j/2f/F/8n/2f/Z/9f/0v/P/9f/2f/q/+r/5v/o/97/8f/x/woAEwAaABoAFAAYAAkAEQAJABMADwARACIABwAXACQAIQAnACAAKgAnAC0ANQAxACwAQwA0ACIAMAAiACIAIAAWACYAFQAHAP3/+f/+//v/AwACAAsA+f8IAA0AEwAdABEAFAAPAB0AGAAXACMAHgAXABoACAAJAA8AAwALAAsA9/8EAAkACgAUABYAFwAPABYAEwAaABcAEwApAAsAFQAcAAIABAALABAAEwALAAcACwAJAAcADQAFAP//8//5//f/6//q//b/9v/y//X/+P/8/+n/8//p/9f/z//m/9r/1P/Z/9//2v/T/8n/yv/M/9T/5f/i/+j/3P/Y/9L/y//U/9j/3//c/9z/yv/X//L/9f/2//z/CwADAAMAEwAXACIAGAAUABQAFAAmABEACQANAAQADQD8/wIADwAUABAACQAIAP7/8v8AAP3//v/9//v/CgDy//b/9f8CAPn/+P/3//7/BwD//+3/9//y/+3/AQD1//7/5f/r//L/1v/g/+j/8v/5//3/8v/2//P/AAAFAPj/+/8DABUAAgAVAC4AGgAeABgADwAiABwAFQAVABAAAAAHAP7/+P8BAPz/DQAIAPb/AgARABoAFgALABcACwAVABMABQAIAAgACQD///f/AgD5/+r/AgD2//n/AQAKAA4AAgAVAAAACgANAAkADgALAAkAAgD7/xYAFwD+/wQACQAAAAIAAQAJAAQABAAEAP7/BQAOAAAA8/8JAPv/8P/7//b/8P/w//7//f/3/+//9f8FAAUACgADAP//CAARAAgACQAOABsAFgAUACEADQAVACEACwAXABsADgAYAP//CgAdABEAHQAJAAUAFgAVAA0AGwAiAAoACAAQABQAFAANABUACwAAAAgA/P/1////8v/i/97/8P/e/9D/5P/o//P/5v/e/+r/4v/d/93/zf/Z/+X/2f/l/93/6v/e/9L/2f/g//L////8/+v/6v/2//H/7//1//D/6f/d/+L/6P/7//j/4v/5//3/CwATAAsAFgAIAAIA+f/+//7/AAAAAAQADgALABUAGgAQAAgACAABAA8AFwAgACAADgAJAAsAAgACAAUAGAATAA0ACwAXAB4AFgAjABgAFgAWACMAFgD9/w0A+//w/+n/6v/8//3/8v/3/wUABQALAP7/CAAHAAcACAAUABoADQAOABMAEwACAAIA9v8PABEACAAsAB4ANgAhAB0AIAALAAUA///8//z/AAAOAAgAAwAFAAIAAwDw/+z/6//p/+//9//9//X/9//s/+X/9f/8//D/AwD///X/7//7/+//3f/s/+D/3f/j//D/3//s/+3/6P/t/97/6v/7/+v/8/8FAAkABwD///z/9//3//f/8v/z//v/8f/2/w0AAQAEAAEA//8BAPX///8DAP7/+P////H/DQAEAOv/9//2/+T/3//f/97/2f/t//v/8f/2/wUAAgD7/w4AAAD7/wEABAADAAEAGgAQAAUADwAKAP//DQAXABoAJwAnADkAIwAnACIAHgAhAAgAFQAPAAgABQAFAAEACAD8//f/CwALAP3/AQAFAP3/AgADAPn/+//8/+v/CAABAAQADwD+/w0ACwARAA4ABAALABYAEAALAAUAIgAaAA4AEAAYABsAEQAgACEAGwAUAAEABwD//wsAEAAAAAMA/v8LAAQA+f/1//3/+//q/wEA8P8JAAUA8P/2//D/7P/j/+v/BAD3//P/AAD7////DQACAP///P/7////DgAaABMAIQAPAAMABQAFAP7/8P/1/wMADQAOABYAIgARAPz/+f/1/wEABQAAAAoABAD1/woA8//w//H/7/8CAPj/BAAUAA4ABQD7/wMA+P///wcAEAARAAUACQD9//j/8f8DAAcAAwANAAoAFAACAAgADQD2//7//v8CAP//AAAAAAMABAAKAAMABwD4//3/AQDm/+n/8v/3//b/7//s//H/5v/p/9n/8//o/+v/9f/j/+3/7//g/9//+f///wIA8f/x//H/4//c/+v/8P/s////7//p/+b/9//q/9b/2P/p//f//P8KAAMA9f/y/9//7f/o//H/9f/8/wQAAgADAAUA+//w//f/+P/2//b/AwABAPv/CAANAAsAGAAKAAAACQARAB4AGgAdABcAFQAUABAAIQAOACQAPQA1ADQALAAjABwAJgAqACkAIwAjACcAEAAIAAkA+f8CAP//DwAPAAAACADs//b/7f/y/+z/8f/x//X/BADz//P/5P/r/+X/3v/s//3/8//+/wUA+P/t//b/7f/q//H/BAALABEABAD+//3/9v8LAP7///8bAAAAAQALAAsACwAOABEAEAAIAOr/6//g/+P/7//i//f/AAD+/woA/P////f/8v8AAPj/7//+//n/9f/r/+L/7P/m/+n/8v/3/+///v/r//D/4//N/+P/6v/s/9f/7f/q/+b/6f/r//3/9//w/w4ABADx//7/+//z//L/AwD7//3/9f/9/wMACAAHABwAIwAUACYAFgAbACgAHQAjACAAGgAYACMAKAAxAD0ANQAmABoAFgAUAA8AHgAjAA0AFgAUAAsABwABAPz/8v/8//7/6v/g//j/8f/g/+v//f/7//X/5f/r/+r/8//8//j//f/3/wcACAD2/+3/5v/T/+X/6v/2/+//7/8CAPf/+f8JAP//+P8EAAoAAwABAAkAEAAaAPv/BQD///7/CAAEAAEABAAHAA4AAwDv/wMA/f/v/wQA8//v/////P8JAAMABAAOAAAADgAEAPX//v/2//H/9f/7//H/9f/1//X/+P8LAOz/4P/2/+3/9f/2//X/AADy/+v/9v/8//H/+P8WAAUADwAWABUAFQAIACAAFAAIAB4AJAAiABcAFgAiACEAGgAgABAADQAmABsAFwALAAsAEAAYAB0ALgAkACEAIwAhAC0AKAAuACYAJwAiACYAGgAVABcAFwAaABQAIgAhABAAGgAWAAsAEQAAAA8ADQD5/xYAEwD2/xQADwADAAEA8/8CAAIA7//1/+//6v/m/+n/4//p/+T/6f/k/9H/1v/m/9j/5P/e/9b/5v/M/9r/4v/N/9f/3f/M/9L/6P/T/93/2v/d/+b/4//t//X/8f/3/wQA9f/7/wMA+P/1/wAA7f/1//n/8f/9//b/+P/3//P/+f8JAAIACgAdACQAKQAaAB0AHAAQABsADgAJAB4ADQATAA8A/P/x//X/+f/9//3/BAAIAPD/AwAIAAUABwD1/woAAwAHAAoAAAADAP3/9//x//P/6/8CAA0ADgARAAsAFQAgAA8AGgAkACMAJwAaACkAFQAHAA8AGwAUABsAEQAYABYADwAhAA4ACwAYABMAEAADAPn//v/9//H/7f/+/wMA+f/r//n/4P/S/9r/0P/R/+D/2f/Y/93/1//S/97/6f/2//L/9//2/+P/6P/g/+z/9v/o/+j/7//q//X/+f/8/wQA//8CAAAABwAJAAQAGwAJAAEACQAAAPz/CAD//w8AJgAcABYAEwACAA8AHgAcAC4AFgAJABAABQD3/wQA/f/4/wcA8f/y/+D/7P/9//P/7//g/+v/7P/a/+v/6v/r//H/+//+//z/9f8EAAMABAALAAgA/P8OAB4ANAAsABMAHQAQAAcAFwAcAAoAEQAKAP//AgAFAA0ACQAYABMAEwATABQAIAAaABAAFAAPAAQAAwD//+z///8FAP3/BwD7//v/8f/1//z/+f/1//n//P8BAAoACQABAO3/CQAFAP7/BQD1//7////z//H/4v/i//H/+//5//b/+f8KAA4ACgATABoAHgAPAAIAFQACAAAABQAEAAcA/v/9//n/8v/y//D/9//2//3/BAD9/wIA+f8OABsACgAXAP3/DQD8/+r/AgDi/+n/AAD7/+///P/x//P//P/t////CgD4/wIA/v/8//z/+P8CAPn//v8BAP7/AgD4/+z/BQD8/+v/DwD9/xUAAAALACgACAAxACEAHAAbAA4AGwAYACEAFQAQAA8ADwAKAAQABQAIAP3/EQAWAAgAAgD4////CAAAAPb//v/t/+v/6P/d/9n/4v/P/97/9//k/+b/6P/e/+D//P/v/+P/6P/r/9z/7f/w/+3/CgABAA4AGwAXACwAOwAgAC4APQBBADsAMwAtACMALAAuACAAKgAWABMACAACACMAAAAHAAsAAwAWABoAFAAEAAUAAQARAAcAAAAEAP3/6P/m/9r/z//i/+r/3v/x//z/4//a/9r/2v/q/9j/2P/t/9f/3f/1/9//6f/v//D////r//f/9v/3/+//7/8EAO3/AAADAA8AFgAQACEAFgAQAAkABwAXAAcACwALAPL//v/9/wIA//////j//v/q/+z/AAD2/wEA+P8IAA4A9f8BAAMA/P/2//b/+P/8/wMAAQD3/wIABAAEAAQA//8HAAoA/v8FAAkA9v/z/wgA9f/4/wUA8//r/+b/6v/1//3/AwAAAP//DgABAAgAAgAAAPn/9v/3/+n/5v/c/9j/6P/l/+z/AADr//j/6v/q//z/+f/3/+//+P/z//D/9//7//n/AAAKABAAFQAOACIAJwAkACoAJAAkAB0AMAA0ADoAQABAADsAHAAtACQAEQAgABoAAwD+/wgAAQADAP7/6v/8//P/8f/q//D/AgAAAO//6v8AAPP/+/8CAP//EQAYAP//8/8BAPD/9//5/+b//f/4/97/AAAAAPX/BwD9/+//8P/m/+///P/+//j/8v/2//f/BAAJABYAGgAOAA0AFgD8//z/9f/y/+X/6f/+//f//v8LAAQA9/8FAPf/7f8CAAMAAwAFAAoACAAEAOT/CAAKAAMADQARAAsACQAIAPD/9/8CAPn//v8OAAQA/v/5//P/+//x/+z/9//l/9P/4P/s/9L/0//e/9f/2P/a/93/8v/o/+X/0f/X/9z/v//U/+n/+f8EAAAA9/8NAP3/CwANAP//CgATAAgACgAVAAUAHQAtABMAKAAuACAAMwAxACgALgA0ACQALgA5ABsAHQAiACAAJwAoACAAIAAVABEADwAOAA8A/f8EAAMABAAEAAAAAQD3//n/+P/w//P/6P/y/9r/wf/d/+r/3P/y//L/5v/v/+z//P/5/wAA/P/+/xgACAAFABwABQATACEAEwAgABUAGwAmAA==\" type=\"audio/wav\" />\n",
              "                    Your browser does not support the audio element.\n",
              "                </audio>\n",
              "              "
            ]
          },
          "metadata": {},
          "execution_count": 7
        }
      ],
      "source": [
        "waveform_first, *_ = train_set[0]\n",
        "ipd.Audio(waveform_first.numpy(), rate=sample_rate)\n",
        "\n",
        "waveform_second, *_ = train_set[1]\n",
        "ipd.Audio(waveform_second.numpy(), rate=sample_rate)"
      ]
    },
    {
      "cell_type": "markdown",
      "metadata": {
        "id": "iWsWgG_xYUaB"
      },
      "source": [
        "The last file is someone saying “visual”.\n",
        "\n",
        "\n"
      ]
    },
    {
      "cell_type": "code",
      "execution_count": 8,
      "metadata": {
        "colab": {
          "base_uri": "https://localhost:8080/",
          "height": 75
        },
        "id": "w6AyMcD5YUaB",
        "outputId": "fb74582c-7f84-45fc-f924-fa272680fad8"
      },
      "outputs": [
        {
          "output_type": "execute_result",
          "data": {
            "text/plain": [
              "<IPython.lib.display.Audio object>"
            ],
            "text/html": [
              "\n",
              "                <audio  controls=\"controls\" >\n",
              "                    <source src=\"data:audio/wav;base64,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\" type=\"audio/wav\" />\n",
              "                    Your browser does not support the audio element.\n",
              "                </audio>\n",
              "              "
            ]
          },
          "metadata": {},
          "execution_count": 8
        }
      ],
      "source": [
        "waveform_last, *_ = train_set[-1]\n",
        "ipd.Audio(waveform_last.numpy(), rate=sample_rate)"
      ]
    },
    {
      "cell_type": "code",
      "execution_count": 9,
      "metadata": {
        "colab": {
          "base_uri": "https://localhost:8080/",
          "height": 411
        },
        "id": "IC172_CtYUaB",
        "outputId": "26f15da8-dddb-4aaf-f7dc-332c1991be37"
      },
      "outputs": [
        {
          "output_type": "display_data",
          "data": {
            "text/plain": [
              "<Figure size 2000x400 with 2 Axes>"
            ],
            "image/png": "[encoded data removed]"
          },
          "metadata": {}
        },
        {
          "output_type": "execute_result",
          "data": {
            "text/plain": [
              "<IPython.lib.display.Audio object>"
            ],
            "text/html": [
              "\n",
              "                <audio  controls=\"controls\" >\n",
              "                    <source src=\"data:audio/wav;base64,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\" type=\"audio/wav\" />\n",
              "                    Your browser does not support the audio element.\n",
              "                </audio>\n",
              "              "
            ]
          },
          "metadata": {},
          "execution_count": 9
        }
      ],
      "source": [
        "new_sample_rate = 8000\n",
        "\n",
        "# 1. Resample\n",
        "resampler = torchaudio.transforms.Resample(orig_freq=sample_rate, new_freq=new_sample_rate)\n",
        "resampled_waveform = resampler(waveform)\n",
        "\n",
        "# 2. Convert to Mel-spectrogram\n",
        "mel_transform = torchaudio.transforms.MelSpectrogram(sample_rate=new_sample_rate, n_mels=128)\n",
        "mel_spectrogram = mel_transform(resampled_waveform)\n",
        "\n",
        "# 3. Convert to dB scale\n",
        "db_transform = torchaudio.transforms.AmplitudeToDB()\n",
        "db_mel_spectrogram = db_transform(mel_spectrogram)\n",
        "\n",
        "mel_spectrogram_transform = torch.nn.Sequential(\n",
        "    torchaudio.transforms.Resample(orig_freq=sample_rate, new_freq=new_sample_rate),\n",
        "    torchaudio.transforms.MelSpectrogram(sample_rate=new_sample_rate, n_mels=128),\n",
        "    torchaudio.transforms.AmplitudeToDB()\n",
        ")\n",
        "\n",
        "\n",
        "# Display\n",
        "plt.figure(figsize=(20, 4))\n",
        "plt.imshow(db_mel_spectrogram[0].detach().numpy(), cmap='viridis', origin='lower', aspect='auto')\n",
        "plt.colorbar(format=\"%+2.0f dB\")\n",
        "plt.show()\n",
        "\n",
        "print(\"Shape of the Mel spectrogram:\", mel_spectrogram.shape)\n",
        "# Listen to the resampled audio\n",
        "ipd.Audio(resampled_waveform.numpy(), rate=new_sample_rate)\n"
      ]
    },
    {
      "cell_type": "code",
      "execution_count": 10,
      "metadata": {
        "colab": {
          "base_uri": "https://localhost:8080/"
        },
        "id": "VEkZYZirYUaB",
        "outputId": "f153075c-fb8f-43eb-d758-4aa5ec1ca9ef"
      },
      "outputs": [
        {
          "output_type": "stream",
          "name": "stdout",
          "text": [
            "Shape of the Mel spectrogram: torch.Size([1, 128, 41])\n",
            "yes --> tensor(33) --> yes\n"
          ]
        }
      ],
      "source": [
        "def label_to_index(word):\n",
        "    # Return the position of the word in labels\n",
        "    return torch.tensor(labels.index(word))\n",
        "\n",
        "def index_to_label(tensor):\n",
        "    # Convert tensor of indices into its string labels\n",
        "    if tensor.dim() == 0:  # If tensor is a scalar\n",
        "        return labels[tensor.item()]\n",
        "    else:  # If tensor is not a scalar\n",
        "        return [labels[index] for index in tensor.cpu().numpy()]\n",
        "\n",
        "\n",
        "word_start = \"yes\"\n",
        "index = label_to_index(word_start)\n",
        "word_recovered = index_to_label(index)\n",
        "\n",
        "print(word_start, \"-->\", index, \"-->\", word_recovered)"
      ]
    },
    {
      "cell_type": "code",
      "execution_count": 11,
      "metadata": {
        "id": "10wdIx6tYUaB"
      },
      "outputs": [],
      "source": [
        "def pad_sequence(batch):\n",
        "    # Make all tensor in a batch the same length by padding with zeros\n",
        "    batch = [item.t() for item in batch]\n",
        "    batch = torch.nn.utils.rnn.pad_sequence(batch, batch_first=True, padding_value=0.)\n",
        "    return batch.permute(0, 2, 1)\n",
        "\n",
        "\n",
        "def collate_fn(batch):\n",
        "\n",
        "    # A data tuple has the form:\n",
        "    # waveform, sample_rate, label, speaker_id, utterance_number\n",
        "\n",
        "    tensors, targets = [], []\n",
        "\n",
        "    # Gather in lists, and encode labels as indices\n",
        "    for waveform, _, label, *_ in batch:\n",
        "        tensors += [waveform]\n",
        "        targets += [label_to_index(label)]\n",
        "\n",
        "    # Group the list of tensors into a batched tensor\n",
        "    tensors = pad_sequence(tensors)\n",
        "    targets = torch.stack(targets)\n",
        "\n",
        "    return tensors, targets\n",
        "\n",
        "\n",
        "batch_size = 256\n",
        "if device == \"cuda\":\n",
        "    num_workers = 1\n",
        "    pin_memory = True\n",
        "else:\n",
        "    num_workers = 0\n",
        "    pin_memory = False\n",
        "\n",
        "train_loader = torch.utils.data.DataLoader(\n",
        "    train_set,\n",
        "    batch_size=batch_size,\n",
        "    shuffle=True,\n",
        "    collate_fn=collate_fn,\n",
        "    num_workers=num_workers,\n",
        "    pin_memory=pin_memory,\n",
        ")\n",
        "test_loader = torch.utils.data.DataLoader(\n",
        "    test_set,\n",
        "    batch_size=batch_size,\n",
        "    shuffle=False,\n",
        "    drop_last=False,\n",
        "    collate_fn=collate_fn,\n",
        "    num_workers=num_workers,\n",
        "    pin_memory=pin_memory,\n",
        ")"
      ]
    },
    {
      "cell_type": "code",
      "execution_count": 12,
      "metadata": {
        "colab": {
          "base_uri": "https://localhost:8080/"
        },
        "id": "NsC8Qg3a44vA",
        "outputId": "d5951b7a-0e4e-4c89-bc34-00f28ed70775"
      },
      "outputs": [
        {
          "output_type": "stream",
          "name": "stdout",
          "text": [
            "2.0.1+cu118\n"
          ]
        }
      ],
      "source": [
        "print(torch.__version__)"
      ]
    },
    {
      "cell_type": "code",
      "source": [],
      "metadata": {
        "id": "WBuxLZQ_yWlr"
      },
      "execution_count": 12,
      "outputs": []
    },
    {
      "cell_type": "markdown",
      "source": [
        "# Nueraspeech model architecture\n",
        "## Acoustic Model (Convolutional Layers)\n",
        "\n",
        "### Convolutional Neural Networks (CNNs)\n",
        "A convolutional layer employs a set of learnable filters, which are used to spatially convolve with the input data to produce feature maps. Mathematically, for a 1D input $x$ and a filter $h$, convolution is represented as:\n",
        "\n",
        "$$\n",
        "y(t) = (x * h)(t) = \\sum_{a=-\\infty}^{\\infty} x(a)h(t-a)\n",
        "$$\n",
        "\n",
        "### Batch Normalization\n",
        "\n",
        "Batch normalization normalizes the output of a previous activation layer by subtracting the batch mean and dividing by the batch standard deviation.\n",
        "\n",
        "$$\n",
        "\\hat{x} = \\frac{x - \\text{E}[x]}{\\sqrt{\\text{Var}[x]+\\epsilon}}\n",
        "$$\n",
        "\n",
        "Where:\n",
        "- $\\hat{x}$ is the normalized data.\n",
        "- $\\text{E}[x]$ is the mean of the batch data.\n",
        "- $\\text{Var}[x]$ is the variance of the batch data.\n",
        "- $\\epsilon$ is a small constant to avoid division by zero.\n",
        "\n",
        "---\n",
        "\n",
        "## Recurrent Layers (GRU Layers)\n",
        "\n",
        "### Gated Recurrent Units (GRUs)\n",
        "\n",
        "GRUs are a type of recurrent neural network (RNN) architecture. The GRU uses gating mechanisms (reset gate and update gate) to control the flow of information.\n",
        "\n",
        "$$\n",
        "r_t = \\sigma(W_r x_t + U_r h_{t-1} + b_r)\n",
        "$$\n",
        "$$\n",
        "z_t = \\sigma(W_z x_t + U_z h_{t-1} + b_z)\n",
        "$$\n",
        "$$\n",
        "\\tilde{h}_t = \\tanh(W x_t + r_t \\odot (U h_{t-1} + b) + b')\n",
        "$$\n",
        "$$\n",
        "h_t = (1 - z_t) \\odot h_{t-1} + z_t \\odot \\tilde{h}_t\n",
        "$$\n",
        "\n",
        "Where:\n",
        "- $r_t$ is the reset gate.\n",
        "- $z_t$ is the update gate.\n",
        "- $\\tilde{h}_t$ is the candidate activation.\n",
        "- $h_t$ is the output.\n",
        "- $\\sigma$ is the sigmoid function.\n",
        "- $\\odot$ is the element-wise multiplication.\n",
        "\n",
        "---\n",
        "\n",
        "## Transformer Attention\n",
        "\n",
        "### Self Attention\n",
        "\n",
        "The self-attention mechanism allows the model to weigh the significance of each part in a sequence based on its content. For a query $Q$, key $K$, and value $V$ set, the attention mechanism is defined as:\n",
        "\n",
        "$$\n",
        "\\text{Attention}(Q, K, V) = \\text{softmax}\\left(\\frac{QK^T}{\\sqrt{d_k}}\\right) V\n",
        "$$\n",
        "\n",
        "Where $d_k$ is the dimension of the keys.\n",
        "\n",
        "### Multi-head Attention\n",
        "\n",
        "Instead of using one set of attention weights, multi-head attention uses multiple sets, allowing the model to focus on different parts of the input for different tasks or reasons.\n",
        "\n",
        "---\n",
        "\n",
        "## Residual Connections (ResBlocks)\n",
        "\n",
        "Residual connections (or skip connections) allow for the direct flow of gradients during the backpropagation process. If $x$ is the input and $F(x)$ is the output after some layers, the residual connection is:\n",
        "\n",
        "$$\n",
        "\\text{output} = x + F(x)\n",
        "$$\n",
        "\n",
        "This ensures that even as $F(x)$ learns the residuals (or errors), the original input is preserved.\n"
      ],
      "metadata": {
        "id": "GcS9MoG6vXhl"
      }
    },
    {
      "cell_type": "code",
      "execution_count": 20,
      "metadata": {
        "colab": {
          "base_uri": "https://localhost:8080/"
        },
        "id": "jmtdK42YYUaB",
        "outputId": "af680c05-2b79-42af-888a-40c886464327"
      },
      "outputs": [
        {
          "output_type": "stream",
          "name": "stdout",
          "text": [
            "nueraspeechASR(\n",
            "  (acoustic_model): AcousticModel(\n",
            "    (conv1): Conv1d(128, 32, kernel_size=(5,), stride=(2,))\n",
            "    (bn1): BatchNorm1d(32, eps=1e-05, momentum=0.1, affine=True, track_running_stats=True)\n",
            "    (relu1): ReLU()\n",
            "    (pool1): MaxPool1d(kernel_size=2, stride=2, padding=0, dilation=1, ceil_mode=False)\n",
            "    (conv2): Conv1d(32, 32, kernel_size=(3,), stride=(1,))\n",
            "    (bn2): BatchNorm1d(32, eps=1e-05, momentum=0.1, affine=True, track_running_stats=True)\n",
            "    (relu2): ReLU()\n",
            "    (pool2): MaxPool1d(kernel_size=2, stride=2, padding=0, dilation=1, ceil_mode=False)\n",
            "    (resblock1): ResBlock(\n",
            "      (conv1): Conv1d(32, 32, kernel_size=(3,), stride=(1,), padding=(1,), bias=False)\n",
            "      (bn1): BatchNorm1d(32, eps=1e-05, momentum=0.1, affine=True, track_running_stats=True)\n",
            "      (conv2): Conv1d(32, 32, kernel_size=(3,), stride=(1,), padding=(1,), bias=False)\n",
            "      (bn2): BatchNorm1d(32, eps=1e-05, momentum=0.1, affine=True, track_running_stats=True)\n",
            "      (skip): Sequential()\n",
            "    )\n",
            "    (resblock2): ResBlock(\n",
            "      (conv1): Conv1d(32, 32, kernel_size=(3,), stride=(1,), padding=(1,), bias=False)\n",
            "      (bn1): BatchNorm1d(32, eps=1e-05, momentum=0.1, affine=True, track_running_stats=True)\n",
            "      (conv2): Conv1d(32, 32, kernel_size=(3,), stride=(1,), padding=(1,), bias=False)\n",
            "      (bn2): BatchNorm1d(32, eps=1e-05, momentum=0.1, affine=True, track_running_stats=True)\n",
            "      (skip): Sequential()\n",
            "    )\n",
            "  )\n",
            "  (recurrent_layers): RecurrentLayers(\n",
            "    (gru): GRU(32, 128, batch_first=True, bidirectional=True)\n",
            "    (gru2): GRU(256, 128, batch_first=True, bidirectional=True)\n",
            "    (gru3): GRU(256, 128, batch_first=True, bidirectional=True)\n",
            "  )\n",
            "  (transformer_attention): TransformerAttention(\n",
            "    (transformer_layer): TransformerEncoderLayer(\n",
            "      (self_attn): MultiheadAttention(\n",
            "        (out_proj): NonDynamicallyQuantizableLinear(in_features=256, out_features=256, bias=True)\n",
            "      )\n",
            "      (linear1): Linear(in_features=256, out_features=256, bias=True)\n",
            "      (dropout): Dropout(p=0.1, inplace=False)\n",
            "      (linear2): Linear(in_features=256, out_features=256, bias=True)\n",
            "      (norm1): LayerNorm((256,), eps=1e-05, elementwise_affine=True)\n",
            "      (norm2): LayerNorm((256,), eps=1e-05, elementwise_affine=True)\n",
            "      (dropout1): Dropout(p=0.1, inplace=False)\n",
            "      (dropout2): Dropout(p=0.1, inplace=False)\n",
            "    )\n",
            "    (transformer): TransformerEncoder(\n",
            "      (layers): ModuleList(\n",
            "        (0): TransformerEncoderLayer(\n",
            "          (self_attn): MultiheadAttention(\n",
            "            (out_proj): NonDynamicallyQuantizableLinear(in_features=256, out_features=256, bias=True)\n",
            "          )\n",
            "          (linear1): Linear(in_features=256, out_features=256, bias=True)\n",
            "          (dropout): Dropout(p=0.1, inplace=False)\n",
            "          (linear2): Linear(in_features=256, out_features=256, bias=True)\n",
            "          (norm1): LayerNorm((256,), eps=1e-05, elementwise_affine=True)\n",
            "          (norm2): LayerNorm((256,), eps=1e-05, elementwise_affine=True)\n",
            "          (dropout1): Dropout(p=0.1, inplace=False)\n",
            "          (dropout2): Dropout(p=0.1, inplace=False)\n",
            "        )\n",
            "      )\n",
            "    )\n",
            "    (attention): MultiheadAttention(\n",
            "      (out_proj): NonDynamicallyQuantizableLinear(in_features=256, out_features=256, bias=True)\n",
            "    )\n",
            "    (relu3): ReLU()\n",
            "  )\n",
            "  (fc1): Linear(in_features=256, out_features=35, bias=True)\n",
            "  (relu4): ReLU()\n",
            ")\n",
            "The model has 1,817,315 trainable parameters\n",
            "torch.Size([1, 35])\n"
          ]
        }
      ],
      "source": [
        "\n",
        "# Define the model architecture\n",
        "class ResBlock(nn.Module):\n",
        "    def __init__(self, in_channels, out_channels, stride=1):\n",
        "        super(ResBlock, self).__init__()\n",
        "        self.conv1 = nn.Conv1d(in_channels, out_channels, kernel_size=3, stride=stride, padding=1, bias=False)\n",
        "        self.bn1 = nn.BatchNorm1d(out_channels)\n",
        "        self.conv2 = nn.Conv1d(out_channels, out_channels, kernel_size=3, padding=1, bias=False)\n",
        "        self.bn2 = nn.BatchNorm1d(out_channels)\n",
        "\n",
        "        # This is the skip connection:\n",
        "        self.skip = nn.Sequential()\n",
        "        if stride != 1 or in_channels != out_channels:\n",
        "            self.skip = nn.Sequential(\n",
        "                nn.Conv1d(in_channels, out_channels, kernel_size=1, stride=stride, bias=False),\n",
        "                nn.BatchNorm1d(out_channels)\n",
        "            )\n",
        "\n",
        "    def forward(self, x):\n",
        "        out = F.relu(self.bn1(self.conv1(x)))\n",
        "        out = self.bn2(self.conv2(out))\n",
        "        out += self.skip(x)\n",
        "        return F.relu(out)# Correcting the indentation and redefining AcousticModel\n",
        "\n",
        "class AcousticModel(nn.Module):\n",
        "    def __init__(self, n_input, n_channel):\n",
        "        super().__init__()\n",
        "        self.conv1 = nn.Conv1d(n_input, n_channel, kernel_size=5, stride=2)\n",
        "        self.bn1 = nn.BatchNorm1d(n_channel)\n",
        "        self.relu1 = nn.ReLU()\n",
        "        self.pool1 = nn.MaxPool1d(2)  # Reduced stride\n",
        "        self.conv2 = nn.Conv1d(n_channel, n_channel, kernel_size=3)\n",
        "        self.bn2 = nn.BatchNorm1d(n_channel)\n",
        "        self.relu2 = nn.ReLU()\n",
        "        self.pool2 = nn.MaxPool1d(2)  # Reduced stride\n",
        "        self.resblock1 = ResBlock(n_channel, n_channel)\n",
        "        self.resblock2 = ResBlock(n_channel, n_channel)\n",
        "\n",
        "    def forward(self, x):\n",
        "        x = self.conv1(x)\n",
        "        x = self.bn1(x)\n",
        "        x = self.relu1(x)\n",
        "        x = self.pool1(x)\n",
        "        x = self.resblock1(x)\n",
        "        x = self.conv2(x)\n",
        "        x = self.bn2(x)\n",
        "        x = self.relu2(x)\n",
        "        x = self.pool2(x)\n",
        "        x = self.resblock2(x)\n",
        "        return x\n",
        "\n",
        "\n",
        "\n",
        "class RecurrentLayers(nn.Module):\n",
        "    def __init__(self, n_channel, hidden_dim, num_layers):\n",
        "        super().__init__()\n",
        "        self.gru = nn.GRU(n_channel, hidden_dim, num_layers=num_layers, batch_first=True, bidirectional=True)\n",
        "        self.gru2 = nn.GRU(hidden_dim*2, hidden_dim, num_layers=num_layers, batch_first=True, bidirectional=True)\n",
        "        self.gru3 = nn.GRU(hidden_dim*2, hidden_dim, num_layers=num_layers, batch_first=True, bidirectional=True)\n",
        "\n",
        "    def forward(self, x):\n",
        "        x, _ = self.gru(x)\n",
        "        x, _ = self.gru2(x)\n",
        "        x, _ = self.gru3(x)\n",
        "        return x\n",
        "\n",
        "class TransformerAttention(nn.Module):\n",
        "    def __init__(self, d_model, nhead, dim_feedforward, dropout, num_layers):\n",
        "        super().__init__()\n",
        "        self.transformer_layer = nn.TransformerEncoderLayer(d_model=d_model, nhead=nhead, dim_feedforward=dim_feedforward, dropout=dropout)\n",
        "        self.transformer = nn.TransformerEncoder(self.transformer_layer, num_layers=num_layers)\n",
        "        self.attention = nn.MultiheadAttention(embed_dim=d_model, num_heads=nhead, dropout=dropout)\n",
        "        self.relu3 = nn.ReLU()\n",
        "\n",
        "    def forward(self, x):\n",
        "        x = self.transformer(x)\n",
        "        x, _ = self.attention(x, x, x)\n",
        "        return self.relu3(x)\n",
        "\n",
        "class nueraspeechASR(nn.Module):\n",
        "    def __init__(self, n_input=1, n_output=35, stride=16, n_channel=32, hidden_dim=128, num_layers=1, d_model=256, nhead=4, dim_feedforward=256, dropout=0.1):\n",
        "        super().__init__()\n",
        "        self.acoustic_model = AcousticModel(n_input, n_channel)\n",
        "        self.recurrent_layers = RecurrentLayers(n_channel, hidden_dim, num_layers)\n",
        "        self.transformer_attention = TransformerAttention(d_model, nhead, dim_feedforward, dropout, num_layers)\n",
        "        self.fc1 = nn.Linear(hidden_dim*2, n_output)\n",
        "        self.relu4 = nn.ReLU()\n",
        "\n",
        "    def forward(self, x):\n",
        "        x = self.acoustic_model(x)\n",
        "        x = x.permute(0, 2, 1)\n",
        "        x = self.recurrent_layers(x)\n",
        "        x = self.transformer_attention(x)\n",
        "        x = x[:, -1, :]\n",
        "        x = self.fc1(x)\n",
        "        x = self.relu4(x)\n",
        "        return F.log_softmax(x, dim=1)\n",
        "\n",
        "# Testing the model\n",
        "n_input = 128  # Number of Mel channels\n",
        "n_output = 35  # Number of classes/labels\n",
        "\n",
        "# Initialize the model\n",
        "model = nueraspeechASR(n_input=n_input, n_output=n_output)\n",
        "print(model)\n",
        "\n",
        "# Print number of parameters\n",
        "print(f'The model has {sum(p.numel() for p in model.parameters()):,} trainable parameters')\n",
        "\n",
        "# Adjust the shape of the input tensor for testing purposes\n",
        "x = torch.randn(1, 128, 8000)  # [batch_size, n_mels, time]\n",
        "OUT = model(x)\n",
        "print(OUT.shape)\n"
      ]
    },
    {
      "cell_type": "markdown",
      "source": [],
      "metadata": {
        "id": "Li3m6SMqdY2p"
      }
    },
    {
      "cell_type": "code",
      "execution_count": 19,
      "metadata": {
        "id": "9zKs9WPdYUaB",
        "colab": {
          "base_uri": "https://localhost:8080/"
        },
        "outputId": "745cc049-4e63-48cc-8373-b40a800d9c0d"
      },
      "outputs": [
        {
          "output_type": "stream",
          "name": "stderr",
          "text": [
            "\n",
            "Training Progress:   0%|          | 5.605333333333248/84843 [09:43<2453:00:34, 104.09s/it]\n"
          ]
        }
      ],
      "source": [
        "# @title Default title text\n",
        "\n",
        "n_epoch = 100\n",
        "# Hyperparameters\n",
        "lr = 50e-4\n",
        "weight_decay = 0.0001\n",
        "dropout_rate = 0.3\n",
        "optimizer = optim.Adam(model.parameters(), lr=lr, weight_decay=weight_decay)\n",
        "scheduler = optim.lr_scheduler.OneCycleLR(optimizer, max_lr=lr,\n",
        "                                            steps_per_epoch=int(len(train_loader)),\n",
        "                                            epochs=n_epoch,\n",
        "                                            anneal_strategy='linear')\n",
        "\n",
        "\n",
        "pbar = tqdm(total=len(train_loader.dataset), desc=\"Training Progress\")\n",
        "PATH = \"nueraspeech.pth\""
      ]
    },
    {
      "cell_type": "code",
      "execution_count": 15,
      "metadata": {
        "id": "t8yIN9wkYUaB"
      },
      "outputs": [],
      "source": [
        "def train(model, epoch, log_interval):\n",
        "    model.train()\n",
        "\n",
        "    for batch_idx, (data, target) in enumerate(train_loader):\n",
        "        data = data.squeeze(1)  # This will remove the single channel dimension, turning [batch_size, 1, 128, 41] into [batch_size, 128, 41]\n",
        "\n",
        "        # Apply Mel-spectrogram transform\n",
        "        data = mel_spectrogram_transform(data)\n",
        "\n",
        "        data = data.to(device)\n",
        "        target = target.to(device)\n",
        "\n",
        "        output = model(data)\n",
        "        loss = F.nll_loss(output.squeeze(), target)\n",
        "\n",
        "        optimizer.zero_grad()\n",
        "        loss.backward()\n",
        "        optimizer.step()\n",
        "\n",
        "        # print training stats\n",
        "        if batch_idx % log_interval == 0:\n",
        "            print(f\"Train Epoch: {epoch} [{batch_idx * len(data)}/{len(train_loader.dataset)} ({100. * batch_idx / len(train_loader):.0f}%)]\\tLoss: {loss.item():.6f}\")\n",
        "\n",
        "        # update progress bar\n",
        "        pbar.update(pbar_update)\n",
        "        # record loss\n",
        "        losses.append(loss.item())\n"
      ]
    },
    {
      "cell_type": "code",
      "execution_count": 16,
      "metadata": {
        "id": "MvhCMAKYYUaC"
      },
      "outputs": [],
      "source": [
        "def wer(s1, s2):\n",
        "    \"\"\"\n",
        "    Compute the Word Error Rate between two lists of words.\n",
        "    \"\"\"\n",
        "    b = set(s1 + s2)\n",
        "    word2char = dict(zip(b, range(len(b))))\n",
        "\n",
        "    w1 = [chr(word2char[w]) for w in s1]\n",
        "    w2 = [chr(word2char[w]) for w in s2]\n",
        "\n",
        "    return editdistance.eval(\" \".join(w1), \" \".join(w2)) / len(s2)\n",
        "def cer(s1, s2):\n",
        "    \"\"\"\n",
        "    Compute the Character Error Rate between two lists of words.\n",
        "    \"\"\"\n",
        "    s1 = \" \".join(s1)\n",
        "    s2 = \" \".join(s2)\n",
        "\n",
        "    return editdistance.eval(s1, s2) / len(s2)\n",
        "\n",
        "\n",
        "def number_of_correct(pred, target):\n",
        "    # count number of correct predictions\n",
        "    return pred.squeeze().eq(target).sum().item()\n",
        "\n",
        "\n",
        "def get_likely_index(tensor):\n",
        "    # find most likely label index for each element in the batch\n",
        "    return tensor.argmax(dim=-1)\n",
        "wer_over_epochs = []\n",
        "cer_over_epochs = []\n",
        "correct_predictions_over_epochs = []\n",
        "\n",
        "def test(model, epoch):\n",
        "    model.eval()\n",
        "    correct = 0\n",
        "    total_wer, total_cer, total_samples = 0, 0, 0\n",
        "\n",
        "    for data, target in test_loader:\n",
        "        # Apply Mel-spectrogram transform\n",
        "        data = mel_spectrogram_transform(data)\n",
        "\n",
        "        # Remove channel dimension after applying mel transform\n",
        "        data = data.squeeze(1)  # This will convert [batch_size, 1, 128, 41] into [batch_size, 128, 41]\n",
        "\n",
        "        data = data.to(device)\n",
        "        target = target.to(device)\n",
        "\n",
        "        output = model(data)\n",
        "        pred = get_likely_index(output)\n",
        "        correct += number_of_correct(pred, target)\n",
        "\n",
        "        # Compute WER and CER\n",
        "        pred_str = index_to_label(pred)  # Convert the prediction indices to string\n",
        "        target_str = index_to_label(target)  # Convert target indices to string\n",
        "\n",
        "        total_wer += wer(pred_str, target_str)\n",
        "        total_cer += cer(pred_str, target_str)\n",
        "        total_samples += 1\n",
        "\n",
        "        # update progress bar\n",
        "        pbar.update(pbar_update)\n",
        "\n",
        "    avg_wer = total_wer / total_samples\n",
        "    avg_cer = total_cer / total_samples\n",
        "\n",
        "    print(f\"\\nTest Epoch: {epoch}\\tAccuracy: {correct}/{len(test_loader.dataset)} ({100. * correct / len(test_loader.dataset):.0f}%)\")\n",
        "    print(f\"Average WER: {avg_wer:.4f}\\nAverage CER: {avg_cer:.4f}\\n\")\n",
        "\n",
        "    return avg_wer, avg_cer, correct"
      ]
    },
    {
      "cell_type": "code",
      "execution_count": 21,
      "metadata": {
        "colab": {
          "base_uri": "https://localhost:8080/",
          "height": 1000
        },
        "id": "66TkhMppYUaC",
        "outputId": "93ad5faa-1d33-4722-9b94-75cfdd1f817d"
      },
      "outputs": [
        {
          "output_type": "stream",
          "name": "stderr",
          "text": [
            "\n",
            "Training Progress:   0%|          | 0.0026666666666666666/84843 [00:53<468914:48:00, 19896.67s/it]\u001b[A\n",
            "Training Progress:   0%|          | 0.005333333333333333/84843 [00:53<193986:40:25, 8231.11s/it]  \u001b[A"
          ]
        },
        {
          "output_type": "stream",
          "name": "stdout",
          "text": [
            "Train Epoch: 1 [0/84843 (0%)]\tLoss: 3.555477\n"
          ]
        },
        {
          "output_type": "stream",
          "name": "stderr",
          "text": [
            "\n",
            "Training Progress:   0%|          | 0.008/84843 [00:53<106117:18:03, 4502.70s/it]               \u001b[A\n",
            "Training Progress:   0%|          | 0.010666666666666666/84843 [00:53<64806:23:38, 2749.82s/it]\u001b[A\n",
            "Training Progress:   0%|          | 0.013333333333333332/84843 [00:53<41986:06:36, 1781.53s/it]\u001b[A\n",
            "Training Progress:   0%|          | 0.016/84843 [00:53<28221:45:32, 1197.49s/it]               \u001b[A\n",
            "Training Progress:   0%|          | 0.018666666666666668/84843 [00:54<19483:49:02, 826.72s/it]\u001b[A\n",
            "Training Progress:   0%|          | 0.021333333333333336/84843 [00:54<13764:41:51, 584.05s/it]\u001b[A\n",
            "Training Progress:   0%|          | 0.024000000000000004/84843 [00:54<9926:09:30, 421.18s/it] \u001b[A\n",
            "Training Progress:   0%|          | 0.026666666666666672/84843 [00:54<7321:19:13, 310.65s/it]\u001b[A\n",
            "Training Progress:   0%|          | 0.02933333333333334/84843 [00:54<5548:07:16, 235.41s/it] \u001b[A\n",
            "Training Progress:   0%|          | 0.03200000000000001/84843 [00:54<4321:55:38, 183.39s/it]\u001b[A\n",
            "Training Progress:   0%|          | 0.03466666666666667/84843 [00:55<3485:54:14, 147.91s/it]\u001b[A\n",
            "Training Progress:   0%|          | 0.037333333333333336/84843 [00:55<2993:41:06, 127.03s/it]\u001b[A\n",
            "Training Progress:   0%|          | 0.04/84843 [00:55<2616:28:41, 111.02s/it]                \u001b[A\n",
            "Training Progress:   0%|          | 0.042666666666666665/84843 [00:55<2363:16:42, 100.28s/it]\u001b[A\n",
            "Training Progress:   0%|          | 0.04533333333333333/84843 [00:55<2174:03:37, 92.25s/it]  \u001b[A\n",
            "Training Progress:   0%|          | 0.047999999999999994/84843 [00:56<2081:13:49, 88.31s/it]\u001b[A\n",
            "Training Progress:   0%|          | 0.05066666666666666/84843 [00:56<1983:41:12, 84.17s/it] \u001b[A\n",
            "Training Progress:   0%|          | 0.05333333333333332/84843 [00:56<1914:47:54, 81.25s/it]\u001b[A\n",
            "Training Progress:   0%|          | 0.05599999999999999/84843 [00:56<1890:25:33, 80.21s/it]\u001b[A\n",
            "Training Progress:   0%|          | 0.05866666666666665/84843 [00:56<1846:16:13, 78.34s/it]"
          ]
        },
        {
          "output_type": "stream",
          "name": "stdout",
          "text": [
            "Train Epoch: 1 [5120/84843 (6%)]\tLoss: 3.560533\n"
          ]
        },
        {
          "output_type": "stream",
          "name": "stderr",
          "text": [
            "\u001b[A\n",
            "Training Progress:   0%|          | 0.061333333333333316/84843 [00:57<1831:33:17, 77.72s/it]\u001b[A\n",
            "Training Progress:   0%|          | 0.06399999999999999/84843 [00:57<1810:55:54, 76.84s/it] \u001b[A\n",
            "Training Progress:   0%|          | 0.06666666666666665/84843 [00:57<1728:35:52, 73.35s/it]\u001b[A\n",
            "Training Progress:   0%|          | 0.06933333333333332/84843 [00:57<1654:16:05, 70.19s/it]\u001b[A\n",
            "Training Progress:   0%|          | 0.07199999999999998/84843 [00:57<1612:10:24, 68.41s/it]\u001b[A\n",
            "Training Progress:   0%|          | 0.07466666666666665/84843 [00:58<1589:18:47, 67.44s/it]\u001b[A\n",
            "Training Progress:   0%|          | 0.07733333333333331/84843 [00:58<1560:53:12, 66.23s/it]\u001b[A\n",
            "Training Progress:   0%|          | 0.07999999999999997/84843 [00:58<1532:54:38, 65.04s/it]\u001b[A\n",
            "Training Progress:   0%|          | 0.08266666666666664/84843 [00:58<1528:41:16, 64.86s/it]\u001b[A\n",
            "Training Progress:   0%|          | 0.0853333333333333/84843 [00:58<1506:43:25, 63.93s/it] \u001b[A\n",
            "Training Progress:   0%|          | 0.08799999999999997/84843 [00:58<1494:02:03, 63.39s/it]\u001b[A\n",
            "Training Progress:   0%|          | 0.09066666666666663/84843 [00:59<1503:43:13, 63.80s/it]\u001b[A\n",
            "Training Progress:   0%|          | 0.0933333333333333/84843 [00:59<1497:49:01, 63.55s/it] \u001b[A\n",
            "Training Progress:   0%|          | 0.09599999999999996/84843 [00:59<1501:06:00, 63.69s/it]\u001b[A\n",
            "Training Progress:   0%|          | 0.09866666666666662/84843 [00:59<1497:40:44, 63.55s/it]\u001b[A\n",
            "Training Progress:   0%|          | 0.10133333333333329/84843 [00:59<1497:06:27, 63.52s/it]\u001b[A\n",
            "Training Progress:   0%|          | 0.10399999999999995/84843 [00:59<1503:31:53, 63.80s/it]\u001b[A\n",
            "Training Progress:   0%|          | 0.10666666666666662/84843 [01:00<1498:16:17, 63.57s/it]\u001b[A\n",
            "Training Progress:   0%|          | 0.10933333333333328/84843 [01:00<1519:08:28, 64.46s/it]\u001b[A\n",
            "Training Progress:   0%|          | 0.11199999999999995/84843 [01:00<1496:48:28, 63.51s/it]\u001b[A"
          ]
        },
        {
          "output_type": "stream",
          "name": "stdout",
          "text": [
            "Train Epoch: 1 [10240/84843 (12%)]\tLoss: 3.563632\n"
          ]
        },
        {
          "output_type": "stream",
          "name": "stderr",
          "text": [
            "\n",
            "Training Progress:   0%|          | 0.11466666666666661/84843 [01:00<1500:17:51, 63.66s/it]\u001b[A\n",
            "Training Progress:   0%|          | 0.11733333333333328/84843 [01:00<1510:01:18, 64.07s/it]\u001b[A\n",
            "Training Progress:   0%|          | 0.11999999999999994/84843 [01:00<1512:16:25, 64.17s/it]\u001b[A\n",
            "Training Progress:   0%|          | 0.1226666666666666/84843 [01:01<1529:47:14, 64.91s/it] \u001b[A\n",
            "Training Progress:   0%|          | 0.12533333333333327/84843 [01:01<1526:05:55, 64.75s/it]\u001b[A\n",
            "Training Progress:   0%|          | 0.12799999999999995/84843 [01:01<1523:27:17, 64.64s/it]\u001b[A\n",
            "Training Progress:   0%|          | 0.13066666666666663/84843 [01:01<1549:16:27, 65.74s/it]\u001b[A\n",
            "Training Progress:   0%|          | 0.1333333333333333/84843 [01:01<1538:25:58, 65.28s/it] \u001b[A\n",
            "Training Progress:   0%|          | 0.13599999999999998/84843 [01:01<1528:35:48, 64.86s/it]\u001b[A\n",
            "Training Progress:   0%|          | 0.13866666666666666/84843 [01:02<1529:40:05, 64.91s/it]\u001b[A\n",
            "Training Progress:   0%|          | 0.14133333333333334/84843 [01:02<1527:14:07, 64.80s/it]\u001b[A\n",
            "Training Progress:   0%|          | 0.14400000000000002/84843 [01:02<1538:27:08, 65.28s/it]\u001b[A\n",
            "Training Progress:   0%|          | 0.1466666666666667/84843 [01:02<1522:39:31, 64.61s/it] \u001b[A\n",
            "Training Progress:   0%|          | 0.14933333333333337/84843 [01:02<1513:28:57, 64.22s/it]\u001b[A\n",
            "Training Progress:   0%|          | 0.15200000000000005/84843 [01:02<1500:32:31, 63.67s/it]\u001b[A\n",
            "Training Progress:   0%|          | 0.15466666666666673/84843 [01:03<1499:49:01, 63.64s/it]\u001b[A\n",
            "Training Progress:   0%|          | 0.1573333333333334/84843 [01:03<1500:07:46, 63.65s/it] \u001b[A\n",
            "Training Progress:   0%|          | 0.1600000000000001/84843 [01:03<1507:18:44, 63.96s/it]\u001b[A\n",
            "Training Progress:   0%|          | 0.16266666666666676/84843 [01:03<1530:38:20, 64.95s/it]\u001b[A\n",
            "Training Progress:   0%|          | 0.16533333333333344/84843 [01:03<1517:13:36, 64.38s/it]\u001b[A"
          ]
        },
        {
          "output_type": "stream",
          "name": "stdout",
          "text": [
            "Train Epoch: 1 [15360/84843 (18%)]\tLoss: 3.563314\n"
          ]
        },
        {
          "output_type": "stream",
          "name": "stderr",
          "text": [
            "\n",
            "Training Progress:   0%|          | 0.16800000000000012/84843 [01:04<1511:54:14, 64.15s/it]\u001b[A\n",
            "Training Progress:   0%|          | 0.1706666666666668/84843 [01:04<1520:50:01, 64.53s/it] \u001b[A\n",
            "Training Progress:   0%|          | 0.17333333333333348/84843 [01:04<1507:00:12, 63.94s/it]\u001b[A\n",
            "Training Progress:   0%|          | 0.17600000000000016/84843 [01:04<1504:44:01, 63.85s/it]\u001b[A\n",
            "Training Progress:   0%|          | 0.17866666666666683/84843 [01:04<1508:30:25, 64.01s/it]\u001b[A\n",
            "Training Progress:   0%|          | 0.1813333333333335/84843 [01:04<1497:45:02, 63.55s/it] \u001b[A\n",
            "Training Progress:   0%|          | 0.1840000000000002/84843 [01:05<1501:37:06, 63.72s/it]\u001b[A\n",
            "Training Progress:   0%|          | 0.18666666666666687/84843 [01:05<1506:38:33, 63.93s/it]\u001b[A\n",
            "Training Progress:   0%|          | 0.18933333333333355/84843 [01:05<1493:44:48, 63.38s/it]\u001b[A\n",
            "Training Progress:   0%|          | 0.19200000000000023/84843 [01:05<1503:40:56, 63.80s/it]\u001b[A\n",
            "Training Progress:   0%|          | 0.1946666666666669/84843 [01:05<1513:43:24, 64.23s/it] \u001b[A\n",
            "Training Progress:   0%|          | 0.19733333333333358/84843 [01:05<1502:19:59, 63.75s/it]\u001b[A\n",
            "Training Progress:   0%|          | 0.20000000000000026/84843 [01:06<1501:24:49, 63.71s/it]\u001b[A\n",
            "Training Progress:   0%|          | 0.20266666666666694/84843 [01:06<1509:05:18, 64.03s/it]\u001b[A\n",
            "Training Progress:   0%|          | 0.20533333333333362/84843 [01:06<1503:16:44, 63.79s/it]\u001b[A\n",
            "Training Progress:   0%|          | 0.2080000000000003/84843 [01:06<1497:38:20, 63.55s/it] \u001b[A\n",
            "Training Progress:   0%|          | 0.21066666666666697/84843 [01:06<1494:30:59, 63.41s/it]\u001b[A\n",
            "Training Progress:   0%|          | 0.21333333333333365/84843 [01:06<1487:10:07, 63.10s/it]\u001b[A\n",
            "Training Progress:   0%|          | 0.21600000000000033/84843 [01:07<1511:29:31, 64.13s/it]\u001b[A\n",
            "Training Progress:   0%|          | 0.218666666666667/84843 [01:07<1520:57:17, 64.54s/it]  \u001b[A"
          ]
        },
        {
          "output_type": "stream",
          "name": "stdout",
          "text": [
            "Train Epoch: 1 [20480/84843 (24%)]\tLoss: 3.561713\n"
          ]
        },
        {
          "output_type": "stream",
          "name": "stderr",
          "text": [
            "\n",
            "Training Progress:   0%|          | 0.2213333333333337/84843 [01:07<1579:23:55, 67.02s/it]\u001b[A\n",
            "Training Progress:   0%|          | 0.22400000000000037/84843 [01:07<1639:19:44, 69.56s/it]\u001b[A\n",
            "Training Progress:   0%|          | 0.22666666666666704/84843 [01:07<1681:58:29, 71.37s/it]\u001b[A\n",
            "Training Progress:   0%|          | 0.22933333333333372/84843 [01:08<1706:12:46, 72.40s/it]\u001b[A\n",
            "Training Progress:   0%|          | 0.2320000000000004/84843 [01:08<1741:14:38, 73.88s/it] \u001b[A\n",
            "Training Progress:   0%|          | 0.23466666666666708/84843 [01:08<1786:27:41, 75.80s/it]\u001b[A\n",
            "Training Progress:   0%|          | 0.23733333333333376/84843 [01:08<1788:36:30, 75.89s/it]\u001b[A\n",
            "Training Progress:   0%|          | 0.24000000000000044/84843 [01:08<1787:30:39, 75.85s/it]\u001b[A\n",
            "Training Progress:   0%|          | 0.2426666666666671/84843 [01:09<1790:50:05, 75.99s/it] \u001b[A\n",
            "Training Progress:   0%|          | 0.2453333333333338/84843 [01:09<1816:11:51, 77.06s/it]\u001b[A\n",
            "Training Progress:   0%|          | 0.24800000000000047/84843 [01:09<1721:42:30, 73.05s/it]\u001b[A\n",
            "Training Progress:   0%|          | 0.25066666666666715/84843 [01:09<1657:54:45, 70.35s/it]\u001b[A\n",
            "Training Progress:   0%|          | 0.2533333333333338/84843 [01:09<1616:24:41, 68.59s/it] \u001b[A\n",
            "Training Progress:   0%|          | 0.25600000000000045/84843 [01:09<1578:43:42, 66.99s/it]\u001b[A\n",
            "Training Progress:   0%|          | 0.2586666666666671/84843 [01:10<1550:17:45, 65.78s/it] \u001b[A\n",
            "Training Progress:   0%|          | 0.26133333333333375/84843 [01:10<1547:44:01, 65.67s/it]\u001b[A\n",
            "Training Progress:   0%|          | 0.2640000000000004/84843 [01:10<1543:36:33, 65.50s/it] \u001b[A\n",
            "Training Progress:   0%|          | 0.26666666666666705/84843 [01:10<1527:49:23, 64.83s/it]\u001b[A\n",
            "Training Progress:   0%|          | 0.2693333333333337/84843 [01:10<1538:14:39, 65.27s/it] \u001b[A\n",
            "Training Progress:   0%|          | 0.27200000000000035/84843 [01:10<1526:44:00, 64.78s/it]\u001b[A"
          ]
        },
        {
          "output_type": "stream",
          "name": "stdout",
          "text": [
            "Train Epoch: 1 [25600/84843 (30%)]\tLoss: 3.570088\n"
          ]
        },
        {
          "output_type": "stream",
          "name": "stderr",
          "text": [
            "\n",
            "Training Progress:   0%|          | 0.274666666666667/84843 [01:11<1528:24:07, 64.85s/it]  \u001b[A\n",
            "Training Progress:   0%|          | 0.27733333333333365/84843 [01:11<1542:20:30, 65.44s/it]\u001b[A\n",
            "Training Progress:   0%|          | 0.2800000000000003/84843 [01:11<1530:36:44, 64.95s/it] \u001b[A\n",
            "Training Progress:   0%|          | 0.28266666666666695/84843 [01:11<1520:15:35, 64.51s/it]\u001b[A\n",
            "Training Progress:   0%|          | 0.2853333333333336/84843 [01:11<1504:15:55, 63.83s/it] \u001b[A\n",
            "Training Progress:   0%|          | 0.28800000000000026/84843 [01:12<1497:38:12, 63.55s/it]\u001b[A\n",
            "Training Progress:   0%|          | 0.2906666666666669/84843 [01:12<1496:52:50, 63.51s/it] \u001b[A\n",
            "Training Progress:   0%|          | 0.29333333333333356/84843 [01:12<1500:29:57, 63.67s/it]\u001b[A\n",
            "Training Progress:   0%|          | 0.2960000000000002/84843 [01:12<1496:26:03, 63.50s/it] \u001b[A\n",
            "Training Progress:   0%|          | 0.29866666666666686/84843 [01:12<1486:49:56, 63.09s/it]\u001b[A\n",
            "Training Progress:   0%|          | 0.3013333333333335/84843 [01:12<1484:07:42, 62.97s/it] \u001b[A\n",
            "Training Progress:   0%|          | 0.30400000000000016/84843 [01:13<1486:52:56, 63.09s/it]\u001b[A\n",
            "Training Progress:   0%|          | 0.3066666666666668/84843 [01:13<1487:42:38, 63.13s/it] \u001b[A\n",
            "Training Progress:   0%|          | 0.30933333333333346/84843 [01:13<1501:18:01, 63.70s/it]\u001b[A\n",
            "Training Progress:   0%|          | 0.3120000000000001/84843 [01:13<1495:08:06, 63.44s/it] \u001b[A\n",
            "Training Progress:   0%|          | 0.31466666666666676/84843 [01:13<1506:24:05, 63.92s/it]\u001b[A\n",
            "Training Progress:   0%|          | 0.3173333333333334/84843 [01:13<1498:01:50, 63.56s/it] \u001b[A\n",
            "Training Progress:   0%|          | 0.32000000000000006/84843 [01:14<1519:32:25, 64.48s/it]\u001b[A\n",
            "Training Progress:   0%|          | 0.3226666666666667/84843 [01:14<1534:29:23, 65.11s/it] \u001b[A\n",
            "Training Progress:   0%|          | 0.32533333333333336/84843 [01:14<1525:59:46, 64.75s/it]\u001b[A"
          ]
        },
        {
          "output_type": "stream",
          "name": "stdout",
          "text": [
            "Train Epoch: 1 [30720/84843 (36%)]\tLoss: 3.564810\n"
          ]
        },
        {
          "output_type": "stream",
          "name": "stderr",
          "text": [
            "\n",
            "Training Progress:   0%|          | 0.328/84843 [01:14<1526:31:15, 64.77s/it]              \u001b[A\n",
            "Training Progress:   0%|          | 0.33066666666666666/84843 [01:14<1520:37:08, 64.52s/it]\u001b[A\n",
            "Training Progress:   0%|          | 0.3333333333333333/84843 [01:14<1519:40:08, 64.48s/it] \u001b[A\n",
            "Training Progress:   0%|          | 0.33599999999999997/84843 [01:15<1504:23:21, 63.83s/it]\u001b[A\n",
            "Training Progress:   0%|          | 0.3386666666666666/84843 [01:15<1501:06:39, 63.69s/it] \u001b[A\n",
            "Training Progress:   0%|          | 0.34133333333333327/84843 [01:15<1508:01:11, 63.99s/it]\u001b[A\n",
            "Training Progress:   0%|          | 0.3439999999999999/84843 [01:15<1492:23:13, 63.32s/it] \u001b[A\n",
            "Training Progress:   0%|          | 0.34666666666666657/84843 [01:15<1487:57:56, 63.14s/it]\u001b[A\n",
            "Training Progress:   0%|          | 0.3493333333333332/84843 [01:15<1489:56:55, 63.22s/it] \u001b[A\n",
            "Training Progress:   0%|          | 0.35199999999999987/84843 [01:16<1494:51:00, 63.43s/it]\u001b[A\n",
            "Training Progress:   0%|          | 0.3546666666666665/84843 [01:16<1489:01:20, 63.18s/it] \u001b[A\n",
            "Training Progress:   0%|          | 0.35733333333333317/84843 [01:16<1504:22:48, 63.83s/it]\u001b[A\n",
            "Training Progress:   0%|          | 0.3599999999999998/84843 [01:16<1527:09:58, 64.80s/it] \u001b[A\n",
            "Training Progress:   0%|          | 0.36266666666666647/84843 [01:16<1524:43:00, 64.70s/it]\u001b[A\n",
            "Training Progress:   0%|          | 0.3653333333333331/84843 [01:16<1524:55:24, 64.70s/it] \u001b[A\n",
            "Training Progress:   0%|          | 0.36799999999999977/84843 [01:17<1507:08:10, 63.95s/it]\u001b[A\n",
            "Training Progress:   0%|          | 0.3706666666666664/84843 [01:17<1508:42:04, 64.02s/it] \u001b[A\n",
            "Training Progress:   0%|          | 0.3733333333333331/84843 [01:17<1524:11:47, 64.67s/it]\u001b[A\n",
            "Training Progress:   0%|          | 0.3759999999999997/84843 [01:17<1528:58:52, 64.88s/it]\u001b[A\n",
            "Training Progress:   0%|          | 0.3786666666666664/84843 [01:17<1505:57:22, 63.90s/it]\u001b[A"
          ]
        },
        {
          "output_type": "stream",
          "name": "stdout",
          "text": [
            "Train Epoch: 1 [35840/84843 (42%)]\tLoss: 3.566664\n"
          ]
        },
        {
          "output_type": "stream",
          "name": "stderr",
          "text": [
            "\n",
            "Training Progress:   0%|          | 0.381333333333333/84843 [01:17<1505:52:27, 63.90s/it] \u001b[A\n",
            "Training Progress:   0%|          | 0.3839999999999997/84843 [01:18<1505:11:17, 63.87s/it]\u001b[A\n",
            "Training Progress:   0%|          | 0.3866666666666663/84843 [01:18<1501:25:10, 63.71s/it]\u001b[A\n",
            "Training Progress:   0%|          | 0.389333333333333/84843 [01:18<1513:12:19, 64.21s/it] \u001b[A\n",
            "Training Progress:   0%|          | 0.3919999999999996/84843 [01:18<1516:34:13, 64.35s/it]\u001b[A\n",
            "Training Progress:   0%|          | 0.3946666666666663/84843 [01:18<1506:16:41, 63.91s/it]\u001b[A\n",
            "Training Progress:   0%|          | 0.3973333333333329/84843 [01:19<1493:31:08, 63.37s/it]\u001b[A\n",
            "Training Progress:   0%|          | 0.3999999999999996/84843 [01:19<1502:39:12, 63.76s/it]\u001b[A\n",
            "Training Progress:   0%|          | 0.40266666666666623/84843 [01:19<1548:02:08, 65.69s/it]\u001b[A\n",
            "Training Progress:   0%|          | 0.4053333333333329/84843 [01:19<1640:55:56, 69.63s/it] \u001b[A\n",
            "Training Progress:   0%|          | 0.40799999999999953/84843 [01:19<1642:51:24, 69.71s/it]\u001b[A\n",
            "Training Progress:   0%|          | 0.4106666666666662/84843 [01:19<1665:27:50, 70.67s/it] \u001b[A\n",
            "Training Progress:   0%|          | 0.41333333333333283/84843 [01:20<1704:17:21, 72.32s/it]\u001b[A\n",
            "Training Progress:   0%|          | 0.4159999999999995/84843 [01:20<1732:53:27, 73.53s/it] \u001b[A\n",
            "Training Progress:   0%|          | 0.41866666666666613/84843 [01:20<1773:51:43, 75.27s/it]\u001b[A\n",
            "Training Progress:   0%|          | 0.4213333333333328/84843 [01:20<1754:58:04, 74.47s/it] \u001b[A\n",
            "Training Progress:   0%|          | 0.42399999999999943/84843 [01:20<1771:46:14, 75.18s/it]\u001b[A\n",
            "Training Progress:   0%|          | 0.4266666666666661/84843 [01:21<1780:04:19, 75.53s/it] \u001b[A\n",
            "Training Progress:   0%|          | 0.42933333333333273/84843 [01:21<1728:58:24, 73.36s/it]\u001b[A\n",
            "Training Progress:   0%|          | 0.4319999999999994/84843 [01:21<1648:07:37, 69.93s/it] \u001b[A"
          ]
        },
        {
          "output_type": "stream",
          "name": "stdout",
          "text": [
            "Train Epoch: 1 [40960/84843 (48%)]\tLoss: 3.562748\n"
          ]
        },
        {
          "output_type": "stream",
          "name": "stderr",
          "text": [
            "\n",
            "Training Progress:   0%|          | 0.43466666666666604/84843 [01:21<1615:51:55, 68.56s/it]\u001b[A\n",
            "Training Progress:   0%|          | 0.4373333333333327/84843 [01:21<1571:01:31, 66.66s/it] \u001b[A\n",
            "Training Progress:   0%|          | 0.43999999999999934/84843 [01:22<1552:02:33, 65.86s/it]\u001b[A\n",
            "Training Progress:   0%|          | 0.442666666666666/84843 [01:22<1532:55:28, 65.04s/it]  \u001b[A\n",
            "Training Progress:   0%|          | 0.44533333333333264/84843 [01:22<1522:16:26, 64.59s/it]\u001b[A\n",
            "Training Progress:   0%|          | 0.4479999999999993/84843 [01:22<1516:12:54, 64.34s/it] \u001b[A\n",
            "Training Progress:   0%|          | 0.45066666666666594/84843 [01:22<1513:38:51, 64.23s/it]\u001b[A\n",
            "Training Progress:   0%|          | 0.4533333333333326/84843 [01:22<1509:24:41, 64.05s/it] \u001b[A\n",
            "Training Progress:   0%|          | 0.45599999999999924/84843 [01:23<1511:48:51, 64.15s/it]\u001b[A\n",
            "Training Progress:   0%|          | 0.4586666666666659/84843 [01:23<1509:10:35, 64.04s/it] \u001b[A\n",
            "Training Progress:   0%|          | 0.46133333333333254/84843 [01:23<1504:23:20, 63.83s/it]\u001b[A\n",
            "Training Progress:   0%|          | 0.4639999999999992/84843 [01:23<1515:40:11, 64.31s/it] \u001b[A\n",
            "Training Progress:   0%|          | 0.46666666666666584/84843 [01:23<1508:39:50, 64.01s/it]\u001b[A\n",
            "Training Progress:   0%|          | 0.4693333333333325/84843 [01:23<1503:56:14, 63.81s/it] \u001b[A\n",
            "Training Progress:   0%|          | 0.47199999999999914/84843 [01:24<1498:00:58, 63.56s/it]\u001b[A\n",
            "Training Progress:   0%|          | 0.4746666666666658/84843 [01:24<1486:50:45, 63.09s/it] \u001b[A\n",
            "Training Progress:   0%|          | 0.47733333333333244/84843 [01:24<1514:29:30, 64.26s/it]\u001b[A\n",
            "Training Progress:   0%|          | 0.4799999999999991/84843 [01:24<1519:10:32, 64.46s/it] \u001b[A\n",
            "Training Progress:   0%|          | 0.48266666666666574/84843 [01:24<1535:18:45, 65.15s/it]\u001b[A\n",
            "Training Progress:   0%|          | 0.4853333333333324/84843 [01:24<1517:43:01, 64.40s/it] \u001b[A"
          ]
        },
        {
          "output_type": "stream",
          "name": "stdout",
          "text": [
            "Train Epoch: 1 [46080/84843 (54%)]\tLoss: 3.555008\n"
          ]
        },
        {
          "output_type": "stream",
          "name": "stderr",
          "text": [
            "\n",
            "Training Progress:   0%|          | 0.48799999999999905/84843 [01:25<1512:02:38, 64.16s/it]\u001b[A\n",
            "Training Progress:   0%|          | 0.4906666666666657/84843 [01:25<1496:40:58, 63.51s/it] \u001b[A\n",
            "Training Progress:   0%|          | 0.49333333333333235/84843 [01:25<1502:34:06, 63.76s/it]\u001b[A\n",
            "Training Progress:   0%|          | 0.495999999999999/84843 [01:25<1498:39:12, 63.59s/it]  \u001b[A\n",
            "Training Progress:   0%|          | 0.49866666666666565/84843 [01:25<1508:39:28, 64.01s/it]\u001b[A\n",
            "Training Progress:   0%|          | 0.5013333333333323/84843 [01:25<1489:55:50, 63.22s/it] \u001b[A\n",
            "Training Progress:   0%|          | 0.503999999999999/84843 [01:26<1492:17:57, 63.32s/it] \u001b[A\n",
            "Training Progress:   0%|          | 0.5066666666666657/84843 [01:26<1502:27:38, 63.75s/it]\u001b[A\n",
            "Training Progress:   0%|          | 0.5093333333333324/84843 [01:26<1501:14:12, 63.70s/it]\u001b[A\n",
            "Training Progress:   0%|          | 0.5119999999999991/84843 [01:26<1499:24:04, 63.62s/it]\u001b[A\n",
            "Training Progress:   0%|          | 0.5146666666666658/84843 [01:26<1501:27:32, 63.71s/it]\u001b[A\n",
            "Training Progress:   0%|          | 0.5173333333333325/84843 [01:26<1494:23:23, 63.41s/it]\u001b[A\n",
            "Training Progress:   0%|          | 0.5199999999999992/84843 [01:27<1498:02:25, 63.56s/it]\u001b[A\n",
            "Training Progress:   0%|          | 0.522666666666666/84843 [01:27<1488:17:28, 63.15s/it] \u001b[A\n",
            "Training Progress:   0%|          | 0.5253333333333327/84843 [01:27<1491:48:37, 63.30s/it]\u001b[A\n",
            "Training Progress:   0%|          | 0.5279999999999994/84843 [01:27<1494:04:10, 63.40s/it]\u001b[A\n",
            "Training Progress:   0%|          | 0.5306666666666661/84843 [01:27<1487:33:00, 63.12s/it]\u001b[A\n",
            "Training Progress:   0%|          | 0.5333333333333328/84843 [01:27<1482:42:26, 62.91s/it]\u001b[A\n",
            "Training Progress:   0%|          | 0.5359999999999995/84843 [01:28<1504:18:09, 63.83s/it]\u001b[A\n",
            "Training Progress:   0%|          | 0.5386666666666662/84843 [01:28<1493:31:09, 63.37s/it]\u001b[A"
          ]
        },
        {
          "output_type": "stream",
          "name": "stdout",
          "text": [
            "Train Epoch: 1 [51200/84843 (60%)]\tLoss: 3.560683\n"
          ]
        },
        {
          "output_type": "stream",
          "name": "stderr",
          "text": [
            "\n",
            "Training Progress:   0%|          | 0.5413333333333329/84843 [01:28<1504:14:12, 63.83s/it]\u001b[A\n",
            "Training Progress:   0%|          | 0.5439999999999996/84843 [01:28<1505:00:09, 63.86s/it]\u001b[A\n",
            "Training Progress:   0%|          | 0.5466666666666663/84843 [01:28<1502:01:25, 63.73s/it]\u001b[A\n",
            "Training Progress:   0%|          | 0.549333333333333/84843 [01:29<1508:00:10, 63.99s/it] \u001b[A\n",
            "Training Progress:   0%|          | 0.5519999999999997/84843 [01:29<1499:08:34, 63.61s/it]\u001b[A\n",
            "Training Progress:   0%|          | 0.5546666666666664/84843 [01:29<1497:38:29, 63.55s/it]\u001b[A\n",
            "Training Progress:   0%|          | 0.5573333333333331/84843 [01:29<1501:42:56, 63.72s/it]\u001b[A\n",
            "Training Progress:   0%|          | 0.5599999999999998/84843 [01:29<1502:37:48, 63.76s/it]\u001b[A\n",
            "Training Progress:   0%|          | 0.5626666666666665/84843 [01:29<1500:56:20, 63.69s/it]\u001b[A\n",
            "Training Progress:   0%|          | 0.5653333333333332/84843 [01:30<1493:38:30, 63.38s/it]\u001b[A\n",
            "Training Progress:   0%|          | 0.568/84843 [01:30<1496:47:12, 63.51s/it]             \u001b[A\n",
            "Training Progress:   0%|          | 0.5706666666666667/84843 [01:30<1494:36:32, 63.42s/it]\u001b[A\n",
            "Training Progress:   0%|          | 0.5733333333333334/84843 [01:30<1502:59:10, 63.77s/it]\u001b[A\n",
            "Training Progress:   0%|          | 0.5760000000000001/84843 [01:30<1519:43:26, 64.48s/it]\u001b[A\n",
            "Training Progress:   0%|          | 0.5786666666666668/84843 [01:30<1506:49:17, 63.94s/it]\u001b[A\n",
            "Training Progress:   0%|          | 0.5813333333333335/84843 [01:31<1497:56:34, 63.56s/it]\u001b[A\n",
            "Training Progress:   0%|          | 0.5840000000000002/84843 [01:31<1497:10:00, 63.53s/it]\u001b[A\n",
            "Training Progress:   0%|          | 0.5866666666666669/84843 [01:31<1559:47:20, 66.18s/it]\u001b[A\n",
            "Training Progress:   0%|          | 0.5893333333333336/84843 [01:31<1617:59:50, 68.65s/it]\u001b[A\n",
            "Training Progress:   0%|          | 0.5920000000000003/84843 [01:31<1641:35:04, 69.66s/it]\u001b[A"
          ]
        },
        {
          "output_type": "stream",
          "name": "stdout",
          "text": [
            "Train Epoch: 1 [56320/84843 (66%)]\tLoss: 3.565360\n"
          ]
        },
        {
          "output_type": "stream",
          "name": "stderr",
          "text": [
            "\n",
            "Training Progress:   0%|          | 0.594666666666667/84843 [01:31<1653:33:18, 70.16s/it] \u001b[A\n",
            "Training Progress:   0%|          | 0.5973333333333337/84843 [01:32<1708:22:09, 72.49s/it]\u001b[A\n",
            "Training Progress:   0%|          | 0.6000000000000004/84843 [01:32<1703:08:56, 72.27s/it]\u001b[A\n",
            "Training Progress:   0%|          | 0.6026666666666671/84843 [01:32<1696:13:06, 71.97s/it]\u001b[A\n",
            "Training Progress:   0%|          | 0.6053333333333338/84843 [01:32<1731:37:26, 73.48s/it]\u001b[A\n",
            "Training Progress:   0%|          | 0.6080000000000005/84843 [01:32<1762:25:23, 74.78s/it]\u001b[A\n",
            "Training Progress:   0%|          | 0.6106666666666672/84843 [01:33<1755:14:50, 74.48s/it]\u001b[A\n",
            "Training Progress:   0%|          | 0.613333333333334/84843 [01:33<1730:43:03, 73.44s/it] \u001b[A\n",
            "Training Progress:   0%|          | 0.6160000000000007/84843 [01:33<1662:18:58, 70.53s/it]\u001b[A\n",
            "Training Progress:   0%|          | 0.6186666666666674/84843 [01:33<1611:37:31, 68.38s/it]\u001b[A\n",
            "Training Progress:   0%|          | 0.6213333333333341/84843 [01:33<1584:12:47, 67.22s/it]\u001b[A\n",
            "Training Progress:   0%|          | 0.6240000000000008/84843 [01:34<1550:12:03, 65.78s/it]\u001b[A\n",
            "Training Progress:   0%|          | 0.6266666666666675/84843 [01:34<1534:15:57, 65.10s/it]\u001b[A\n",
            "Training Progress:   0%|          | 0.6293333333333342/84843 [01:34<1515:19:07, 64.30s/it]\u001b[A\n",
            "Training Progress:   0%|          | 0.6320000000000009/84843 [01:34<1508:28:24, 64.01s/it]\u001b[A\n",
            "Training Progress:   0%|          | 0.6346666666666676/84843 [01:34<1514:44:04, 64.27s/it]\u001b[A\n",
            "Training Progress:   0%|          | 0.6373333333333343/84843 [01:34<1529:57:50, 64.92s/it]\u001b[A\n",
            "Training Progress:   0%|          | 0.640000000000001/84843 [01:35<1527:09:46, 64.80s/it] \u001b[A\n",
            "Training Progress:   0%|          | 0.6426666666666677/84843 [01:35<1527:55:05, 64.83s/it]\u001b[A\n",
            "Training Progress:   0%|          | 0.6453333333333344/84843 [01:35<1511:43:31, 64.14s/it]\u001b[A"
          ]
        },
        {
          "output_type": "stream",
          "name": "stdout",
          "text": [
            "Train Epoch: 1 [61440/84843 (72%)]\tLoss: 3.561043\n"
          ]
        },
        {
          "output_type": "stream",
          "name": "stderr",
          "text": [
            "\n",
            "Training Progress:   0%|          | 0.6480000000000011/84843 [01:35<1509:15:48, 64.04s/it]\u001b[A\n",
            "Training Progress:   0%|          | 0.6506666666666678/84843 [01:35<1508:13:49, 64.00s/it]\u001b[A\n",
            "Training Progress:   0%|          | 0.6533333333333345/84843 [01:35<1512:06:33, 64.16s/it]\u001b[A\n",
            "Training Progress:   0%|          | 0.6560000000000012/84843 [01:36<1507:11:26, 63.95s/it]\u001b[A\n",
            "Training Progress:   0%|          | 0.658666666666668/84843 [01:36<1497:25:40, 63.54s/it] \u001b[A\n",
            "Training Progress:   0%|          | 0.6613333333333347/84843 [01:36<1496:12:09, 63.49s/it]\u001b[A\n",
            "Training Progress:   0%|          | 0.6640000000000014/84843 [01:36<1487:04:18, 63.10s/it]\u001b[A\n",
            "Training Progress:   0%|          | 0.6666666666666681/84843 [01:36<1489:16:50, 63.19s/it]\u001b[A\n",
            "Training Progress:   0%|          | 0.6693333333333348/84843 [01:36<1487:31:27, 63.12s/it]\u001b[A\n",
            "Training Progress:   0%|          | 0.6720000000000015/84843 [01:37<1492:55:12, 63.35s/it]\u001b[A\n",
            "Training Progress:   0%|          | 0.6746666666666682/84843 [01:37<1505:50:51, 63.90s/it]\u001b[A\n",
            "Training Progress:   0%|          | 0.6773333333333349/84843 [01:37<1497:07:26, 63.53s/it]\u001b[A\n",
            "Training Progress:   0%|          | 0.6800000000000016/84843 [01:37<1489:14:33, 63.19s/it]\u001b[A\n",
            "Training Progress:   0%|          | 0.6826666666666683/84843 [01:37<1511:03:10, 64.12s/it]\u001b[A\n",
            "Training Progress:   0%|          | 0.685333333333335/84843 [01:37<1512:05:57, 64.16s/it] \u001b[A\n",
            "Training Progress:   0%|          | 0.6880000000000017/84843 [01:38<1992:51:02, 84.56s/it]\u001b[A\n",
            "Training Progress:   0%|          | 0.6906666666666684/84843 [01:38<1908:01:21, 80.96s/it]\u001b[A\n",
            "Training Progress:   0%|          | 0.6933333333333351/84843 [01:38<1794:46:19, 76.16s/it]\u001b[A\n",
            "Training Progress:   0%|          | 0.6960000000000018/84843 [01:38<1727:17:28, 73.29s/it]\u001b[A"
          ]
        },
        {
          "output_type": "stream",
          "name": "stdout",
          "text": [
            "Train Epoch: 1 [66560/84843 (78%)]\tLoss: 3.564037\n"
          ]
        },
        {
          "output_type": "stream",
          "name": "stderr",
          "text": [
            "\n",
            "Training Progress:   0%|          | 0.6986666666666685/84843 [01:39<2135:16:31, 90.60s/it]\u001b[A\n",
            "Training Progress:   0%|          | 0.7013333333333353/84843 [01:39<1996:06:48, 84.70s/it]\u001b[A\n",
            "Training Progress:   0%|          | 0.704000000000002/84843 [01:39<1857:36:27, 78.82s/it] \u001b[A\n",
            "Training Progress:   0%|          | 0.7066666666666687/84843 [01:39<1755:38:51, 74.50s/it]\u001b[A\n",
            "Training Progress:   0%|          | 0.7093333333333354/84843 [01:39<1895:57:13, 80.45s/it]\u001b[A\n",
            "Training Progress:   0%|          | 0.7120000000000021/84843 [01:40<2035:23:13, 86.36s/it]\u001b[A\n",
            "Training Progress:   0%|          | 0.7146666666666688/84843 [01:40<1891:02:31, 80.24s/it]\u001b[A\n",
            "Training Progress:   0%|          | 0.7173333333333355/84843 [01:40<1785:57:55, 75.78s/it]\u001b[A\n",
            "Training Progress:   0%|          | 0.7200000000000022/84843 [01:40<1720:02:16, 72.98s/it]\u001b[A\n",
            "Training Progress:   0%|          | 0.7226666666666689/84843 [01:40<1661:00:22, 70.48s/it]\u001b[A\n",
            "Training Progress:   0%|          | 0.7253333333333356/84843 [01:41<1621:37:26, 68.81s/it]\u001b[A\n",
            "Training Progress:   0%|          | 0.7280000000000023/84843 [01:41<1582:24:45, 67.14s/it]\u001b[A\n",
            "Training Progress:   0%|          | 0.730666666666669/84843 [01:41<1571:59:18, 66.70s/it] \u001b[A\n",
            "Training Progress:   0%|          | 0.7333333333333357/84843 [01:41<1551:20:07, 65.83s/it]\u001b[A\n",
            "Training Progress:   0%|          | 0.7360000000000024/84843 [01:41<1543:25:34, 65.49s/it]\u001b[A\n",
            "Training Progress:   0%|          | 0.7386666666666691/84843 [01:41<1550:42:25, 65.80s/it]\u001b[A\n",
            "Training Progress:   0%|          | 0.7413333333333358/84843 [01:42<1553:45:16, 65.93s/it]\u001b[A\n",
            "Training Progress:   0%|          | 0.7440000000000025/84843 [01:42<1541:25:16, 65.41s/it]\u001b[A\n",
            "Training Progress:   0%|          | 0.7466666666666693/84843 [01:42<1538:17:18, 65.27s/it]\u001b[A\n",
            "Training Progress:   0%|          | 0.749333333333336/84843 [01:42<1557:10:37, 66.07s/it] \u001b[A\n",
            "Training Progress:   0%|          | 0.7520000000000027/84843 [01:42<1545:42:15, 65.59s/it]\u001b[A"
          ]
        },
        {
          "output_type": "stream",
          "name": "stdout",
          "text": [
            "Train Epoch: 1 [71680/84843 (84%)]\tLoss: 3.559382\n"
          ]
        },
        {
          "output_type": "stream",
          "name": "stderr",
          "text": [
            "\n",
            "Training Progress:   0%|          | 0.7546666666666694/84843 [01:43<1549:54:13, 65.77s/it]\u001b[A\n",
            "Training Progress:   0%|          | 0.7573333333333361/84843 [01:43<1551:03:30, 65.81s/it]\u001b[A\n",
            "Training Progress:   0%|          | 0.7600000000000028/84843 [01:43<1534:15:28, 65.10s/it]\u001b[A\n",
            "Training Progress:   0%|          | 0.7626666666666695/84843 [01:43<1655:27:13, 70.24s/it]\u001b[A\n",
            "Training Progress:   0%|          | 0.7653333333333362/84843 [01:43<1713:18:03, 72.70s/it]\u001b[A\n",
            "Training Progress:   0%|          | 0.7680000000000029/84843 [01:44<1743:55:18, 74.00s/it]\u001b[A\n",
            "Training Progress:   0%|          | 0.7706666666666696/84843 [01:44<1733:59:37, 73.58s/it]\u001b[A\n",
            "Training Progress:   0%|          | 0.7733333333333363/84843 [01:44<1762:45:01, 74.80s/it]\u001b[A\n",
            "Training Progress:   0%|          | 0.776000000000003/84843 [01:44<1743:54:31, 74.00s/it] \u001b[A\n",
            "Training Progress:   0%|          | 0.7786666666666697/84843 [01:44<1733:58:21, 73.58s/it]\u001b[A\n",
            "Training Progress:   0%|          | 0.7813333333333364/84843 [01:45<1783:54:02, 75.69s/it]\u001b[A\n",
            "Training Progress:   0%|          | 0.7840000000000031/84843 [01:45<1786:35:15, 75.81s/it]\u001b[A\n",
            "Training Progress:   0%|          | 0.7866666666666698/84843 [01:45<1815:42:48, 77.04s/it]\u001b[A\n",
            "Training Progress:   0%|          | 0.7893333333333366/84843 [01:45<1730:45:17, 73.44s/it]\u001b[A\n",
            "Training Progress:   0%|          | 0.7920000000000033/84843 [01:45<1666:22:27, 70.71s/it]\u001b[A\n",
            "Training Progress:   0%|          | 0.79466666666667/84843 [01:45<1619:02:30, 68.70s/it]  \u001b[A\n",
            "Training Progress:   0%|          | 0.7973333333333367/84843 [01:46<1619:36:42, 68.72s/it]\u001b[A\n",
            "Training Progress:   0%|          | 0.8000000000000034/84843 [01:46<1586:12:40, 67.31s/it]\u001b[A\n",
            "Training Progress:   0%|          | 0.8026666666666701/84843 [01:46<1586:46:57, 67.33s/it]\u001b[A\n",
            "Training Progress:   0%|          | 0.8053333333333368/84843 [01:46<1554:16:19, 65.95s/it]\u001b[A"
          ]
        },
        {
          "output_type": "stream",
          "name": "stdout",
          "text": [
            "Train Epoch: 1 [76800/84843 (90%)]\tLoss: 3.570342\n"
          ]
        },
        {
          "output_type": "stream",
          "name": "stderr",
          "text": [
            "\n",
            "Training Progress:   0%|          | 0.8080000000000035/84843 [01:46<1549:30:16, 65.75s/it]\u001b[A\n",
            "Training Progress:   0%|          | 0.8106666666666702/84843 [01:47<1549:29:47, 65.75s/it]\u001b[A\n",
            "Training Progress:   0%|          | 0.8133333333333369/84843 [01:47<1552:09:55, 65.86s/it]\u001b[A\n",
            "Training Progress:   0%|          | 0.8160000000000036/84843 [01:47<1541:35:52, 65.41s/it]\u001b[A\n",
            "Training Progress:   0%|          | 0.8186666666666703/84843 [01:47<1529:26:17, 64.90s/it]\u001b[A\n",
            "Training Progress:   0%|          | 0.821333333333337/84843 [01:47<1533:53:49, 65.09s/it] \u001b[A\n",
            "Training Progress:   0%|          | 0.8240000000000037/84843 [01:47<1531:09:55, 64.97s/it]\u001b[A\n",
            "Training Progress:   0%|          | 0.8266666666666704/84843 [01:48<1539:33:03, 65.33s/it]\u001b[A\n",
            "Training Progress:   0%|          | 0.8293333333333371/84843 [01:48<1535:06:19, 65.14s/it]\u001b[A\n",
            "Training Progress:   0%|          | 0.8320000000000038/84843 [01:48<1533:46:24, 65.08s/it]\u001b[A\n",
            "Training Progress:   0%|          | 0.8346666666666706/84843 [01:48<1536:26:43, 65.19s/it]\u001b[A\n",
            "Training Progress:   0%|          | 0.8373333333333373/84843 [01:48<1528:38:39, 64.86s/it]\u001b[A\n",
            "Training Progress:   0%|          | 0.840000000000004/84843 [01:48<1522:29:08, 64.60s/it] \u001b[A\n",
            "Training Progress:   0%|          | 0.8426666666666707/84843 [01:49<1516:09:40, 64.33s/it]\u001b[A\n",
            "Training Progress:   0%|          | 0.8453333333333374/84843 [01:49<1516:09:28, 64.33s/it]\u001b[A\n",
            "Training Progress:   0%|          | 0.8480000000000041/84843 [01:49<1518:26:39, 64.43s/it]\u001b[A\n",
            "Training Progress:   0%|          | 0.8506666666666708/84843 [01:49<1526:23:10, 64.77s/it]\u001b[A\n",
            "Training Progress:   0%|          | 0.8533333333333375/84843 [01:49<1533:16:50, 65.06s/it]\u001b[A\n",
            "Training Progress:   0%|          | 0.8560000000000042/84843 [01:49<1549:19:43, 65.74s/it]\u001b[A\n",
            "Training Progress:   0%|          | 0.8586666666666709/84843 [01:50<1549:00:37, 65.73s/it]\u001b[A"
          ]
        },
        {
          "output_type": "stream",
          "name": "stdout",
          "text": [
            "Train Epoch: 1 [81920/84843 (96%)]\tLoss: 3.565339\n"
          ]
        },
        {
          "output_type": "stream",
          "name": "stderr",
          "text": [
            "\n",
            "Training Progress:   0%|          | 0.8613333333333376/84843 [01:50<1540:34:14, 65.37s/it]\u001b[A\n",
            "Training Progress:   0%|          | 0.8640000000000043/84843 [01:50<1537:38:15, 65.24s/it]\u001b[A\n",
            "Training Progress:   0%|          | 0.866666666666671/84843 [01:50<1532:29:03, 65.03s/it] \u001b[A\n",
            "Training Progress:   0%|          | 0.8693333333333377/84843 [01:50<1540:14:09, 65.35s/it]\u001b[A\n",
            "Training Progress:   0%|          | 0.8720000000000044/84843 [01:50<1534:57:58, 65.13s/it]\u001b[A\n",
            "Training Progress:   0%|          | 0.8746666666666711/84843 [01:51<1538:15:54, 65.27s/it]\u001b[A\n",
            "Training Progress:   0%|          | 0.8773333333333379/84843 [01:51<1532:01:47, 65.01s/it]\u001b[A\n",
            "Training Progress:   0%|          | 0.8800000000000046/84843 [01:51<1531:50:59, 65.00s/it]\u001b[A\n",
            "Training Progress:   0%|          | 0.8826666666666713/84843 [01:51<1530:08:20, 64.93s/it]\u001b[A\n",
            "Training Progress:   0%|          | 0.8880000000000047/84843 [01:51<1340:07:30, 56.86s/it]\u001b[A\n",
            "Training Progress:   0%|          | 0.8906666666666714/84843 [01:52<1394:38:37, 59.18s/it]\u001b[A\n",
            "Training Progress:   0%|          | 0.8933333333333381/84843 [01:52<1459:44:49, 61.94s/it]\u001b[A\n",
            "Training Progress:   0%|          | 0.8960000000000048/84843 [01:52<1495:35:55, 63.46s/it]\u001b[A\n",
            "Training Progress:   0%|          | 0.8986666666666715/84843 [01:52<1527:51:28, 64.83s/it]\u001b[A\n",
            "Training Progress:   0%|          | 0.9013333333333382/84843 [01:52<1542:11:41, 65.44s/it]\u001b[A\n",
            "Training Progress:   0%|          | 0.9040000000000049/84843 [01:53<1544:47:50, 65.55s/it]\u001b[A\n",
            "Training Progress:   0%|          | 0.9066666666666716/84843 [01:53<1568:59:24, 66.58s/it]\u001b[A\n",
            "Training Progress:   0%|          | 0.9093333333333383/84843 [01:53<1561:27:05, 66.26s/it]\u001b[A\n",
            "Training Progress:   0%|          | 0.912000000000005/84843 [01:53<1565:11:27, 66.41s/it] \u001b[A\n",
            "Training Progress:   0%|          | 0.9146666666666717/84843 [01:53<1551:21:17, 65.83s/it]\u001b[A\n",
            "Training Progress:   0%|          | 0.9173333333333384/84843 [01:53<1547:23:55, 65.66s/it]\u001b[A\n",
            "Training Progress:   0%|          | 0.9200000000000051/84843 [01:54<1554:54:01, 65.98s/it]\u001b[A\n",
            "Training Progress:   0%|          | 0.9226666666666719/84843 [01:54<1580:10:15, 67.05s/it]\u001b[A\n",
            "Training Progress:   0%|          | 0.9253333333333386/84843 [01:54<1584:51:32, 67.25s/it]\u001b[A\n",
            "Training Progress:   0%|          | 0.9280000000000053/84843 [01:54<1569:16:07, 66.59s/it]\u001b[A\n",
            "Training Progress:   0%|          | 0.930666666666672/84843 [01:54<1563:22:06, 66.34s/it] \u001b[A\n",
            "Training Progress:   0%|          | 0.9333333333333387/84843 [01:54<1556:45:00, 66.06s/it]\u001b[A\n",
            "Training Progress:   0%|          | 0.9360000000000054/84843 [01:55<1557:58:52, 66.11s/it]\u001b[A\n",
            "Training Progress:   0%|          | 0.9386666666666721/84843 [01:55<1569:43:38, 66.61s/it]\u001b[A\n",
            "Training Progress:   0%|          | 0.9413333333333388/84843 [01:55<1629:29:29, 69.14s/it]\u001b[A\n",
            "Training Progress:   0%|          | 0.9440000000000055/84843 [01:55<1699:13:03, 72.10s/it]\u001b[A\n",
            "Training Progress:   0%|          | 0.9466666666666722/84843 [01:55<1726:26:38, 73.26s/it]\u001b[A\n",
            "Training Progress:   0%|          | 0.9493333333333389/84843 [01:56<1727:48:34, 73.31s/it]\u001b[A\n",
            "Training Progress:   0%|          | 0.9520000000000056/84843 [01:56<1789:16:43, 75.92s/it]\u001b[A\n",
            "Training Progress:   0%|          | 0.9546666666666723/84843 [01:56<1792:39:06, 76.07s/it]\u001b[A\n",
            "Training Progress:   0%|          | 0.957333333333339/84843 [01:56<1772:56:10, 75.23s/it] \u001b[A\n",
            "Training Progress:   0%|          | 0.9600000000000057/84843 [01:56<1761:50:04, 74.76s/it]\u001b[A\n",
            "Training Progress:   0%|          | 0.9626666666666724/84843 [01:57<1774:16:37, 75.29s/it]\u001b[A\n",
            "Training Progress:   0%|          | 0.9653333333333391/84843 [01:57<1775:41:07, 75.35s/it]\u001b[A\n",
            "Training Progress:   0%|          | 0.9680000000000059/84843 [01:57<1770:57:38, 75.15s/it]\u001b[A\n",
            "Training Progress:   0%|          | 0.9706666666666726/84843 [01:57<1726:10:45, 73.24s/it]\u001b[A\n",
            "Training Progress:   0%|          | 0.9733333333333393/84843 [01:57<1659:25:46, 70.41s/it]\u001b[A\n",
            "Training Progress:   0%|          | 0.976000000000006/84843 [01:58<1617:58:06, 68.65s/it] \u001b[A\n",
            "Training Progress:   0%|          | 0.9786666666666727/84843 [01:58<1585:14:17, 67.26s/it]\u001b[A\n",
            "Training Progress:   0%|          | 0.9813333333333394/84843 [01:58<1575:10:31, 66.84s/it]\u001b[A\n",
            "Training Progress:   0%|          | 0.9840000000000061/84843 [01:58<1565:02:05, 66.41s/it]\u001b[A\n",
            "Training Progress:   0%|          | 0.9866666666666728/84843 [01:58<1569:12:54, 66.58s/it]\u001b[A\n",
            "Training Progress:   0%|          | 0.9893333333333395/84843 [01:58<1560:56:43, 66.23s/it]\u001b[A\n",
            "Training Progress:   0%|          | 0.9920000000000062/84843 [01:59<1566:20:30, 66.46s/it]\u001b[A\n",
            "Training Progress:   0%|          | 0.9946666666666729/84843 [01:59<1555:16:28, 65.99s/it]\u001b[A\n",
            "Training Progress:   0%|          | 0.9973333333333396/84843 [01:59<1568:58:43, 66.57s/it]\u001b[A\n",
            "Training Progress:   0%|          | 1.0000000000000062/84843 [01:59<1561:13:58, 66.25s/it]\u001b[A"
          ]
        },
        {
          "output_type": "stream",
          "name": "stdout",
          "text": [
            "\n",
            "Test Epoch: 1\tAccuracy: 165/11005 (1%)\n",
            "Average WER: 0.9850\n",
            "Average CER: 1.6171\n",
            "\n",
            "saved\n"
          ]
        },
        {
          "output_type": "stream",
          "name": "stderr",
          "text": [
            "\n",
            "Training Progress:   0%|          | 1.0026666666666728/84843 [01:59<1663:05:29, 70.57s/it]\u001b[A\n",
            "Training Progress:   0%|          | 1.0053333333333394/84843 [02:00<1616:52:58, 68.61s/it]\u001b[A"
          ]
        },
        {
          "output_type": "stream",
          "name": "stdout",
          "text": [
            "Train Epoch: 2 [0/84843 (0%)]\tLoss: 3.554454\n"
          ]
        },
        {
          "output_type": "stream",
          "name": "stderr",
          "text": [
            "\n",
            "Training Progress:   0%|          | 1.008000000000006/84843 [02:00<1591:44:46, 67.54s/it] \u001b[A\n",
            "Training Progress:   0%|          | 1.0106666666666726/84843 [02:00<1590:28:12, 67.49s/it]\u001b[A\n",
            "Training Progress:   0%|          | 1.0133333333333392/84843 [02:00<1563:39:12, 66.35s/it]\u001b[A\n",
            "Training Progress:   0%|          | 1.0160000000000058/84843 [02:00<1560:33:23, 66.22s/it]\u001b[A\n",
            "Training Progress:   0%|          | 1.0186666666666724/84843 [02:00<1551:22:48, 65.83s/it]\u001b[A\n",
            "Training Progress:   0%|          | 1.021333333333339/84843 [02:01<1545:07:23, 65.56s/it] \u001b[A\n",
            "Training Progress:   0%|          | 1.0240000000000056/84843 [02:01<1547:45:46, 65.67s/it]\u001b[A\n",
            "Training Progress:   0%|          | 1.0266666666666722/84843 [02:01<1576:12:09, 66.88s/it]\u001b[A\n",
            "Training Progress:   0%|          | 1.0293333333333388/84843 [02:01<1564:22:34, 66.38s/it]\u001b[A\n",
            "Training Progress:   0%|          | 1.0320000000000054/84843 [02:01<1555:05:51, 65.99s/it]\u001b[A\n",
            "Training Progress:   0%|          | 1.034666666666672/84843 [02:01<1541:52:22, 65.42s/it] \u001b[A\n",
            "Training Progress:   0%|          | 1.0373333333333385/84843 [02:02<1546:25:21, 65.62s/it]\u001b[A\n",
            "Training Progress:   0%|          | 1.0400000000000051/84843 [02:02<1536:33:30, 65.20s/it]\u001b[A\n",
            "Training Progress:   0%|          | 1.0426666666666717/84843 [02:02<1544:01:29, 65.52s/it]\u001b[A\n",
            "Training Progress:   0%|          | 1.0453333333333383/84843 [02:02<1540:15:51, 65.36s/it]\u001b[A\n",
            "Training Progress:   0%|          | 1.048000000000005/84843 [02:02<1536:37:39, 65.20s/it] \u001b[A\n",
            "Training Progress:   0%|          | 1.0506666666666715/84843 [02:03<1537:37:33, 65.24s/it]\u001b[A\n",
            "Training Progress:   0%|          | 1.0533333333333381/84843 [02:03<1541:15:35, 65.40s/it]\u001b[A\n",
            "Training Progress:   0%|          | 1.0560000000000047/84843 [02:03<1564:41:49, 66.39s/it]\u001b[A\n",
            "Training Progress:   0%|          | 1.0586666666666713/84843 [02:03<1567:10:46, 66.50s/it]\u001b[A"
          ]
        },
        {
          "output_type": "stream",
          "name": "stdout",
          "text": [
            "Train Epoch: 2 [5120/84843 (6%)]\tLoss: 3.562550\n"
          ]
        },
        {
          "output_type": "stream",
          "name": "stderr",
          "text": [
            "\n",
            "Training Progress:   0%|          | 1.061333333333338/84843 [02:03<1568:19:43, 66.55s/it] \u001b[A\n",
            "Training Progress:   0%|          | 1.0640000000000045/84843 [02:03<1562:50:01, 66.31s/it]\u001b[A\n",
            "Training Progress:   0%|          | 1.066666666666671/84843 [02:04<1562:02:31, 66.28s/it] \u001b[A\n",
            "Training Progress:   0%|          | 1.0693333333333377/84843 [02:04<1554:23:44, 65.96s/it]\u001b[A\n",
            "Training Progress:   0%|          | 1.0720000000000043/84843 [02:04<1574:54:40, 66.83s/it]\u001b[A\n",
            "Training Progress:   0%|          | 1.0746666666666709/84843 [02:04<1548:36:59, 65.71s/it]\u001b[A\n",
            "Training Progress:   0%|          | 1.0773333333333375/84843 [02:04<1534:57:42, 65.13s/it]\u001b[A\n",
            "Training Progress:   0%|          | 1.080000000000004/84843 [02:04<1531:49:53, 65.00s/it] \u001b[A\n",
            "Training Progress:   0%|          | 1.0826666666666707/84843 [02:05<1536:31:26, 65.20s/it]\u001b[A\n",
            "Training Progress:   0%|          | 1.0853333333333373/84843 [02:05<1533:40:13, 65.08s/it]\u001b[A\n",
            "Training Progress:   0%|          | 1.0880000000000039/84843 [02:05<1552:35:02, 65.88s/it]\u001b[A\n",
            "Training Progress:   0%|          | 1.0906666666666704/84843 [02:05<1553:46:57, 65.93s/it]\u001b[A\n",
            "Training Progress:   0%|          | 1.093333333333337/84843 [02:05<1549:33:35, 65.75s/it] \u001b[A\n",
            "Training Progress:   0%|          | 1.0960000000000036/84843 [02:06<1544:47:38, 65.55s/it]\u001b[A\n",
            "Training Progress:   0%|          | 1.0986666666666702/84843 [02:06<1542:56:57, 65.47s/it]\u001b[A\n",
            "Training Progress:   0%|          | 1.1013333333333368/84843 [02:06<1556:17:24, 66.04s/it]\u001b[A\n",
            "Training Progress:   0%|          | 1.1040000000000034/84843 [02:06<1567:43:31, 66.52s/it]\u001b[A\n",
            "Training Progress:   0%|          | 1.10666666666667/84843 [02:06<1573:36:45, 66.77s/it]  \u001b[A\n",
            "Training Progress:   0%|          | 1.1093333333333366/84843 [02:06<1594:10:21, 67.64s/it]\u001b[A\n",
            "Training Progress:   0%|          | 1.1120000000000032/84843 [02:07<1572:13:53, 66.71s/it]\u001b[A"
          ]
        },
        {
          "output_type": "stream",
          "name": "stdout",
          "text": [
            "Train Epoch: 2 [10240/84843 (12%)]\tLoss: 3.574173\n"
          ]
        },
        {
          "output_type": "stream",
          "name": "stderr",
          "text": [
            "\n",
            "Training Progress:   0%|          | 1.1146666666666698/84843 [02:07<1571:10:37, 66.67s/it]\u001b[A\n",
            "Training Progress:   0%|          | 1.1173333333333364/84843 [02:07<1577:04:45, 66.92s/it]\u001b[A\n",
            "Training Progress:   0%|          | 1.120000000000003/84843 [02:07<1570:49:52, 66.65s/it] \u001b[A\n",
            "Training Progress:   0%|          | 1.1226666666666696/84843 [02:07<1642:30:50, 69.69s/it]\u001b[A\n",
            "Training Progress:   0%|          | 1.1253333333333362/84843 [02:08<1693:37:11, 71.86s/it]\u001b[A\n",
            "Training Progress:   0%|          | 1.1280000000000028/84843 [02:08<1737:00:11, 73.70s/it]\u001b[A\n",
            "Training Progress:   0%|          | 1.1306666666666694/84843 [02:08<1768:56:37, 75.06s/it]\u001b[A\n",
            "Training Progress:   0%|          | 1.133333333333336/84843 [02:08<1803:48:26, 76.54s/it] \u001b[A\n",
            "Training Progress:   0%|          | 1.1360000000000026/84843 [02:08<1851:12:37, 78.55s/it]\u001b[A\n",
            "Training Progress:   0%|          | 1.1386666666666692/84843 [02:09<1815:35:34, 77.04s/it]\u001b[A\n",
            "Training Progress:   0%|          | 1.1413333333333358/84843 [02:09<1840:22:15, 78.09s/it]\u001b[A\n",
            "Training Progress:   0%|          | 1.1440000000000023/84843 [02:09<1822:29:04, 77.33s/it]\u001b[A\n",
            "Training Progress:   0%|          | 1.146666666666669/84843 [02:09<1846:17:52, 78.34s/it] \u001b[A\n",
            "Training Progress:   0%|          | 1.1493333333333355/84843 [02:09<1759:59:23, 74.68s/it]\u001b[A\n",
            "Training Progress:   0%|          | 1.1520000000000021/84843 [02:10<1691:12:32, 71.76s/it]\u001b[A\n",
            "Training Progress:   0%|          | 1.1546666666666687/84843 [02:10<1631:55:42, 69.25s/it]\u001b[A\n",
            "Training Progress:   0%|          | 1.1573333333333353/84843 [02:10<1616:45:46, 68.60s/it]\u001b[A\n",
            "Training Progress:   0%|          | 1.160000000000002/84843 [02:10<1614:48:32, 68.52s/it] \u001b[A\n",
            "Training Progress:   0%|          | 1.1626666666666685/84843 [02:10<1615:07:20, 68.53s/it]\u001b[A\n",
            "Training Progress:   0%|          | 1.165333333333335/84843 [02:10<1584:58:31, 67.25s/it] \u001b[A"
          ]
        },
        {
          "output_type": "stream",
          "name": "stdout",
          "text": [
            "Train Epoch: 2 [15360/84843 (18%)]\tLoss: 3.566158\n"
          ]
        },
        {
          "output_type": "stream",
          "name": "stderr",
          "text": [
            "\n",
            "Training Progress:   0%|          | 1.1680000000000017/84843 [02:11<1572:59:46, 66.75s/it]\u001b[A\n",
            "Training Progress:   0%|          | 1.1706666666666683/84843 [02:11<1570:29:47, 66.64s/it]\u001b[A\n",
            "Training Progress:   0%|          | 1.173333333333335/84843 [02:11<1560:08:58, 66.20s/it] \u001b[A\n",
            "Training Progress:   0%|          | 1.1760000000000015/84843 [02:11<1560:25:26, 66.21s/it]\u001b[A\n",
            "Training Progress:   0%|          | 1.178666666666668/84843 [02:11<1561:11:13, 66.24s/it] \u001b[A\n",
            "Training Progress:   0%|          | 1.1813333333333347/84843 [02:11<1548:57:03, 65.72s/it]\u001b[A\n",
            "Training Progress:   0%|          | 1.1840000000000013/84843 [02:12<1552:54:53, 65.89s/it]\u001b[A\n",
            "Training Progress:   0%|          | 1.1866666666666679/84843 [02:12<1539:12:23, 65.31s/it]\u001b[A\n",
            "Training Progress:   0%|          | 1.1893333333333345/84843 [02:12<1541:01:42, 65.39s/it]\u001b[A\n",
            "Training Progress:   0%|          | 1.192000000000001/84843 [02:12<1556:25:00, 66.04s/it] \u001b[A\n",
            "Training Progress:   0%|          | 1.1946666666666677/84843 [02:12<1551:48:32, 65.85s/it]\u001b[A\n",
            "Training Progress:   0%|          | 1.1973333333333342/84843 [02:13<1557:32:42, 66.09s/it]\u001b[A\n",
            "Training Progress:   0%|          | 1.2000000000000008/84843 [02:13<1547:52:41, 65.68s/it]\u001b[A\n",
            "Training Progress:   0%|          | 1.2026666666666674/84843 [02:13<1545:29:00, 65.58s/it]\u001b[A\n",
            "Training Progress:   0%|          | 1.205333333333334/84843 [02:13<1555:59:18, 66.02s/it] \u001b[A\n",
            "Training Progress:   0%|          | 1.2080000000000006/84843 [02:13<1552:55:27, 65.89s/it]\u001b[A\n",
            "Training Progress:   0%|          | 1.2106666666666672/84843 [02:13<1561:05:26, 66.24s/it]\u001b[A\n",
            "Training Progress:   0%|          | 1.2133333333333338/84843 [02:14<1546:39:29, 65.63s/it]\u001b[A\n",
            "Training Progress:   0%|          | 1.2160000000000004/84843 [02:14<1566:36:21, 66.47s/it]\u001b[A\n",
            "Training Progress:   0%|          | 1.218666666666667/84843 [02:14<1552:59:46, 65.90s/it] \u001b[A"
          ]
        },
        {
          "output_type": "stream",
          "name": "stdout",
          "text": [
            "Train Epoch: 2 [20480/84843 (24%)]\tLoss: 3.569427\n"
          ]
        },
        {
          "output_type": "stream",
          "name": "stderr",
          "text": [
            "\n",
            "Training Progress:   0%|          | 1.2213333333333336/84843 [02:14<1550:50:34, 65.81s/it]\u001b[A\n",
            "Training Progress:   0%|          | 1.2240000000000002/84843 [02:14<1559:58:48, 66.19s/it]\u001b[A\n",
            "Training Progress:   0%|          | 1.2266666666666668/84843 [02:14<1545:30:50, 65.58s/it]\u001b[A\n",
            "Training Progress:   0%|          | 1.2293333333333334/84843 [02:15<1553:11:22, 65.90s/it]\u001b[A\n",
            "Training Progress:   0%|          | 1.232/84843 [02:15<1556:14:38, 66.03s/it]             \u001b[A\n",
            "Training Progress:   0%|          | 1.2346666666666666/84843 [02:15<1549:56:17, 65.77s/it]\u001b[A\n",
            "Training Progress:   0%|          | 1.2373333333333332/84843 [02:15<1563:47:13, 66.35s/it]\u001b[A\n",
            "Training Progress:   0%|          | 1.2399999999999998/84843 [02:15<1570:59:39, 66.66s/it]\u001b[A\n",
            "Training Progress:   0%|          | 1.2426666666666664/84843 [02:16<1564:24:40, 66.38s/it]\u001b[A\n",
            "Training Progress:   0%|          | 1.245333333333333/84843 [02:16<1562:08:42, 66.28s/it] \u001b[A\n",
            "Training Progress:   0%|          | 1.2479999999999996/84843 [02:16<1555:15:03, 65.99s/it]\u001b[A\n",
            "Training Progress:   0%|          | 1.2506666666666661/84843 [02:16<1552:15:06, 65.87s/it]\u001b[A\n",
            "Training Progress:   0%|          | 1.2533333333333327/84843 [02:16<1575:32:01, 66.85s/it]\u001b[A\n",
            "Training Progress:   0%|          | 1.2559999999999993/84843 [02:16<1590:02:28, 67.47s/it]\u001b[A\n",
            "Training Progress:   0%|          | 1.258666666666666/84843 [02:17<1575:05:34, 66.83s/it] \u001b[A\n",
            "Training Progress:   0%|          | 1.2613333333333325/84843 [02:17<1555:47:42, 66.02s/it]\u001b[A\n",
            "Training Progress:   0%|          | 1.2639999999999991/84843 [02:17<1572:16:16, 66.71s/it]\u001b[A\n",
            "Training Progress:   0%|          | 1.2666666666666657/84843 [02:17<1556:40:01, 66.05s/it]\u001b[A\n",
            "Training Progress:   0%|          | 1.2693333333333323/84843 [02:17<1587:35:19, 67.36s/it]\u001b[A\n",
            "Training Progress:   0%|          | 1.271999999999999/84843 [02:17<1566:18:04, 66.46s/it] \u001b[A"
          ]
        },
        {
          "output_type": "stream",
          "name": "stdout",
          "text": [
            "Train Epoch: 2 [25600/84843 (30%)]\tLoss: 3.560910\n"
          ]
        },
        {
          "output_type": "stream",
          "name": "stderr",
          "text": [
            "\n",
            "Training Progress:   0%|          | 1.2746666666666655/84843 [02:18<1567:11:35, 66.50s/it]\u001b[A\n",
            "Training Progress:   0%|          | 1.277333333333332/84843 [02:18<1563:57:04, 66.36s/it] \u001b[A\n",
            "Training Progress:   0%|          | 1.2799999999999987/84843 [02:18<1558:30:01, 66.13s/it]\u001b[A\n",
            "Training Progress:   0%|          | 1.2826666666666653/84843 [02:18<1560:36:21, 66.22s/it]\u001b[A\n",
            "Training Progress:   0%|          | 1.2853333333333319/84843 [02:18<1558:14:18, 66.12s/it]\u001b[A\n",
            "Training Progress:   0%|          | 1.2879999999999985/84843 [02:19<1557:58:36, 66.11s/it]\u001b[A\n",
            "Training Progress:   0%|          | 1.290666666666665/84843 [02:19<1556:27:47, 66.04s/it] \u001b[A\n",
            "Training Progress:   0%|          | 1.2933333333333317/84843 [02:19<1551:24:26, 65.83s/it]\u001b[A\n",
            "Training Progress:   0%|          | 1.2959999999999983/84843 [02:19<1562:36:51, 66.30s/it]\u001b[A\n",
            "Training Progress:   0%|          | 1.2986666666666649/84843 [02:19<1556:21:48, 66.04s/it]\u001b[A\n",
            "Training Progress:   0%|          | 1.3013333333333315/84843 [02:19<1664:22:34, 70.62s/it]\u001b[A\n",
            "Training Progress:   0%|          | 1.303999999999998/84843 [02:20<1700:04:39, 72.14s/it] \u001b[A\n",
            "Training Progress:   0%|          | 1.3066666666666646/84843 [02:20<1740:03:03, 73.83s/it]\u001b[A\n",
            "Training Progress:   0%|          | 1.3093333333333312/84843 [02:20<1736:12:07, 73.67s/it]\u001b[A\n",
            "Training Progress:   0%|          | 1.3119999999999978/84843 [02:20<1736:11:02, 73.67s/it]\u001b[A\n",
            "Training Progress:   0%|          | 1.3146666666666644/84843 [02:20<1796:39:05, 76.24s/it]\u001b[A\n",
            "Training Progress:   0%|          | 1.317333333333331/84843 [02:21<1829:25:20, 77.63s/it] \u001b[A\n",
            "Training Progress:   0%|          | 1.3199999999999976/84843 [02:21<1849:15:51, 78.47s/it]\u001b[A\n",
            "Training Progress:   0%|          | 1.3226666666666642/84843 [02:21<1886:07:00, 80.03s/it]\u001b[A\n",
            "Training Progress:   0%|          | 1.3253333333333308/84843 [02:21<1805:05:25, 76.59s/it]\u001b[A"
          ]
        },
        {
          "output_type": "stream",
          "name": "stdout",
          "text": [
            "Train Epoch: 2 [30720/84843 (36%)]\tLoss: 3.559988\n"
          ]
        },
        {
          "output_type": "stream",
          "name": "stderr",
          "text": [
            "\n",
            "Training Progress:   0%|          | 1.3279999999999974/84843 [02:21<1736:42:15, 73.69s/it]\u001b[A\n",
            "Training Progress:   0%|          | 1.330666666666664/84843 [02:22<1680:36:04, 71.31s/it] \u001b[A\n",
            "Training Progress:   0%|          | 1.3333333333333306/84843 [02:22<1633:16:46, 69.30s/it]\u001b[A\n",
            "Training Progress:   0%|          | 1.3359999999999972/84843 [02:22<1617:06:48, 68.62s/it]\u001b[A\n",
            "Training Progress:   0%|          | 1.3386666666666638/84843 [02:22<1592:00:02, 67.55s/it]\u001b[A\n",
            "Training Progress:   0%|          | 1.3413333333333304/84843 [02:22<1583:44:16, 67.20s/it]\u001b[A\n",
            "Training Progress:   0%|          | 1.343999999999997/84843 [02:23<1576:06:47, 66.88s/it] \u001b[A\n",
            "Training Progress:   0%|          | 1.3466666666666636/84843 [02:23<1568:17:23, 66.55s/it]\u001b[A\n",
            "Training Progress:   0%|          | 1.3493333333333302/84843 [02:23<1564:36:55, 66.39s/it]\u001b[A\n",
            "Training Progress:   0%|          | 1.3519999999999968/84843 [02:23<1560:20:53, 66.21s/it]\u001b[A\n",
            "Training Progress:   0%|          | 1.3546666666666634/84843 [02:23<1549:59:25, 65.77s/it]\u001b[A\n",
            "Training Progress:   0%|          | 1.35733333333333/84843 [02:23<1552:58:20, 65.90s/it]  \u001b[A\n",
            "Training Progress:   0%|          | 1.3599999999999965/84843 [02:24<1542:42:39, 65.46s/it]\u001b[A\n",
            "Training Progress:   0%|          | 1.3626666666666631/84843 [02:24<1543:11:46, 65.48s/it]\u001b[A\n",
            "Training Progress:   0%|          | 1.3653333333333297/84843 [02:24<1554:01:13, 65.94s/it]\u001b[A\n",
            "Training Progress:   0%|          | 1.3679999999999963/84843 [02:24<1543:59:29, 65.51s/it]\u001b[A\n",
            "Training Progress:   0%|          | 1.370666666666663/84843 [02:24<1544:52:23, 65.55s/it] \u001b[A\n",
            "Training Progress:   0%|          | 1.3733333333333295/84843 [02:24<1549:41:59, 65.76s/it]\u001b[A\n",
            "Training Progress:   0%|          | 1.3759999999999961/84843 [02:25<1551:50:22, 65.85s/it]\u001b[A\n",
            "Training Progress:   0%|          | 1.3786666666666627/84843 [02:25<1544:47:59, 65.55s/it]\u001b[A"
          ]
        },
        {
          "output_type": "stream",
          "name": "stdout",
          "text": [
            "Train Epoch: 2 [35840/84843 (42%)]\tLoss: 3.555063\n"
          ]
        },
        {
          "output_type": "stream",
          "name": "stderr",
          "text": [
            "\n",
            "Training Progress:   0%|          | 1.3813333333333293/84843 [02:25<1551:53:16, 65.85s/it]\u001b[A\n",
            "Training Progress:   0%|          | 1.383999999999996/84843 [02:25<1552:42:08, 65.88s/it] \u001b[A\n",
            "Training Progress:   0%|          | 1.3866666666666625/84843 [02:25<1544:57:35, 65.56s/it]\u001b[A\n",
            "Training Progress:   0%|          | 1.389333333333329/84843 [02:26<1556:33:56, 66.05s/it] \u001b[A\n",
            "Training Progress:   0%|          | 1.3919999999999957/84843 [02:26<1554:11:02, 65.95s/it]\u001b[A\n",
            "Training Progress:   0%|          | 1.3946666666666623/84843 [02:26<1554:37:07, 65.97s/it]\u001b[A\n",
            "Training Progress:   0%|          | 1.3973333333333289/84843 [02:26<1552:12:39, 65.86s/it]\u001b[A\n",
            "Training Progress:   0%|          | 1.3999999999999955/84843 [02:26<1544:38:56, 65.54s/it]\u001b[A\n",
            "Training Progress:   0%|          | 1.402666666666662/84843 [02:26<1560:18:11, 66.21s/it] \u001b[A\n",
            "Training Progress:   0%|          | 1.4053333333333287/84843 [02:27<1569:35:30, 66.60s/it]\u001b[A\n",
            "Training Progress:   0%|          | 1.4079999999999953/84843 [02:27<1563:35:36, 66.35s/it]\u001b[A\n",
            "Training Progress:   0%|          | 1.4106666666666619/84843 [02:27<1557:30:21, 66.09s/it]\u001b[A\n",
            "Training Progress:   0%|          | 1.4133333333333284/84843 [02:27<1538:46:09, 65.29s/it]\u001b[A\n",
            "Training Progress:   0%|          | 1.415999999999995/84843 [02:27<1539:08:34, 65.31s/it] \u001b[A\n",
            "Training Progress:   0%|          | 1.4186666666666616/84843 [02:27<1549:13:07, 65.74s/it]\u001b[A\n",
            "Training Progress:   0%|          | 1.4213333333333282/84843 [02:28<1542:13:06, 65.44s/it]\u001b[A\n",
            "Training Progress:   0%|          | 1.4239999999999948/84843 [02:28<1541:17:03, 65.40s/it]\u001b[A\n",
            "Training Progress:   0%|          | 1.4266666666666614/84843 [02:28<1557:35:46, 66.09s/it]\u001b[A\n",
            "Training Progress:   0%|          | 1.429333333333328/84843 [02:28<1565:47:54, 66.44s/it] \u001b[A\n",
            "Training Progress:   0%|          | 1.4319999999999946/84843 [02:28<1551:40:57, 65.84s/it]\u001b[A"
          ]
        },
        {
          "output_type": "stream",
          "name": "stdout",
          "text": [
            "Train Epoch: 2 [40960/84843 (48%)]\tLoss: 3.569892\n"
          ]
        },
        {
          "output_type": "stream",
          "name": "stderr",
          "text": [
            "\n",
            "Training Progress:   0%|          | 1.4346666666666612/84843 [02:29<1568:33:30, 66.56s/it]\u001b[A\n",
            "Training Progress:   0%|          | 1.4373333333333278/84843 [02:29<1558:01:29, 66.11s/it]\u001b[A\n",
            "Training Progress:   0%|          | 1.4399999999999944/84843 [02:29<1556:51:36, 66.06s/it]\u001b[A\n",
            "Training Progress:   0%|          | 1.442666666666661/84843 [02:29<1548:30:17, 65.71s/it] \u001b[A\n",
            "Training Progress:   0%|          | 1.4453333333333276/84843 [02:29<1543:55:58, 65.51s/it]\u001b[A\n",
            "Training Progress:   0%|          | 1.4479999999999942/84843 [02:29<1547:38:09, 65.67s/it]\u001b[A\n",
            "Training Progress:   0%|          | 1.4506666666666608/84843 [02:30<1562:53:15, 66.32s/it]\u001b[A\n",
            "Training Progress:   0%|          | 1.4533333333333274/84843 [02:30<1557:37:01, 66.09s/it]\u001b[A\n",
            "Training Progress:   0%|          | 1.455999999999994/84843 [02:30<1557:46:57, 66.10s/it] \u001b[A\n",
            "Training Progress:   0%|          | 1.4586666666666606/84843 [02:30<1560:47:54, 66.23s/it]\u001b[A\n",
            "Training Progress:   0%|          | 1.4613333333333272/84843 [02:30<1568:11:56, 66.54s/it]\u001b[A\n",
            "Training Progress:   0%|          | 1.4639999999999938/84843 [02:30<1561:18:31, 66.25s/it]\u001b[A\n",
            "Training Progress:   0%|          | 1.4666666666666603/84843 [02:31<1573:11:13, 66.75s/it]\u001b[A\n",
            "Training Progress:   0%|          | 1.469333333333327/84843 [02:31<1564:19:36, 66.38s/it] \u001b[A\n",
            "Training Progress:   0%|          | 1.4719999999999935/84843 [02:31<1560:46:00, 66.23s/it]\u001b[A\n",
            "Training Progress:   0%|          | 1.4746666666666601/84843 [02:31<1557:26:16, 66.09s/it]\u001b[A\n",
            "Training Progress:   0%|          | 1.4773333333333267/84843 [02:31<1619:24:37, 68.71s/it]\u001b[A\n",
            "Training Progress:   0%|          | 1.4799999999999933/84843 [02:32<1695:58:02, 71.96s/it]\u001b[A\n",
            "Training Progress:   0%|          | 1.48266666666666/84843 [02:32<1713:14:26, 72.70s/it]  \u001b[A"
          ]
        },
        {
          "output_type": "stream",
          "name": "stdout",
          "text": [
            "Train Epoch: 2 [46080/84843 (54%)]\tLoss: 3.559901\n"
          ]
        },
        {
          "output_type": "stream",
          "name": "stderr",
          "text": [
            "\n",
            "Training Progress:   0%|          | 1.4853333333333265/84843 [02:32<1742:31:25, 73.94s/it]\u001b[A\n",
            "Training Progress:   0%|          | 1.487999999999993/84843 [02:32<1762:17:07, 74.78s/it] \u001b[A\n",
            "Training Progress:   0%|          | 1.4906666666666597/84843 [02:32<1738:40:50, 73.78s/it]\u001b[A\n",
            "Training Progress:   0%|          | 1.4933333333333263/84843 [02:33<1799:51:47, 76.37s/it]\u001b[A\n",
            "Training Progress:   0%|          | 1.495999999999993/84843 [02:33<1823:18:34, 77.37s/it] \u001b[A\n",
            "Training Progress:   0%|          | 1.4986666666666595/84843 [02:33<1838:24:05, 78.01s/it]\u001b[A\n",
            "Training Progress:   0%|          | 1.501333333333326/84843 [02:33<1817:01:56, 77.10s/it] \u001b[A\n",
            "Training Progress:   0%|          | 1.5039999999999927/84843 [02:33<1783:43:29, 75.69s/it]\u001b[A\n",
            "Training Progress:   0%|          | 1.5066666666666593/84843 [02:34<1726:53:54, 73.28s/it]\u001b[A\n",
            "Training Progress:   0%|          | 1.5093333333333259/84843 [02:34<1661:19:55, 70.49s/it]\u001b[A\n",
            "Training Progress:   0%|          | 1.5119999999999925/84843 [02:34<1628:05:23, 69.08s/it]\u001b[A\n",
            "Training Progress:   0%|          | 1.514666666666659/84843 [02:34<1602:48:57, 68.01s/it] \u001b[A\n",
            "Training Progress:   0%|          | 1.5173333333333257/84843 [02:34<1577:35:01, 66.94s/it]\u001b[A\n",
            "Training Progress:   0%|          | 1.5199999999999922/84843 [02:34<1570:48:40, 66.65s/it]\u001b[A\n",
            "Training Progress:   0%|          | 1.5226666666666588/84843 [02:35<1577:25:21, 66.93s/it]\u001b[A\n",
            "Training Progress:   0%|          | 1.5253333333333254/84843 [02:35<1561:24:50, 66.25s/it]\u001b[A\n",
            "Training Progress:   0%|          | 1.527999999999992/84843 [02:35<1567:37:26, 66.52s/it] \u001b[A\n",
            "Training Progress:   0%|          | 1.5306666666666586/84843 [02:35<1550:32:10, 65.79s/it]\u001b[A\n",
            "Training Progress:   0%|          | 1.5333333333333252/84843 [02:35<1552:21:59, 65.87s/it]\u001b[A\n",
            "Training Progress:   0%|          | 1.5359999999999918/84843 [02:36<1582:17:07, 67.14s/it]\u001b[A\n",
            "Training Progress:   0%|          | 1.5386666666666584/84843 [02:36<1594:23:21, 67.65s/it]\u001b[A"
          ]
        },
        {
          "output_type": "stream",
          "name": "stdout",
          "text": [
            "Train Epoch: 2 [51200/84843 (60%)]\tLoss: 3.565522\n"
          ]
        },
        {
          "output_type": "stream",
          "name": "stderr",
          "text": [
            "\n",
            "Training Progress:   0%|          | 1.541333333333325/84843 [02:36<1601:08:09, 67.94s/it] \u001b[A\n",
            "Training Progress:   0%|          | 1.5439999999999916/84843 [02:36<1577:51:22, 66.95s/it]\u001b[A\n",
            "Training Progress:   0%|          | 1.5466666666666582/84843 [02:36<1568:40:07, 66.56s/it]\u001b[A\n",
            "Training Progress:   0%|          | 1.5493333333333248/84843 [02:36<1558:28:39, 66.13s/it]\u001b[A\n",
            "Training Progress:   0%|          | 1.5519999999999914/84843 [02:37<1545:08:36, 65.56s/it]\u001b[A\n",
            "Training Progress:   0%|          | 1.554666666666658/84843 [02:37<1556:42:39, 66.05s/it] \u001b[A\n",
            "Training Progress:   0%|          | 1.5573333333333246/84843 [02:37<1564:11:12, 66.37s/it]\u001b[A\n",
            "Training Progress:   0%|          | 1.5599999999999912/84843 [02:37<1559:47:52, 66.19s/it]\u001b[A\n",
            "Training Progress:   0%|          | 1.5626666666666578/84843 [02:37<1566:21:53, 66.46s/it]\u001b[A\n",
            "Training Progress:   0%|          | 1.5653333333333244/84843 [02:37<1572:40:42, 66.73s/it]\u001b[A\n",
            "Training Progress:   0%|          | 1.567999999999991/84843 [02:38<1569:19:06, 66.59s/it] \u001b[A\n",
            "Training Progress:   0%|          | 1.5706666666666576/84843 [02:38<1566:06:54, 66.45s/it]\u001b[A\n",
            "Training Progress:   0%|          | 1.5733333333333241/84843 [02:38<1553:52:25, 65.93s/it]\u001b[A\n",
            "Training Progress:   0%|          | 1.5759999999999907/84843 [02:38<1558:43:06, 66.14s/it]\u001b[A\n",
            "Training Progress:   0%|          | 1.5786666666666573/84843 [02:38<1546:03:00, 65.60s/it]\u001b[A\n",
            "Training Progress:   0%|          | 1.581333333333324/84843 [02:39<1541:13:21, 65.40s/it] \u001b[A\n",
            "Training Progress:   0%|          | 1.5839999999999905/84843 [02:39<1547:41:26, 65.67s/it]\u001b[A\n",
            "Training Progress:   0%|          | 1.5866666666666571/84843 [02:39<1551:37:15, 65.84s/it]\u001b[A\n",
            "Training Progress:   0%|          | 1.5893333333333237/84843 [02:39<1556:57:15, 66.06s/it]\u001b[A\n",
            "Training Progress:   0%|          | 1.5919999999999903/84843 [02:39<1544:38:05, 65.54s/it]\u001b[A"
          ]
        },
        {
          "output_type": "stream",
          "name": "stdout",
          "text": [
            "Train Epoch: 2 [56320/84843 (66%)]\tLoss: 3.555101\n"
          ]
        },
        {
          "output_type": "stream",
          "name": "stderr",
          "text": [
            "\n",
            "Training Progress:   0%|          | 1.594666666666657/84843 [02:39<1545:40:44, 65.59s/it] \u001b[A\n",
            "Training Progress:   0%|          | 1.5973333333333235/84843 [02:40<1553:35:35, 65.92s/it]\u001b[A\n",
            "Training Progress:   0%|          | 1.59999999999999/84843 [02:40<1557:05:33, 66.07s/it]  \u001b[A\n",
            "Training Progress:   0%|          | 1.6026666666666567/84843 [02:40<1551:24:15, 65.83s/it]\u001b[A\n",
            "Training Progress:   0%|          | 1.6053333333333233/84843 [02:40<1553:15:50, 65.91s/it]\u001b[A\n",
            "Training Progress:   0%|          | 1.6079999999999899/84843 [02:40<1540:52:31, 65.38s/it]\u001b[A\n",
            "Training Progress:   0%|          | 1.6106666666666565/84843 [02:40<1537:35:06, 65.24s/it]\u001b[A\n",
            "Training Progress:   0%|          | 1.613333333333323/84843 [02:41<1532:26:03, 65.02s/it] \u001b[A\n",
            "Training Progress:   0%|          | 1.6159999999999897/84843 [02:41<1540:07:16, 65.35s/it]\u001b[A\n",
            "Training Progress:   0%|          | 1.6186666666666563/84843 [02:41<1545:02:08, 65.56s/it]\u001b[A\n",
            "Training Progress:   0%|          | 1.6213333333333229/84843 [02:41<1544:14:19, 65.53s/it]\u001b[A\n",
            "Training Progress:   0%|          | 1.6239999999999895/84843 [02:41<1547:38:16, 65.67s/it]\u001b[A\n",
            "Training Progress:   0%|          | 1.626666666666656/84843 [02:42<1545:13:24, 65.57s/it] \u001b[A\n",
            "Training Progress:   0%|          | 1.6293333333333226/84843 [02:42<1546:28:07, 65.62s/it]\u001b[A\n",
            "Training Progress:   0%|          | 1.6319999999999892/84843 [02:42<1560:08:20, 66.20s/it]\u001b[A\n",
            "Training Progress:   0%|          | 1.6346666666666558/84843 [02:42<1552:45:33, 65.89s/it]\u001b[A\n",
            "Training Progress:   0%|          | 1.6373333333333224/84843 [02:42<1557:04:57, 66.07s/it]\u001b[A\n",
            "Training Progress:   0%|          | 1.639999999999989/84843 [02:42<1560:31:54, 66.22s/it] \u001b[A\n",
            "Training Progress:   0%|          | 1.6426666666666556/84843 [02:43<1568:08:32, 66.54s/it]\u001b[A\n",
            "Training Progress:   0%|          | 1.6453333333333222/84843 [02:43<1566:35:32, 66.47s/it]\u001b[A"
          ]
        },
        {
          "output_type": "stream",
          "name": "stdout",
          "text": [
            "Train Epoch: 2 [61440/84843 (72%)]\tLoss: 3.563986\n"
          ]
        },
        {
          "output_type": "stream",
          "name": "stderr",
          "text": [
            "\n",
            "Training Progress:   0%|          | 1.6479999999999888/84843 [02:43<1562:47:09, 66.31s/it]\u001b[A\n",
            "Training Progress:   0%|          | 1.6506666666666554/84843 [02:43<1548:37:10, 65.71s/it]\u001b[A\n",
            "Training Progress:   0%|          | 1.653333333333322/84843 [02:43<1545:04:53, 65.56s/it] \u001b[A\n",
            "Training Progress:   0%|          | 1.6559999999999886/84843 [02:43<1570:07:34, 66.62s/it]\u001b[A\n",
            "Training Progress:   0%|          | 1.6586666666666552/84843 [02:44<1666:42:13, 70.72s/it]\u001b[A\n",
            "Training Progress:   0%|          | 1.6613333333333218/84843 [02:44<1721:24:45, 73.04s/it]\u001b[A\n",
            "Training Progress:   0%|          | 1.6639999999999884/84843 [02:44<1757:23:57, 74.57s/it]\u001b[A\n",
            "Training Progress:   0%|          | 1.666666666666655/84843 [02:44<1784:24:02, 75.72s/it] \u001b[A\n",
            "Training Progress:   0%|          | 1.6693333333333216/84843 [02:45<1806:32:54, 76.66s/it]\u001b[A\n",
            "Training Progress:   0%|          | 1.6719999999999882/84843 [02:45<1830:41:11, 77.68s/it]\u001b[A\n",
            "Training Progress:   0%|          | 1.6746666666666548/84843 [02:45<1852:09:25, 78.59s/it]\u001b[A\n",
            "Training Progress:   0%|          | 1.6773333333333214/84843 [02:45<1854:17:06, 78.68s/it]\u001b[A\n",
            "Training Progress:   0%|          | 1.679999999999988/84843 [02:45<1806:08:51, 76.64s/it] \u001b[A\n",
            "Training Progress:   0%|          | 1.6826666666666545/84843 [02:46<1737:10:52, 73.71s/it]\u001b[A\n",
            "Training Progress:   0%|          | 1.6853333333333211/84843 [02:46<1694:31:29, 71.90s/it]\u001b[A\n",
            "Training Progress:   0%|          | 1.6879999999999877/84843 [02:46<1661:11:08, 70.49s/it]\u001b[A\n",
            "Training Progress:   0%|          | 1.6906666666666543/84843 [02:46<1627:03:26, 69.04s/it]\u001b[A\n",
            "Training Progress:   0%|          | 1.693333333333321/84843 [02:46<1599:32:45, 67.87s/it] \u001b[A\n",
            "Training Progress:   0%|          | 1.6959999999999875/84843 [02:46<1614:57:46, 68.53s/it]\u001b[A\n",
            "Training Progress:   0%|          | 1.6986666666666541/84843 [02:47<1596:39:52, 67.75s/it]\u001b[A"
          ]
        },
        {
          "output_type": "stream",
          "name": "stdout",
          "text": [
            "Train Epoch: 2 [66560/84843 (78%)]\tLoss: 3.566906\n"
          ]
        },
        {
          "output_type": "stream",
          "name": "stderr",
          "text": [
            "\n",
            "Training Progress:   0%|          | 1.7013333333333207/84843 [02:47<1587:25:08, 67.36s/it]\u001b[A\n",
            "Training Progress:   0%|          | 1.7039999999999873/84843 [02:47<1593:32:34, 67.62s/it]\u001b[A\n",
            "Training Progress:   0%|          | 1.706666666666654/84843 [02:47<1605:34:51, 68.13s/it] \u001b[A\n",
            "Training Progress:   0%|          | 1.7093333333333205/84843 [02:47<1590:39:31, 67.50s/it]\u001b[A\n",
            "Training Progress:   0%|          | 1.711999999999987/84843 [02:47<1574:26:00, 66.81s/it] \u001b[A\n",
            "Training Progress:   0%|          | 1.7146666666666537/84843 [02:48<1580:10:53, 67.05s/it]\u001b[A\n",
            "Training Progress:   0%|          | 1.7173333333333203/84843 [02:48<1909:44:04, 81.03s/it]\u001b[A\n",
            "Training Progress:   0%|          | 1.7199999999999869/84843 [02:48<1808:49:49, 76.75s/it]\u001b[A\n",
            "Training Progress:   0%|          | 1.7226666666666535/84843 [02:48<1730:07:12, 73.41s/it]\u001b[A\n",
            "Training Progress:   0%|          | 1.72533333333332/84843 [02:48<1684:36:46, 71.48s/it]  \u001b[A\n",
            "Training Progress:   0%|          | 1.7279999999999867/84843 [02:49<1645:15:09, 69.81s/it]\u001b[A\n",
            "Training Progress:   0%|          | 1.7306666666666533/84843 [02:49<1620:43:25, 68.77s/it]\u001b[A\n",
            "Training Progress:   0%|          | 1.7333333333333198/84843 [02:49<1616:10:57, 68.58s/it]\u001b[A\n",
            "Training Progress:   0%|          | 1.7359999999999864/84843 [02:49<1587:36:03, 67.37s/it]\u001b[A\n",
            "Training Progress:   0%|          | 1.738666666666653/84843 [02:49<1580:43:13, 67.07s/it] \u001b[A\n",
            "Training Progress:   0%|          | 1.7413333333333196/84843 [02:50<1567:11:40, 66.50s/it]\u001b[A\n",
            "Training Progress:   0%|          | 1.7439999999999862/84843 [02:50<1583:04:46, 67.17s/it]\u001b[A\n",
            "Training Progress:   0%|          | 1.7466666666666528/84843 [02:50<1569:11:32, 66.58s/it]\u001b[A\n",
            "Training Progress:   0%|          | 1.7493333333333194/84843 [02:50<1584:48:58, 67.25s/it]\u001b[A\n",
            "Training Progress:   0%|          | 1.751999999999986/84843 [02:50<1564:57:35, 66.40s/it] \u001b[A"
          ]
        },
        {
          "output_type": "stream",
          "name": "stdout",
          "text": [
            "Train Epoch: 2 [71680/84843 (84%)]\tLoss: 3.558904\n"
          ]
        },
        {
          "output_type": "stream",
          "name": "stderr",
          "text": [
            "\n",
            "Training Progress:   0%|          | 1.7546666666666526/84843 [02:50<1566:24:36, 66.47s/it]\u001b[A\n",
            "Training Progress:   0%|          | 1.7573333333333192/84843 [02:51<1556:32:38, 66.05s/it]\u001b[A\n",
            "Training Progress:   0%|          | 1.7599999999999858/84843 [02:51<1551:22:08, 65.83s/it]\u001b[A\n",
            "Training Progress:   0%|          | 1.7626666666666524/84843 [02:51<1560:28:04, 66.21s/it]\u001b[A\n",
            "Training Progress:   0%|          | 1.765333333333319/84843 [02:51<1562:39:36, 66.31s/it] \u001b[A\n",
            "Training Progress:   0%|          | 1.7679999999999856/84843 [02:51<1563:12:25, 66.33s/it]\u001b[A\n",
            "Training Progress:   0%|          | 1.7706666666666522/84843 [02:51<1558:48:54, 66.14s/it]\u001b[A\n",
            "Training Progress:   0%|          | 1.7733333333333188/84843 [02:52<1560:15:50, 66.21s/it]\u001b[A\n",
            "Training Progress:   0%|          | 1.7759999999999854/84843 [02:52<1559:15:56, 66.16s/it]\u001b[A\n",
            "Training Progress:   0%|          | 1.778666666666652/84843 [02:52<1575:56:42, 66.87s/it] \u001b[A\n",
            "Training Progress:   0%|          | 1.7813333333333186/84843 [02:52<1552:30:07, 65.88s/it]\u001b[A\n",
            "Training Progress:   0%|          | 1.7839999999999852/84843 [02:52<1543:21:08, 65.49s/it]\u001b[A\n",
            "Training Progress:   0%|          | 1.7866666666666517/84843 [02:53<1552:44:39, 65.89s/it]\u001b[A\n",
            "Training Progress:   0%|          | 1.7893333333333183/84843 [02:53<1548:16:49, 65.70s/it]\u001b[A\n",
            "Training Progress:   0%|          | 1.791999999999985/84843 [02:53<1547:56:38, 65.68s/it] \u001b[A\n",
            "Training Progress:   0%|          | 1.7946666666666515/84843 [02:53<1566:20:52, 66.46s/it]\u001b[A\n",
            "Training Progress:   0%|          | 1.7973333333333181/84843 [02:53<1566:49:37, 66.48s/it]\u001b[A\n",
            "Training Progress:   0%|          | 1.7999999999999847/84843 [02:53<1555:06:44, 65.99s/it]\u001b[A\n",
            "Training Progress:   0%|          | 1.8026666666666513/84843 [02:54<1576:44:55, 66.90s/it]\u001b[A\n",
            "Training Progress:   0%|          | 1.805333333333318/84843 [02:54<1580:15:45, 67.05s/it] \u001b[A"
          ]
        },
        {
          "output_type": "stream",
          "name": "stdout",
          "text": [
            "Train Epoch: 2 [76800/84843 (90%)]\tLoss: 3.560226\n"
          ]
        },
        {
          "output_type": "stream",
          "name": "stderr",
          "text": [
            "\n",
            "Training Progress:   0%|          | 1.8079999999999845/84843 [02:54<1586:07:22, 67.30s/it]\u001b[A\n",
            "Training Progress:   0%|          | 1.810666666666651/84843 [02:54<1576:44:27, 66.90s/it] \u001b[A\n",
            "Training Progress:   0%|          | 1.8133333333333177/84843 [02:54<1568:28:23, 66.55s/it]\u001b[A\n",
            "Training Progress:   0%|          | 1.8159999999999843/84843 [02:55<1562:34:39, 66.30s/it]\u001b[A\n",
            "Training Progress:   0%|          | 1.8186666666666509/84843 [02:55<1559:58:19, 66.19s/it]\u001b[A\n",
            "Training Progress:   0%|          | 1.8213333333333175/84843 [02:55<1553:09:59, 65.90s/it]\u001b[A\n",
            "Training Progress:   0%|          | 1.823999999999984/84843 [02:55<1562:40:12, 66.31s/it] \u001b[A\n",
            "Training Progress:   0%|          | 1.8266666666666507/84843 [02:55<1564:30:44, 66.39s/it]\u001b[A\n",
            "Training Progress:   0%|          | 1.8293333333333173/84843 [02:55<1665:09:44, 70.66s/it]\u001b[A\n",
            "Training Progress:   0%|          | 1.8319999999999839/84843 [02:56<1746:35:33, 74.11s/it]\u001b[A\n",
            "Training Progress:   0%|          | 1.8346666666666505/84843 [02:56<1773:57:27, 75.27s/it]\u001b[A\n",
            "Training Progress:   0%|          | 1.837333333333317/84843 [02:56<1818:34:49, 77.17s/it] \u001b[A\n",
            "Training Progress:   0%|          | 1.8399999999999836/84843 [02:56<1856:47:10, 78.79s/it]\u001b[A\n",
            "Training Progress:   0%|          | 1.8426666666666502/84843 [02:56<1826:49:23, 77.52s/it]\u001b[A\n",
            "Training Progress:   0%|          | 1.8453333333333168/84843 [02:57<1845:05:48, 78.29s/it]\u001b[A\n",
            "Training Progress:   0%|          | 1.8479999999999834/84843 [02:57<1844:47:37, 78.28s/it]\u001b[A\n",
            "Training Progress:   0%|          | 1.85066666666665/84843 [02:57<1885:26:56, 80.00s/it]  \u001b[A\n",
            "Training Progress:   0%|          | 1.8533333333333166/84843 [02:57<1803:05:47, 76.51s/it]\u001b[A\n",
            "Training Progress:   0%|          | 1.8559999999999832/84843 [02:57<1739:26:56, 73.81s/it]\u001b[A\n",
            "Training Progress:   0%|          | 1.8586666666666498/84843 [02:58<1678:07:26, 71.21s/it]\u001b[A"
          ]
        },
        {
          "output_type": "stream",
          "name": "stdout",
          "text": [
            "Train Epoch: 2 [81920/84843 (96%)]\tLoss: 3.546019\n"
          ]
        },
        {
          "output_type": "stream",
          "name": "stderr",
          "text": [
            "\n",
            "Training Progress:   0%|          | 1.8613333333333164/84843 [02:58<1651:35:49, 70.08s/it]\u001b[A\n",
            "Training Progress:   0%|          | 1.863999999999983/84843 [02:58<1614:06:44, 68.49s/it] \u001b[A\n",
            "Training Progress:   0%|          | 1.8666666666666496/84843 [02:58<1607:15:26, 68.20s/it]\u001b[A\n",
            "Training Progress:   0%|          | 1.8693333333333162/84843 [02:58<1590:58:03, 67.51s/it]\u001b[A\n",
            "Training Progress:   0%|          | 1.8719999999999828/84843 [02:59<1603:55:17, 68.06s/it]\u001b[A\n",
            "Training Progress:   0%|          | 1.8746666666666494/84843 [02:59<1593:18:12, 67.61s/it]\u001b[A\n",
            "Training Progress:   0%|          | 1.877333333333316/84843 [02:59<1587:30:09, 67.36s/it] \u001b[A\n",
            "Training Progress:   0%|          | 1.8799999999999826/84843 [02:59<1568:15:47, 66.54s/it]\u001b[A\n",
            "Training Progress:   0%|          | 1.8826666666666492/84843 [02:59<1566:31:09, 66.47s/it]\u001b[A\n",
            "Training Progress:   0%|          | 1.8879999999999824/84843 [03:00<1348:38:23, 57.23s/it]\u001b[A\n",
            "Training Progress:   0%|          | 1.890666666666649/84843 [03:00<1406:41:30, 59.69s/it] \u001b[A\n",
            "Training Progress:   0%|          | 1.8933333333333155/84843 [03:00<1462:17:06, 62.05s/it]\u001b[A\n",
            "Training Progress:   0%|          | 1.8959999999999821/84843 [03:00<1489:26:09, 63.20s/it]\u001b[A\n",
            "Training Progress:   0%|          | 1.8986666666666487/84843 [03:00<1525:19:31, 64.72s/it]\u001b[A\n",
            "Training Progress:   0%|          | 1.9013333333333153/84843 [03:00<1540:58:42, 65.39s/it]\u001b[A\n",
            "Training Progress:   0%|          | 1.903999999999982/84843 [03:01<1554:51:52, 65.98s/it] \u001b[A\n",
            "Training Progress:   0%|          | 1.9066666666666485/84843 [03:01<1555:05:45, 65.99s/it]\u001b[A\n",
            "Training Progress:   0%|          | 1.9093333333333151/84843 [03:01<1558:20:00, 66.12s/it]\u001b[A\n",
            "Training Progress:   0%|          | 1.9119999999999817/84843 [03:01<1555:16:40, 65.99s/it]\u001b[A\n",
            "Training Progress:   0%|          | 1.9146666666666483/84843 [03:01<1561:37:20, 66.26s/it]\u001b[A\n",
            "Training Progress:   0%|          | 1.917333333333315/84843 [03:01<1569:52:02, 66.61s/it] \u001b[A\n",
            "Training Progress:   0%|          | 1.9199999999999815/84843 [03:02<1581:59:55, 67.13s/it]\u001b[A\n",
            "Training Progress:   0%|          | 1.922666666666648/84843 [03:02<1585:27:42, 67.27s/it] \u001b[A\n",
            "Training Progress:   0%|          | 1.9253333333333147/84843 [03:02<1580:54:08, 67.08s/it]\u001b[A\n",
            "Training Progress:   0%|          | 1.9279999999999813/84843 [03:02<1587:25:34, 67.36s/it]\u001b[A\n",
            "Training Progress:   0%|          | 1.9306666666666479/84843 [03:02<1599:35:33, 67.87s/it]\u001b[A\n",
            "Training Progress:   0%|          | 1.9333333333333145/84843 [03:03<1605:25:52, 68.12s/it]\u001b[A\n",
            "Training Progress:   0%|          | 1.935999999999981/84843 [03:03<1598:17:32, 67.82s/it] \u001b[A\n",
            "Training Progress:   0%|          | 1.9386666666666477/84843 [03:03<1591:59:39, 67.55s/it]\u001b[A\n",
            "Training Progress:   0%|          | 1.9413333333333143/84843 [03:03<1582:42:04, 67.16s/it]\u001b[A\n",
            "Training Progress:   0%|          | 1.9439999999999809/84843 [03:03<1600:22:48, 67.91s/it]\u001b[A\n",
            "Training Progress:   0%|          | 1.9466666666666474/84843 [03:03<1588:01:03, 67.38s/it]\u001b[A\n",
            "Training Progress:   0%|          | 1.949333333333314/84843 [03:04<1589:29:37, 67.45s/it] \u001b[A\n",
            "Training Progress:   0%|          | 1.9519999999999806/84843 [03:04<1580:22:53, 67.06s/it]\u001b[A\n",
            "Training Progress:   0%|          | 1.9546666666666472/84843 [03:04<1583:07:39, 67.18s/it]\u001b[A\n",
            "Training Progress:   0%|          | 1.9573333333333138/84843 [03:04<1566:24:49, 66.47s/it]\u001b[A\n",
            "Training Progress:   0%|          | 1.9599999999999804/84843 [03:04<1596:58:56, 67.76s/it]\u001b[A\n",
            "Training Progress:   0%|          | 1.962666666666647/84843 [03:05<1601:57:10, 67.97s/it] \u001b[A\n",
            "Training Progress:   0%|          | 1.9653333333333136/84843 [03:05<1594:17:20, 67.65s/it]\u001b[A\n",
            "Training Progress:   0%|          | 1.9679999999999802/84843 [03:05<1600:55:27, 67.93s/it]\u001b[A\n",
            "Training Progress:   0%|          | 1.9706666666666468/84843 [03:05<1587:54:36, 67.38s/it]\u001b[A\n",
            "Training Progress:   0%|          | 1.9733333333333134/84843 [03:05<1581:14:58, 67.10s/it]\u001b[A\n",
            "Training Progress:   0%|          | 1.97599999999998/84843 [03:05<1580:15:53, 67.05s/it]  \u001b[A\n",
            "Training Progress:   0%|          | 1.9786666666666466/84843 [03:06<1608:46:43, 68.26s/it]\u001b[A\n",
            "Training Progress:   0%|          | 1.9813333333333132/84843 [03:06<1600:45:20, 67.92s/it]\u001b[A\n",
            "Training Progress:   0%|          | 1.9839999999999798/84843 [03:06<1583:36:08, 67.20s/it]\u001b[A\n",
            "Training Progress:   0%|          | 1.9866666666666464/84843 [03:06<1569:49:42, 66.61s/it]\u001b[A\n",
            "Training Progress:   0%|          | 1.989333333333313/84843 [03:06<1589:50:56, 67.46s/it] \u001b[A\n",
            "Training Progress:   0%|          | 1.9919999999999796/84843 [03:07<1590:40:23, 67.50s/it]\u001b[A\n",
            "Training Progress:   0%|          | 1.9946666666666462/84843 [03:07<1594:28:14, 67.66s/it]\u001b[A\n",
            "Training Progress:   0%|          | 1.9973333333333128/84843 [03:07<1588:54:18, 67.42s/it]\u001b[A\n",
            "Training Progress:   0%|          | 1.9999999999999793/84843 [03:07<1593:41:49, 67.62s/it]\u001b[A"
          ]
        },
        {
          "output_type": "stream",
          "name": "stdout",
          "text": [
            "\n",
            "Test Epoch: 2\tAccuracy: 165/11005 (1%)\n",
            "Average WER: 0.9850\n",
            "Average CER: 1.6171\n",
            "\n",
            "saved\n"
          ]
        },
        {
          "output_type": "stream",
          "name": "stderr",
          "text": [
            "\n",
            "Training Progress:   0%|          | 2.002666666666646/84843 [03:07<1698:54:34, 72.09s/it] \u001b[A"
          ]
        },
        {
          "output_type": "stream",
          "name": "stdout",
          "text": [
            "Train Epoch: 3 [0/84843 (0%)]\tLoss: 3.557297\n"
          ]
        },
        {
          "output_type": "stream",
          "name": "stderr",
          "text": [
            "\n",
            "Training Progress:   0%|          | 2.0053333333333128/84843 [03:07<1727:20:10, 73.29s/it]\u001b[A\n",
            "Training Progress:   0%|          | 2.0079999999999796/84843 [03:08<1754:41:06, 74.46s/it]\u001b[A\n",
            "Training Progress:   0%|          | 2.0106666666666464/84843 [03:08<1801:15:46, 76.43s/it]\u001b[A\n",
            "Training Progress:   0%|          | 2.013333333333313/84843 [03:08<1835:05:17, 77.87s/it] \u001b[A\n",
            "Training Progress:   0%|          | 2.01599999999998/84843 [03:08<1847:13:35, 78.38s/it] \u001b[A\n",
            "Training Progress:   0%|          | 2.018666666666647/84843 [03:09<1845:48:17, 78.32s/it]\u001b[A\n",
            "Training Progress:   0%|          | 2.0213333333333137/84843 [03:09<1841:32:24, 78.14s/it]\u001b[A\n",
            "Training Progress:   0%|          | 2.0239999999999805/84843 [03:09<1850:34:19, 78.52s/it]\u001b[A\n",
            "Training Progress:   0%|          | 2.0266666666666473/84843 [03:09<1857:32:57, 78.82s/it]\u001b[A\n",
            "Training Progress:   0%|          | 2.029333333333314/84843 [03:09<1799:12:01, 76.34s/it] \u001b[A\n",
            "Training Progress:   0%|          | 2.031999999999981/84843 [03:10<1722:20:40, 73.08s/it]\u001b[A\n",
            "Training Progress:   0%|          | 2.0346666666666477/84843 [03:10<1663:32:57, 70.59s/it]\u001b[A\n",
            "Training Progress:   0%|          | 2.0373333333333146/84843 [03:10<1629:05:07, 69.13s/it]\u001b[A\n",
            "Training Progress:   0%|          | 2.0399999999999814/84843 [03:10<1593:24:43, 67.61s/it]\u001b[A\n",
            "Training Progress:   0%|          | 2.042666666666648/84843 [03:10<1575:24:45, 66.85s/it] \u001b[A\n",
            "Training Progress:   0%|          | 2.045333333333315/84843 [03:10<1581:20:23, 67.10s/it]\u001b[A\n",
            "Training Progress:   0%|          | 2.047999999999982/84843 [03:11<1589:14:41, 67.44s/it]\u001b[A\n",
            "Training Progress:   0%|          | 2.0506666666666487/84843 [03:11<1576:26:01, 66.89s/it]\u001b[A\n",
            "Training Progress:   0%|          | 2.0533333333333155/84843 [03:11<1576:40:42, 66.90s/it]\u001b[A\n",
            "Training Progress:   0%|          | 2.0559999999999823/84843 [03:11<1579:24:05, 67.02s/it]\u001b[A\n",
            "Training Progress:   0%|          | 2.058666666666649/84843 [03:11<1565:11:01, 66.41s/it] \u001b[A"
          ]
        },
        {
          "output_type": "stream",
          "name": "stdout",
          "text": [
            "Train Epoch: 3 [5120/84843 (6%)]\tLoss: 3.562701\n"
          ]
        },
        {
          "output_type": "stream",
          "name": "stderr",
          "text": [
            "\n",
            "Training Progress:   0%|          | 2.061333333333316/84843 [03:11<1587:28:45, 67.36s/it]\u001b[A\n",
            "Training Progress:   0%|          | 2.0639999999999827/84843 [03:12<1571:26:32, 66.68s/it]\u001b[A\n",
            "Training Progress:   0%|          | 2.0666666666666496/84843 [03:12<1565:13:24, 66.42s/it]\u001b[A\n",
            "Training Progress:   0%|          | 2.0693333333333164/84843 [03:12<1557:32:25, 66.09s/it]\u001b[A\n",
            "Training Progress:   0%|          | 2.071999999999983/84843 [03:12<1545:40:01, 65.59s/it] \u001b[A\n",
            "Training Progress:   0%|          | 2.07466666666665/84843 [03:12<1551:27:07, 65.83s/it] \u001b[A\n",
            "Training Progress:   0%|          | 2.077333333333317/84843 [03:13<1586:42:41, 67.33s/it]\u001b[A\n",
            "Training Progress:   0%|          | 2.0799999999999836/84843 [03:13<1576:11:05, 66.88s/it]\u001b[A\n",
            "Training Progress:   0%|          | 2.0826666666666505/84843 [03:13<1564:19:10, 66.38s/it]\u001b[A\n",
            "Training Progress:   0%|          | 2.0853333333333173/84843 [03:13<1566:00:15, 66.45s/it]\u001b[A\n",
            "Training Progress:   0%|          | 2.087999999999984/84843 [03:13<1559:52:43, 66.19s/it] \u001b[A\n",
            "Training Progress:   0%|          | 2.090666666666651/84843 [03:13<1545:05:50, 65.56s/it]\u001b[A\n",
            "Training Progress:   0%|          | 2.0933333333333177/84843 [03:14<1550:29:55, 65.79s/it]\u001b[A\n",
            "Training Progress:   0%|          | 2.0959999999999845/84843 [03:14<1544:44:57, 65.55s/it]\u001b[A\n",
            "Training Progress:   0%|          | 2.0986666666666514/84843 [03:14<1540:27:07, 65.37s/it]\u001b[A\n",
            "Training Progress:   0%|          | 2.101333333333318/84843 [03:14<1541:54:16, 65.43s/it] \u001b[A\n",
            "Training Progress:   0%|          | 2.103999999999985/84843 [03:14<1535:00:56, 65.13s/it]\u001b[A\n",
            "Training Progress:   0%|          | 2.106666666666652/84843 [03:14<1556:11:21, 66.03s/it]\u001b[A\n",
            "Training Progress:   0%|          | 2.1093333333333186/84843 [03:15<1587:31:36, 67.36s/it]\u001b[A\n",
            "Training Progress:   0%|          | 2.1119999999999854/84843 [03:15<1593:14:18, 67.60s/it]\u001b[A"
          ]
        },
        {
          "output_type": "stream",
          "name": "stdout",
          "text": [
            "Train Epoch: 3 [10240/84843 (12%)]\tLoss: 3.558481\n"
          ]
        },
        {
          "output_type": "stream",
          "name": "stderr",
          "text": [
            "\n",
            "Training Progress:   0%|          | 2.1146666666666523/84843 [03:15<1583:41:07, 67.20s/it]\u001b[A\n",
            "Training Progress:   0%|          | 2.117333333333319/84843 [03:15<1567:56:12, 66.53s/it] \u001b[A\n",
            "Training Progress:   0%|          | 2.119999999999986/84843 [03:15<1564:41:02, 66.39s/it]\u001b[A\n",
            "Training Progress:   0%|          | 2.1226666666666527/84843 [03:16<1569:50:51, 66.61s/it]\u001b[A\n",
            "Training Progress:   0%|          | 2.1253333333333195/84843 [03:16<1570:23:13, 66.64s/it]\u001b[A\n",
            "Training Progress:   0%|          | 2.1279999999999863/84843 [03:16<1560:41:12, 66.22s/it]\u001b[A\n",
            "Training Progress:   0%|          | 2.130666666666653/84843 [03:16<1549:01:43, 65.73s/it] \u001b[A\n",
            "Training Progress:   0%|          | 2.13333333333332/84843 [03:16<1551:23:03, 65.83s/it] \u001b[A\n",
            "Training Progress:   0%|          | 2.135999999999987/84843 [03:16<1542:24:20, 65.45s/it]\u001b[A\n",
            "Training Progress:   0%|          | 2.1386666666666536/84843 [03:17<1556:49:45, 66.06s/it]\u001b[A\n",
            "Training Progress:   0%|          | 2.1413333333333204/84843 [03:17<1553:22:28, 65.91s/it]\u001b[A\n",
            "Training Progress:   0%|          | 2.1439999999999872/84843 [03:17<1549:55:28, 65.77s/it]\u001b[A\n",
            "Training Progress:   0%|          | 2.146666666666654/84843 [03:17<1547:15:15, 65.65s/it] \u001b[A\n",
            "Training Progress:   0%|          | 2.149333333333321/84843 [03:17<1559:23:49, 66.17s/it]\u001b[A\n",
            "Training Progress:   0%|          | 2.1519999999999877/84843 [03:17<1562:33:38, 66.30s/it]\u001b[A\n",
            "Training Progress:   0%|          | 2.1546666666666545/84843 [03:18<1574:07:15, 66.79s/it]\u001b[A\n",
            "Training Progress:   0%|          | 2.1573333333333213/84843 [03:18<1562:14:04, 66.29s/it]\u001b[A\n",
            "Training Progress:   0%|          | 2.159999999999988/84843 [03:18<1557:25:09, 66.09s/it] \u001b[A\n",
            "Training Progress:   0%|          | 2.162666666666655/84843 [03:18<1572:20:48, 66.72s/it]\u001b[A\n",
            "Training Progress:   0%|          | 2.165333333333322/84843 [03:18<1574:25:18, 66.81s/it]\u001b[A"
          ]
        },
        {
          "output_type": "stream",
          "name": "stdout",
          "text": [
            "Train Epoch: 3 [15360/84843 (18%)]\tLoss: 3.568250\n"
          ]
        },
        {
          "output_type": "stream",
          "name": "stderr",
          "text": [
            "\n",
            "Training Progress:   0%|          | 2.1679999999999886/84843 [03:19<1564:43:03, 66.39s/it]\u001b[A\n",
            "Training Progress:   0%|          | 2.1706666666666554/84843 [03:19<1567:52:42, 66.53s/it]\u001b[A\n",
            "Training Progress:   0%|          | 2.1733333333333222/84843 [03:19<1558:04:33, 66.11s/it]\u001b[A\n",
            "Training Progress:   0%|          | 2.175999999999989/84843 [03:19<1545:50:57, 65.59s/it] \u001b[A\n",
            "Training Progress:   0%|          | 2.178666666666656/84843 [03:19<1537:14:45, 65.23s/it]\u001b[A\n",
            "Training Progress:   0%|          | 2.1813333333333227/84843 [03:19<1634:35:13, 69.36s/it]\u001b[A\n",
            "Training Progress:   0%|          | 2.1839999999999895/84843 [03:20<1705:27:42, 72.37s/it]\u001b[A\n",
            "Training Progress:   0%|          | 2.1866666666666563/84843 [03:20<1705:22:38, 72.36s/it]\u001b[A\n",
            "Training Progress:   0%|          | 2.189333333333323/84843 [03:20<1714:59:36, 72.77s/it] \u001b[A\n",
            "Training Progress:   0%|          | 2.19199999999999/84843 [03:20<1710:09:11, 72.57s/it] \u001b[A\n",
            "Training Progress:   0%|          | 2.1946666666666568/84843 [03:20<1718:05:25, 72.90s/it]\u001b[A\n",
            "Training Progress:   0%|          | 2.1973333333333236/84843 [03:21<1754:39:17, 74.45s/it]\u001b[A\n",
            "Training Progress:   0%|          | 2.1999999999999904/84843 [03:21<1757:55:32, 74.59s/it]\u001b[A\n",
            "Training Progress:   0%|          | 2.2026666666666572/84843 [03:21<1776:37:52, 75.39s/it]\u001b[A\n",
            "Training Progress:   0%|          | 2.205333333333324/84843 [03:21<1807:49:50, 76.71s/it] \u001b[A\n",
            "Training Progress:   0%|          | 2.207999999999991/84843 [03:21<1838:14:38, 78.00s/it]\u001b[A\n",
            "Training Progress:   0%|          | 2.2106666666666577/84843 [03:22<1774:55:58, 75.31s/it]\u001b[A\n",
            "Training Progress:   0%|          | 2.2133333333333245/84843 [03:22<1705:41:10, 72.38s/it]\u001b[A\n",
            "Training Progress:   0%|          | 2.2159999999999913/84843 [03:22<1671:40:21, 70.93s/it]\u001b[A\n",
            "Training Progress:   0%|          | 2.218666666666658/84843 [03:22<1630:27:46, 69.18s/it] \u001b[A"
          ]
        },
        {
          "output_type": "stream",
          "name": "stdout",
          "text": [
            "Train Epoch: 3 [20480/84843 (24%)]\tLoss: 3.561658\n"
          ]
        },
        {
          "output_type": "stream",
          "name": "stderr",
          "text": [
            "\n",
            "Training Progress:   0%|          | 2.221333333333325/84843 [03:22<1609:27:40, 68.29s/it]\u001b[A\n",
            "Training Progress:   0%|          | 2.2239999999999918/84843 [03:23<1613:36:50, 68.47s/it]\u001b[A\n",
            "Training Progress:   0%|          | 2.2266666666666586/84843 [03:23<1622:19:14, 68.84s/it]\u001b[A\n",
            "Training Progress:   0%|          | 2.2293333333333254/84843 [03:23<1642:44:06, 69.71s/it]\u001b[A\n",
            "Training Progress:   0%|          | 2.231999999999992/84843 [03:23<1604:49:02, 68.10s/it] \u001b[A\n",
            "Training Progress:   0%|          | 2.234666666666659/84843 [03:23<1577:41:58, 66.95s/it]\u001b[A\n",
            "Training Progress:   0%|          | 2.237333333333326/84843 [03:23<1581:25:50, 67.10s/it]\u001b[A\n",
            "Training Progress:   0%|          | 2.2399999999999927/84843 [03:24<1570:11:48, 66.63s/it]\u001b[A\n",
            "Training Progress:   0%|          | 2.2426666666666595/84843 [03:24<1564:15:34, 66.38s/it]\u001b[A\n",
            "Training Progress:   0%|          | 2.2453333333333263/84843 [03:24<1556:49:06, 66.06s/it]\u001b[A\n",
            "Training Progress:   0%|          | 2.247999999999993/84843 [03:24<1548:34:18, 65.71s/it] \u001b[A\n",
            "Training Progress:   0%|          | 2.25066666666666/84843 [03:24<1549:45:08, 65.76s/it] \u001b[A\n",
            "Training Progress:   0%|          | 2.2533333333333267/84843 [03:25<1560:34:02, 66.22s/it]\u001b[A\n",
            "Training Progress:   0%|          | 2.2559999999999936/84843 [03:25<1562:54:09, 66.32s/it]\u001b[A\n",
            "Training Progress:   0%|          | 2.2586666666666604/84843 [03:25<1581:48:40, 67.12s/it]\u001b[A\n",
            "Training Progress:   0%|          | 2.261333333333327/84843 [03:25<1566:19:14, 66.46s/it] \u001b[A\n",
            "Training Progress:   0%|          | 2.263999999999994/84843 [03:25<1560:27:53, 66.21s/it]\u001b[A\n",
            "Training Progress:   0%|          | 2.266666666666661/84843 [03:25<1559:59:44, 66.19s/it]\u001b[A\n",
            "Training Progress:   0%|          | 2.2693333333333277/84843 [03:26<1574:14:58, 66.80s/it]\u001b[A\n",
            "Training Progress:   0%|          | 2.2719999999999945/84843 [03:26<1585:13:29, 67.26s/it]\u001b[A"
          ]
        },
        {
          "output_type": "stream",
          "name": "stdout",
          "text": [
            "Train Epoch: 3 [25600/84843 (30%)]\tLoss: 3.565094\n"
          ]
        },
        {
          "output_type": "stream",
          "name": "stderr",
          "text": [
            "\n",
            "Training Progress:   0%|          | 2.2746666666666613/84843 [03:26<1575:46:29, 66.86s/it]\u001b[A\n",
            "Training Progress:   0%|          | 2.277333333333328/84843 [03:26<1557:31:36, 66.09s/it] \u001b[A\n",
            "Training Progress:   0%|          | 2.279999999999995/84843 [03:26<1545:06:05, 65.56s/it]\u001b[A\n",
            "Training Progress:   0%|          | 2.2826666666666617/84843 [03:26<1544:02:55, 65.52s/it]\u001b[A\n",
            "Training Progress:   0%|          | 2.2853333333333286/84843 [03:27<1559:34:26, 66.18s/it]\u001b[A\n",
            "Training Progress:   0%|          | 2.2879999999999954/84843 [03:27<1562:04:59, 66.28s/it]\u001b[A\n",
            "Training Progress:   0%|          | 2.290666666666662/84843 [03:27<1566:50:54, 66.49s/it] \u001b[A\n",
            "Training Progress:   0%|          | 2.293333333333329/84843 [03:27<1573:31:57, 66.77s/it]\u001b[A\n",
            "Training Progress:   0%|          | 2.295999999999996/84843 [03:27<1561:12:06, 66.25s/it]\u001b[A\n",
            "Training Progress:   0%|          | 2.2986666666666626/84843 [03:28<1560:57:12, 66.24s/it]\u001b[A\n",
            "Training Progress:   0%|          | 2.3013333333333295/84843 [03:28<1557:00:59, 66.07s/it]\u001b[A\n",
            "Training Progress:   0%|          | 2.3039999999999963/84843 [03:28<1565:02:40, 66.41s/it]\u001b[A\n",
            "Training Progress:   0%|          | 2.306666666666663/84843 [03:28<1546:02:49, 65.60s/it] \u001b[A\n",
            "Training Progress:   0%|          | 2.30933333333333/84843 [03:28<1566:24:52, 66.47s/it] \u001b[A\n",
            "Training Progress:   0%|          | 2.3119999999999967/84843 [03:28<1565:37:25, 66.43s/it]\u001b[A\n",
            "Training Progress:   0%|          | 2.3146666666666635/84843 [03:29<1567:34:58, 66.52s/it]\u001b[A\n",
            "Training Progress:   0%|          | 2.3173333333333304/84843 [03:29<1579:00:03, 67.00s/it]\u001b[A\n",
            "Training Progress:   0%|          | 2.319999999999997/84843 [03:29<1577:19:58, 66.93s/it] \u001b[A\n",
            "Training Progress:   0%|          | 2.322666666666664/84843 [03:29<1589:36:46, 67.45s/it]\u001b[A\n",
            "Training Progress:   0%|          | 2.325333333333331/84843 [03:29<1567:10:22, 66.50s/it]\u001b[A"
          ]
        },
        {
          "output_type": "stream",
          "name": "stdout",
          "text": [
            "Train Epoch: 3 [30720/84843 (36%)]\tLoss: 3.564702\n"
          ]
        },
        {
          "output_type": "stream",
          "name": "stderr",
          "text": [
            "\n",
            "Training Progress:   0%|          | 2.3279999999999976/84843 [03:29<1562:57:03, 66.32s/it]\u001b[A\n",
            "Training Progress:   0%|          | 2.3306666666666644/84843 [03:30<1579:22:04, 67.02s/it]\u001b[A\n",
            "Training Progress:   0%|          | 2.3333333333333313/84843 [03:30<1581:35:30, 67.11s/it]\u001b[A\n",
            "Training Progress:   0%|          | 2.335999999999998/84843 [03:30<1569:33:28, 66.60s/it] \u001b[A\n",
            "Training Progress:   0%|          | 2.338666666666665/84843 [03:30<1577:19:33, 66.93s/it]\u001b[A\n",
            "Training Progress:   0%|          | 2.3413333333333317/84843 [03:30<1568:26:25, 66.55s/it]\u001b[A\n",
            "Training Progress:   0%|          | 2.3439999999999985/84843 [03:31<1578:19:47, 66.97s/it]\u001b[A\n",
            "Training Progress:   0%|          | 2.3466666666666653/84843 [03:31<1594:21:20, 67.65s/it]\u001b[A\n",
            "Training Progress:   0%|          | 2.349333333333332/84843 [03:31<1603:52:57, 68.06s/it] \u001b[A\n",
            "Training Progress:   0%|          | 2.351999999999999/84843 [03:31<1588:55:48, 67.42s/it]\u001b[A\n",
            "Training Progress:   0%|          | 2.354666666666666/84843 [03:31<1573:53:29, 66.78s/it]\u001b[A\n",
            "Training Progress:   0%|          | 2.3573333333333326/84843 [03:31<1576:59:46, 66.92s/it]\u001b[A\n",
            "Training Progress:   0%|          | 2.3599999999999994/84843 [03:32<1670:00:10, 70.86s/it]\u001b[A\n",
            "Training Progress:   0%|          | 2.3626666666666662/84843 [03:32<1752:41:50, 74.37s/it]\u001b[A\n",
            "Training Progress:   0%|          | 2.365333333333333/84843 [03:32<1778:43:34, 75.48s/it] \u001b[A\n",
            "Training Progress:   0%|          | 2.368/84843 [03:32<1825:08:17, 77.45s/it]            \u001b[A\n",
            "Training Progress:   0%|          | 2.3706666666666667/84843 [03:33<1869:13:25, 79.32s/it]\u001b[A\n",
            "Training Progress:   0%|          | 2.3733333333333335/84843 [03:33<1860:37:51, 78.95s/it]\u001b[A\n",
            "Training Progress:   0%|          | 2.3760000000000003/84843 [03:33<1879:39:19, 79.76s/it]\u001b[A"
          ]
        },
        {
          "output_type": "stream",
          "name": "stdout",
          "text": [
            "Train Epoch: 3 [35840/84843 (42%)]\tLoss: 3.558978\n"
          ]
        },
        {
          "output_type": "stream",
          "name": "stderr",
          "text": [
            "\n",
            "Training Progress:   0%|          | 2.378666666666667/84843 [03:33<1897:01:49, 80.50s/it] \u001b[A\n",
            "Training Progress:   0%|          | 2.381333333333334/84843 [03:33<1903:59:31, 80.79s/it]\u001b[A\n",
            "Training Progress:   0%|          | 2.384000000000001/84843 [03:34<1798:26:38, 76.31s/it]\u001b[A\n",
            "Training Progress:   0%|          | 2.3866666666666676/84843 [03:34<1724:31:59, 73.18s/it]\u001b[A\n",
            "Training Progress:   0%|          | 2.3893333333333344/84843 [03:34<1675:46:42, 71.11s/it]\u001b[A\n",
            "Training Progress:   0%|          | 2.3920000000000012/84843 [03:34<1640:18:38, 69.60s/it]\u001b[A\n",
            "Training Progress:   0%|          | 2.394666666666668/84843 [03:34<1612:25:24, 68.42s/it] \u001b[A\n",
            "Training Progress:   0%|          | 2.397333333333335/84843 [03:34<1602:11:38, 67.99s/it]\u001b[A\n",
            "Training Progress:   0%|          | 2.4000000000000017/84843 [03:35<1577:20:04, 66.93s/it]\u001b[A\n",
            "Training Progress:   0%|          | 2.4026666666666685/84843 [03:35<1567:37:00, 66.52s/it]\u001b[A\n",
            "Training Progress:   0%|          | 2.4053333333333353/84843 [03:35<1580:21:42, 67.06s/it]\u001b[A\n",
            "Training Progress:   0%|          | 2.408000000000002/84843 [03:35<1595:59:21, 67.72s/it] \u001b[A\n",
            "Training Progress:   0%|          | 2.410666666666669/84843 [03:35<1582:12:26, 67.14s/it]\u001b[A\n",
            "Training Progress:   0%|          | 2.4133333333333358/84843 [03:36<1588:02:16, 67.38s/it]\u001b[A\n",
            "Training Progress:   0%|          | 2.4160000000000026/84843 [03:36<1571:30:19, 66.68s/it]\u001b[A\n",
            "Training Progress:   0%|          | 2.4186666666666694/84843 [03:36<1560:55:54, 66.23s/it]\u001b[A\n",
            "Training Progress:   0%|          | 2.4213333333333362/84843 [03:36<1579:02:26, 67.00s/it]\u001b[A\n",
            "Training Progress:   0%|          | 2.424000000000003/84843 [03:36<1565:42:28, 66.44s/it] \u001b[A\n",
            "Training Progress:   0%|          | 2.42666666666667/84843 [03:36<1560:33:32, 66.22s/it] \u001b[A\n",
            "Training Progress:   0%|          | 2.4293333333333367/84843 [03:37<1578:56:15, 67.00s/it]\u001b[A\n",
            "Training Progress:   0%|          | 2.4320000000000035/84843 [03:37<1566:57:04, 66.49s/it]\u001b[A"
          ]
        },
        {
          "output_type": "stream",
          "name": "stdout",
          "text": [
            "Train Epoch: 3 [40960/84843 (48%)]\tLoss: 3.553779\n"
          ]
        },
        {
          "output_type": "stream",
          "name": "stderr",
          "text": [
            "\n",
            "Training Progress:   0%|          | 2.4346666666666703/84843 [03:37<1592:43:29, 67.58s/it]\u001b[A\n",
            "Training Progress:   0%|          | 2.437333333333337/84843 [03:37<1588:11:38, 67.39s/it] \u001b[A\n",
            "Training Progress:   0%|          | 2.440000000000004/84843 [03:37<1572:47:29, 66.74s/it]\u001b[A\n",
            "Training Progress:   0%|          | 2.4426666666666708/84843 [03:37<1574:54:35, 66.83s/it]\u001b[A\n",
            "Training Progress:   0%|          | 2.4453333333333376/84843 [03:38<1570:09:38, 66.63s/it]\u001b[A\n",
            "Training Progress:   0%|          | 2.4480000000000044/84843 [03:38<1573:58:26, 66.79s/it]\u001b[A\n",
            "Training Progress:   0%|          | 2.450666666666671/84843 [03:38<1570:04:24, 66.62s/it] \u001b[A\n",
            "Training Progress:   0%|          | 2.453333333333338/84843 [03:38<1561:23:31, 66.25s/it]\u001b[A\n",
            "Training Progress:   0%|          | 2.456000000000005/84843 [03:38<1573:34:27, 66.77s/it]\u001b[A\n",
            "Training Progress:   0%|          | 2.4586666666666717/84843 [03:39<1568:33:02, 66.56s/it]\u001b[A\n",
            "Training Progress:   0%|          | 2.4613333333333385/84843 [03:39<1571:26:30, 66.68s/it]\u001b[A\n",
            "Training Progress:   0%|          | 2.4640000000000053/84843 [03:39<1593:32:45, 67.62s/it]\u001b[A\n",
            "Training Progress:   0%|          | 2.466666666666672/84843 [03:39<1580:03:58, 67.05s/it] \u001b[A\n",
            "Training Progress:   0%|          | 2.469333333333339/84843 [03:39<1566:04:28, 66.45s/it]\u001b[A\n",
            "Training Progress:   0%|          | 2.4720000000000057/84843 [03:39<1568:59:05, 66.58s/it]\u001b[A\n",
            "Training Progress:   0%|          | 2.4746666666666726/84843 [03:40<1556:49:06, 66.06s/it]\u001b[A\n",
            "Training Progress:   0%|          | 2.4773333333333394/84843 [03:40<1590:31:57, 67.49s/it]\u001b[A\n",
            "Training Progress:   0%|          | 2.480000000000006/84843 [03:40<1579:51:31, 67.04s/it] \u001b[A\n",
            "Training Progress:   0%|          | 2.482666666666673/84843 [03:40<1600:00:59, 67.89s/it]\u001b[A\n",
            "Training Progress:   0%|          | 2.48533333333334/84843 [03:40<1583:09:08, 67.18s/it] \u001b[A"
          ]
        },
        {
          "output_type": "stream",
          "name": "stdout",
          "text": [
            "Train Epoch: 3 [46080/84843 (54%)]\tLoss: 3.562958\n"
          ]
        },
        {
          "output_type": "stream",
          "name": "stderr",
          "text": [
            "\n",
            "Training Progress:   0%|          | 2.4880000000000067/84843 [03:41<1573:31:28, 66.77s/it]\u001b[A\n",
            "Training Progress:   0%|          | 2.4906666666666735/84843 [03:41<1575:41:03, 66.86s/it]\u001b[A\n",
            "Training Progress:   0%|          | 2.4933333333333403/84843 [03:41<1584:19:46, 67.23s/it]\u001b[A\n",
            "Training Progress:   0%|          | 2.496000000000007/84843 [03:41<1580:47:50, 67.08s/it] \u001b[A\n",
            "Training Progress:   0%|          | 2.498666666666674/84843 [03:41<1573:23:32, 66.76s/it]\u001b[A\n",
            "Training Progress:   0%|          | 2.5013333333333407/84843 [03:41<1570:59:33, 66.66s/it]\u001b[A\n",
            "Training Progress:   0%|          | 2.5040000000000076/84843 [03:42<1562:28:46, 66.30s/it]\u001b[A\n",
            "Training Progress:   0%|          | 2.5066666666666744/84843 [03:42<1562:40:29, 66.31s/it]\u001b[A\n",
            "Training Progress:   0%|          | 2.509333333333341/84843 [03:42<1554:53:41, 65.98s/it] \u001b[A\n",
            "Training Progress:   0%|          | 2.512000000000008/84843 [03:42<1551:18:14, 65.83s/it]\u001b[A\n",
            "Training Progress:   0%|          | 2.514666666666675/84843 [03:42<1548:26:41, 65.70s/it]\u001b[A\n",
            "Training Progress:   0%|          | 2.5173333333333416/84843 [03:42<1557:17:29, 66.08s/it]\u001b[A\n",
            "Training Progress:   0%|          | 2.5200000000000085/84843 [03:43<1560:29:21, 66.22s/it]\u001b[A\n",
            "Training Progress:   0%|          | 2.5226666666666753/84843 [03:43<1578:18:58, 66.97s/it]\u001b[A\n",
            "Training Progress:   0%|          | 2.525333333333342/84843 [03:43<1585:36:30, 67.28s/it] \u001b[A\n",
            "Training Progress:   0%|          | 2.528000000000009/84843 [03:43<1591:33:46, 67.53s/it]\u001b[A\n",
            "Training Progress:   0%|          | 2.5306666666666757/84843 [03:43<1578:18:39, 66.97s/it]\u001b[A\n",
            "Training Progress:   0%|          | 2.5333333333333425/84843 [03:44<1637:12:16, 69.47s/it]\u001b[A\n",
            "Training Progress:   0%|          | 2.5360000000000094/84843 [03:44<1724:08:56, 73.16s/it]\u001b[A"
          ]
        },
        {
          "output_type": "stream",
          "name": "stdout",
          "text": [
            "Train Epoch: 3 [51200/84843 (60%)]\tLoss: 3.565703\n"
          ]
        },
        {
          "output_type": "stream",
          "name": "stderr",
          "text": [
            "\n",
            "Training Progress:   0%|          | 2.538666666666676/84843 [03:44<1784:31:50, 75.72s/it] \u001b[A\n",
            "Training Progress:   0%|          | 2.541333333333343/84843 [03:44<1785:56:29, 75.78s/it]\u001b[A\n",
            "Training Progress:   0%|          | 2.54400000000001/84843 [03:44<1785:26:18, 75.76s/it] \u001b[A\n",
            "Training Progress:   0%|          | 2.5466666666666766/84843 [03:45<1805:13:36, 76.60s/it]\u001b[A\n",
            "Training Progress:   0%|          | 2.5493333333333434/84843 [03:45<1800:09:24, 76.39s/it]\u001b[A\n",
            "Training Progress:   0%|          | 2.5520000000000103/84843 [03:45<1790:51:59, 75.99s/it]\u001b[A\n",
            "Training Progress:   0%|          | 2.554666666666677/84843 [03:45<1810:57:08, 76.84s/it] \u001b[A\n",
            "Training Progress:   0%|          | 2.557333333333344/84843 [03:45<1843:24:19, 78.22s/it]\u001b[A\n",
            "Training Progress:   0%|          | 2.5600000000000107/84843 [03:46<1789:48:49, 75.95s/it]\u001b[A\n",
            "Training Progress:   0%|          | 2.5626666666666775/84843 [03:46<1723:36:24, 73.14s/it]\u001b[A\n",
            "Training Progress:   0%|          | 2.5653333333333443/84843 [03:46<1679:51:25, 71.28s/it]\u001b[A\n",
            "Training Progress:   0%|          | 2.568000000000011/84843 [03:46<1628:36:38, 69.11s/it] \u001b[A\n",
            "Training Progress:   0%|          | 2.570666666666678/84843 [03:46<1612:16:37, 68.41s/it]\u001b[A\n",
            "Training Progress:   0%|          | 2.573333333333345/84843 [03:46<1594:35:47, 67.66s/it]\u001b[A\n",
            "Training Progress:   0%|          | 2.5760000000000116/84843 [03:47<1582:05:16, 67.13s/it]\u001b[A\n",
            "Training Progress:   0%|          | 2.5786666666666784/84843 [03:47<1589:34:40, 67.45s/it]\u001b[A\n",
            "Training Progress:   0%|          | 2.5813333333333452/84843 [03:47<1593:50:02, 67.63s/it]\u001b[A\n",
            "Training Progress:   0%|          | 2.584000000000012/84843 [03:47<1594:26:27, 67.66s/it] \u001b[A\n",
            "Training Progress:   0%|          | 2.586666666666679/84843 [03:47<1583:06:01, 67.18s/it]\u001b[A\n",
            "Training Progress:   0%|          | 2.5893333333333457/84843 [03:48<1605:03:29, 68.11s/it]\u001b[A\n",
            "Training Progress:   0%|          | 2.5920000000000125/84843 [03:48<1599:05:57, 67.85s/it]\u001b[A"
          ]
        },
        {
          "output_type": "stream",
          "name": "stdout",
          "text": [
            "Train Epoch: 3 [56320/84843 (66%)]\tLoss: 3.557232\n"
          ]
        },
        {
          "output_type": "stream",
          "name": "stderr",
          "text": [
            "\n",
            "Training Progress:   0%|          | 2.5946666666666793/84843 [03:48<1593:45:09, 67.63s/it]\u001b[A\n",
            "Training Progress:   0%|          | 2.597333333333346/84843 [03:48<1582:06:32, 67.13s/it] \u001b[A\n",
            "Training Progress:   0%|          | 2.600000000000013/84843 [03:48<1584:46:30, 67.25s/it]\u001b[A\n",
            "Training Progress:   0%|          | 2.60266666666668/84843 [03:48<1579:33:03, 67.02s/it] \u001b[A\n",
            "Training Progress:   0%|          | 2.6053333333333466/84843 [03:49<1571:32:38, 66.68s/it]\u001b[A\n",
            "Training Progress:   0%|          | 2.6080000000000134/84843 [03:49<1577:44:41, 66.95s/it]\u001b[A\n",
            "Training Progress:   0%|          | 2.6106666666666802/84843 [03:49<1582:12:02, 67.14s/it]\u001b[A\n",
            "Training Progress:   0%|          | 2.613333333333347/84843 [03:49<1564:39:37, 66.39s/it] \u001b[A\n",
            "Training Progress:   0%|          | 2.616000000000014/84843 [03:49<1582:59:13, 67.17s/it]\u001b[A\n",
            "Training Progress:   0%|          | 2.6186666666666807/84843 [03:50<1586:04:13, 67.30s/it]\u001b[A\n",
            "Training Progress:   0%|          | 2.6213333333333475/84843 [03:50<1577:29:16, 66.94s/it]\u001b[A\n",
            "Training Progress:   0%|          | 2.6240000000000143/84843 [03:50<1574:19:12, 66.80s/it]\u001b[A\n",
            "Training Progress:   0%|          | 2.626666666666681/84843 [03:50<1579:03:47, 67.00s/it] \u001b[A\n",
            "Training Progress:   0%|          | 2.629333333333348/84843 [03:50<1573:13:39, 66.76s/it]\u001b[A\n",
            "Training Progress:   0%|          | 2.6320000000000148/84843 [03:50<1593:00:10, 67.60s/it]\u001b[A\n",
            "Training Progress:   0%|          | 2.6346666666666816/84843 [03:51<1576:21:39, 66.89s/it]\u001b[A\n",
            "Training Progress:   0%|          | 2.6373333333333484/84843 [03:51<1572:28:55, 66.72s/it]\u001b[A\n",
            "Training Progress:   0%|          | 2.6400000000000152/84843 [03:51<1596:47:24, 67.76s/it]\u001b[A\n",
            "Training Progress:   0%|          | 2.642666666666682/84843 [03:51<1592:36:53, 67.58s/it] \u001b[A\n",
            "Training Progress:   0%|          | 2.645333333333349/84843 [03:51<1610:36:56, 68.34s/it]\u001b[A"
          ]
        },
        {
          "output_type": "stream",
          "name": "stdout",
          "text": [
            "Train Epoch: 3 [61440/84843 (72%)]\tLoss: 3.567435\n"
          ]
        },
        {
          "output_type": "stream",
          "name": "stderr",
          "text": [
            "\n",
            "Training Progress:   0%|          | 2.6480000000000157/84843 [03:52<1602:00:34, 67.98s/it]\u001b[A\n",
            "Training Progress:   0%|          | 2.6506666666666825/84843 [03:52<1576:20:46, 66.89s/it]\u001b[A\n",
            "Training Progress:   0%|          | 2.6533333333333493/84843 [03:52<1565:01:49, 66.41s/it]\u001b[A\n",
            "Training Progress:   0%|          | 2.656000000000016/84843 [03:52<1564:01:42, 66.37s/it] \u001b[A\n",
            "Training Progress:   0%|          | 2.658666666666683/84843 [03:52<1556:05:32, 66.03s/it]\u001b[A\n",
            "Training Progress:   0%|          | 2.6613333333333498/84843 [03:52<1569:35:41, 66.60s/it]\u001b[A\n",
            "Training Progress:   0%|          | 2.6640000000000166/84843 [03:53<1559:53:04, 66.19s/it]\u001b[A\n",
            "Training Progress:   0%|          | 2.6666666666666834/84843 [03:53<1553:34:31, 65.92s/it]\u001b[A\n",
            "Training Progress:   0%|          | 2.66933333333335/84843 [03:53<1555:32:38, 66.01s/it]  \u001b[A\n",
            "Training Progress:   0%|          | 2.672000000000017/84843 [03:53<1552:14:37, 65.87s/it]\u001b[A\n",
            "Training Progress:   0%|          | 2.674666666666684/84843 [03:53<1557:21:00, 66.08s/it]\u001b[A\n",
            "Training Progress:   0%|          | 2.6773333333333507/84843 [03:53<1561:25:14, 66.26s/it]\u001b[A\n",
            "Training Progress:   0%|          | 2.6800000000000175/84843 [03:54<1561:06:13, 66.24s/it]\u001b[A\n",
            "Training Progress:   0%|          | 2.6826666666666843/84843 [03:54<1553:19:44, 65.91s/it]\u001b[A\n",
            "Training Progress:   0%|          | 2.685333333333351/84843 [03:54<1553:32:29, 65.92s/it] \u001b[A\n",
            "Training Progress:   0%|          | 2.688000000000018/84843 [03:54<1556:30:42, 66.05s/it]\u001b[A\n",
            "Training Progress:   0%|          | 2.6906666666666847/84843 [03:54<1558:16:39, 66.12s/it]\u001b[A\n",
            "Training Progress:   0%|          | 2.6933333333333516/84843 [03:55<1557:39:32, 66.10s/it]\u001b[A\n",
            "Training Progress:   0%|          | 2.6960000000000184/84843 [03:55<1567:05:35, 66.50s/it]\u001b[A\n",
            "Training Progress:   0%|          | 2.698666666666685/84843 [03:55<1564:17:35, 66.38s/it] \u001b[A"
          ]
        },
        {
          "output_type": "stream",
          "name": "stdout",
          "text": [
            "Train Epoch: 3 [66560/84843 (78%)]\tLoss: 3.565315\n"
          ]
        },
        {
          "output_type": "stream",
          "name": "stderr",
          "text": [
            "\n",
            "Training Progress:   0%|          | 2.701333333333352/84843 [03:55<1561:04:08, 66.24s/it]\u001b[A\n",
            "Training Progress:   0%|          | 2.704000000000019/84843 [03:55<1562:35:38, 66.31s/it]\u001b[A\n",
            "Training Progress:   0%|          | 2.7066666666666857/84843 [03:55<1564:21:53, 66.38s/it]\u001b[A\n",
            "Training Progress:   0%|          | 2.7093333333333525/84843 [03:56<1575:18:27, 66.84s/it]\u001b[A\n",
            "Training Progress:   0%|          | 2.7120000000000193/84843 [03:56<1670:31:23, 70.88s/it]\u001b[A\n",
            "Training Progress:   0%|          | 2.714666666666686/84843 [03:56<1699:06:45, 72.10s/it] \u001b[A\n",
            "Training Progress:   0%|          | 2.717333333333353/84843 [03:56<1753:59:51, 74.43s/it]\u001b[A\n",
            "Training Progress:   0%|          | 2.7200000000000197/84843 [03:56<1751:57:17, 74.34s/it]\u001b[A\n",
            "Training Progress:   0%|          | 2.7226666666666866/84843 [03:57<1761:33:09, 74.75s/it]\u001b[A\n",
            "Training Progress:   0%|          | 2.7253333333333534/84843 [03:57<1751:12:16, 74.31s/it]\u001b[A\n",
            "Training Progress:   0%|          | 2.72800000000002/84843 [03:57<1807:24:05, 76.69s/it]  \u001b[A\n",
            "Training Progress:   0%|          | 2.730666666666687/84843 [03:57<1843:55:32, 78.24s/it]\u001b[A\n",
            "Training Progress:   0%|          | 2.733333333333354/84843 [03:57<1866:57:16, 79.22s/it]\u001b[A\n",
            "Training Progress:   0%|          | 2.7360000000000206/84843 [03:58<1840:06:33, 78.08s/it]\u001b[A\n",
            "Training Progress:   0%|          | 2.7386666666666875/84843 [03:58<1754:39:39, 74.45s/it]\u001b[A\n",
            "Training Progress:   0%|          | 2.7413333333333543/84843 [03:58<1697:23:03, 72.02s/it]\u001b[A\n",
            "Training Progress:   0%|          | 2.744000000000021/84843 [03:58<1644:02:07, 69.76s/it] \u001b[A\n",
            "Training Progress:   0%|          | 2.746666666666688/84843 [03:58<1613:15:04, 68.45s/it]\u001b[A\n",
            "Training Progress:   0%|          | 2.7493333333333547/84843 [03:59<1635:55:12, 69.42s/it]\u001b[A\n",
            "Training Progress:   0%|          | 2.7520000000000215/84843 [03:59<1605:39:06, 68.13s/it]\u001b[A"
          ]
        },
        {
          "output_type": "stream",
          "name": "stdout",
          "text": [
            "Train Epoch: 3 [71680/84843 (84%)]\tLoss: 3.556143\n"
          ]
        },
        {
          "output_type": "stream",
          "name": "stderr",
          "text": [
            "\n",
            "Training Progress:   0%|          | 2.7546666666666884/84843 [03:59<1609:52:11, 68.31s/it]\u001b[A\n",
            "Training Progress:   0%|          | 2.757333333333355/84843 [03:59<1585:06:00, 67.26s/it] \u001b[A\n",
            "Training Progress:   0%|          | 2.760000000000022/84843 [03:59<1563:44:14, 66.35s/it]\u001b[A\n",
            "Training Progress:   0%|          | 2.762666666666689/84843 [03:59<1567:15:26, 66.50s/it]\u001b[A\n",
            "Training Progress:   0%|          | 2.7653333333333556/84843 [04:00<1569:24:34, 66.59s/it]\u001b[A\n",
            "Training Progress:   0%|          | 2.7680000000000224/84843 [04:00<1557:27:26, 66.09s/it]\u001b[A\n",
            "Training Progress:   0%|          | 2.7706666666666893/84843 [04:00<1561:13:01, 66.25s/it]\u001b[A\n",
            "Training Progress:   0%|          | 2.773333333333356/84843 [04:00<1561:36:47, 66.26s/it] \u001b[A\n",
            "Training Progress:   0%|          | 2.776000000000023/84843 [04:00<1557:20:41, 66.08s/it]\u001b[A\n",
            "Training Progress:   0%|          | 2.7786666666666897/84843 [04:00<1555:54:55, 66.02s/it]\u001b[A\n",
            "Training Progress:   0%|          | 2.7813333333333565/84843 [04:01<1561:42:57, 66.27s/it]\u001b[A\n",
            "Training Progress:   0%|          | 2.7840000000000233/84843 [04:01<1562:28:43, 66.30s/it]\u001b[A\n",
            "Training Progress:   0%|          | 2.78666666666669/84843 [04:01<1569:11:36, 66.59s/it]  \u001b[A\n",
            "Training Progress:   0%|          | 2.789333333333357/84843 [04:01<1559:35:11, 66.18s/it]\u001b[A\n",
            "Training Progress:   0%|          | 2.792000000000024/84843 [04:01<1544:16:39, 65.53s/it]\u001b[A\n",
            "Training Progress:   0%|          | 2.7946666666666906/84843 [04:02<1561:01:26, 66.24s/it]\u001b[A\n",
            "Training Progress:   0%|          | 2.7973333333333574/84843 [04:02<1580:20:51, 67.06s/it]\u001b[A\n",
            "Training Progress:   0%|          | 2.8000000000000242/84843 [04:02<1568:42:42, 66.56s/it]\u001b[A\n",
            "Training Progress:   0%|          | 2.802666666666691/84843 [04:02<1586:51:28, 67.33s/it] \u001b[A\n",
            "Training Progress:   0%|          | 2.805333333333358/84843 [04:02<1577:55:50, 66.96s/it]\u001b[A"
          ]
        },
        {
          "output_type": "stream",
          "name": "stdout",
          "text": [
            "Train Epoch: 3 [76800/84843 (90%)]\tLoss: 3.569965\n"
          ]
        },
        {
          "output_type": "stream",
          "name": "stderr",
          "text": [
            "\n",
            "Training Progress:   0%|          | 2.8080000000000247/84843 [04:02<1572:05:26, 66.71s/it]\u001b[A\n",
            "Training Progress:   0%|          | 2.8106666666666915/84843 [04:03<1577:59:26, 66.96s/it]\u001b[A\n",
            "Training Progress:   0%|          | 2.8133333333333583/84843 [04:03<1562:42:16, 66.31s/it]\u001b[A\n",
            "Training Progress:   0%|          | 2.816000000000025/84843 [04:03<1567:57:09, 66.53s/it] \u001b[A\n",
            "Training Progress:   0%|          | 2.818666666666692/84843 [04:03<1573:47:18, 66.78s/it]\u001b[A\n",
            "Training Progress:   0%|          | 2.821333333333359/84843 [04:03<1566:19:37, 66.46s/it]\u001b[A\n",
            "Training Progress:   0%|          | 2.8240000000000256/84843 [04:04<1567:56:24, 66.53s/it]\u001b[A\n",
            "Training Progress:   0%|          | 2.8266666666666924/84843 [04:04<1580:50:09, 67.08s/it]\u001b[A\n",
            "Training Progress:   0%|          | 2.8293333333333592/84843 [04:04<1575:30:33, 66.85s/it]\u001b[A\n",
            "Training Progress:   0%|          | 2.832000000000026/84843 [04:04<1575:01:11, 66.83s/it] \u001b[A\n",
            "Training Progress:   0%|          | 2.834666666666693/84843 [04:04<1564:16:25, 66.38s/it]\u001b[A\n",
            "Training Progress:   0%|          | 2.8373333333333597/84843 [04:04<1563:17:18, 66.33s/it]\u001b[A\n",
            "Training Progress:   0%|          | 2.8400000000000265/84843 [04:05<1557:26:29, 66.09s/it]\u001b[A\n",
            "Training Progress:   0%|          | 2.8426666666666933/84843 [04:05<1558:02:39, 66.11s/it]\u001b[A\n",
            "Training Progress:   0%|          | 2.84533333333336/84843 [04:05<1554:11:11, 65.95s/it]  \u001b[A\n",
            "Training Progress:   0%|          | 2.848000000000027/84843 [04:05<1553:31:46, 65.92s/it]\u001b[A\n",
            "Training Progress:   0%|          | 2.8506666666666938/84843 [04:05<1545:10:05, 65.57s/it]\u001b[A\n",
            "Training Progress:   0%|          | 2.8533333333333606/84843 [04:05<1558:23:26, 66.13s/it]\u001b[A\n",
            "Training Progress:   0%|          | 2.8560000000000274/84843 [04:06<1592:10:25, 67.56s/it]\u001b[A\n",
            "Training Progress:   0%|          | 2.8586666666666942/84843 [04:06<1573:59:34, 66.79s/it]\u001b[A"
          ]
        },
        {
          "output_type": "stream",
          "name": "stdout",
          "text": [
            "Train Epoch: 3 [81920/84843 (96%)]\tLoss: 3.563984\n"
          ]
        },
        {
          "output_type": "stream",
          "name": "stderr",
          "text": [
            "\n",
            "Training Progress:   0%|          | 2.861333333333361/84843 [04:06<1571:34:01, 66.69s/it] \u001b[A\n",
            "Training Progress:   0%|          | 2.864000000000028/84843 [04:06<1567:49:27, 66.53s/it]\u001b[A\n",
            "Training Progress:   0%|          | 2.8666666666666947/84843 [04:06<1568:11:27, 66.54s/it]\u001b[A\n",
            "Training Progress:   0%|          | 2.8693333333333615/84843 [04:07<1567:44:51, 66.52s/it]\u001b[A\n",
            "Training Progress:   0%|          | 2.8720000000000283/84843 [04:07<1572:29:10, 66.72s/it]\u001b[A\n",
            "Training Progress:   0%|          | 2.874666666666695/84843 [04:07<1566:10:18, 66.46s/it] \u001b[A\n",
            "Training Progress:   0%|          | 2.877333333333362/84843 [04:07<1555:01:49, 65.98s/it]\u001b[A\n",
            "Training Progress:   0%|          | 2.8800000000000288/84843 [04:07<1553:16:25, 65.91s/it]\u001b[A\n",
            "Training Progress:   0%|          | 2.8826666666666956/84843 [04:07<1554:54:15, 65.98s/it]\u001b[A\n",
            "Training Progress:   0%|          | 2.888000000000029/84843 [04:08<1378:39:39, 58.50s/it] \u001b[A\n",
            "Training Progress:   0%|          | 2.890666666666696/84843 [04:08<1511:45:17, 64.15s/it]\u001b[A\n",
            "Training Progress:   0%|          | 2.893333333333363/84843 [04:08<1594:28:19, 67.66s/it]\u001b[A\n",
            "Training Progress:   0%|          | 2.8960000000000297/84843 [04:08<1637:30:48, 69.48s/it]\u001b[A\n",
            "Training Progress:   0%|          | 2.8986666666666965/84843 [04:08<1693:26:21, 71.86s/it]\u001b[A\n",
            "Training Progress:   0%|          | 2.9013333333333633/84843 [04:09<1742:59:40, 73.96s/it]\u001b[A\n",
            "Training Progress:   0%|          | 2.90400000000003/84843 [04:09<1784:53:11, 75.74s/it]  \u001b[A\n",
            "Training Progress:   0%|          | 2.906666666666697/84843 [04:09<1791:47:41, 76.03s/it]\u001b[A\n",
            "Training Progress:   0%|          | 2.9093333333333637/84843 [04:09<1795:35:03, 76.19s/it]\u001b[A\n",
            "Training Progress:   0%|          | 2.9120000000000306/84843 [04:10<1826:09:55, 77.49s/it]\u001b[A\n",
            "Training Progress:   0%|          | 2.9146666666666974/84843 [04:10<1873:25:38, 79.49s/it]\u001b[A\n",
            "Training Progress:   0%|          | 2.917333333333364/84843 [04:10<1815:56:42, 77.06s/it] \u001b[A\n",
            "Training Progress:   0%|          | 2.920000000000031/84843 [04:10<1760:55:20, 74.72s/it]\u001b[A\n",
            "Training Progress:   0%|          | 2.922666666666698/84843 [04:10<1721:59:16, 73.07s/it]\u001b[A\n",
            "Training Progress:   0%|          | 2.9253333333333646/84843 [04:11<1690:46:45, 71.74s/it]\u001b[A\n",
            "Training Progress:   0%|          | 2.9280000000000315/84843 [04:11<1663:46:19, 70.60s/it]\u001b[A\n",
            "Training Progress:   0%|          | 2.9306666666666983/84843 [04:11<1653:00:47, 70.14s/it]\u001b[A\n",
            "Training Progress:   0%|          | 2.933333333333365/84843 [04:11<1642:22:39, 69.69s/it] \u001b[A\n",
            "Training Progress:   0%|          | 2.936000000000032/84843 [04:11<1638:13:54, 69.51s/it]\u001b[A\n",
            "Training Progress:   0%|          | 2.9386666666666987/84843 [04:11<1624:41:15, 68.94s/it]\u001b[A\n",
            "Training Progress:   0%|          | 2.9413333333333656/84843 [04:12<1612:47:41, 68.44s/it]\u001b[A\n",
            "Training Progress:   0%|          | 2.9440000000000324/84843 [04:12<1619:46:17, 68.73s/it]\u001b[A\n",
            "Training Progress:   0%|          | 2.946666666666699/84843 [04:12<1612:53:49, 68.44s/it] \u001b[A\n",
            "Training Progress:   0%|          | 2.949333333333366/84843 [04:12<1616:14:25, 68.58s/it]\u001b[A\n",
            "Training Progress:   0%|          | 2.952000000000033/84843 [04:12<1638:53:48, 69.54s/it]\u001b[A\n",
            "Training Progress:   0%|          | 2.9546666666666996/84843 [04:13<1631:38:55, 69.24s/it]\u001b[A\n",
            "Training Progress:   0%|          | 2.9573333333333665/84843 [04:13<1619:35:43, 68.72s/it]\u001b[A\n",
            "Training Progress:   0%|          | 2.9600000000000333/84843 [04:13<1627:38:32, 69.07s/it]\u001b[A\n",
            "Training Progress:   0%|          | 2.9626666666667/84843 [04:13<1629:53:56, 69.16s/it]   \u001b[A\n",
            "Training Progress:   0%|          | 2.965333333333367/84843 [04:13<1619:20:05, 68.71s/it]\u001b[A\n",
            "Training Progress:   0%|          | 2.9680000000000337/84843 [04:13<1609:14:59, 68.28s/it]\u001b[A\n",
            "Training Progress:   0%|          | 2.9706666666667005/84843 [04:14<1613:35:40, 68.47s/it]\u001b[A\n",
            "Training Progress:   0%|          | 2.9733333333333674/84843 [04:14<1629:16:31, 69.13s/it]\u001b[A\n",
            "Training Progress:   0%|          | 2.976000000000034/84843 [04:14<1631:56:39, 69.25s/it] \u001b[A\n",
            "Training Progress:   0%|          | 2.978666666666701/84843 [04:14<1615:46:08, 68.56s/it]\u001b[A\n",
            "Training Progress:   0%|          | 2.981333333333368/84843 [04:14<1609:01:14, 68.28s/it]\u001b[A\n",
            "Training Progress:   0%|          | 2.9840000000000346/84843 [04:15<1593:24:39, 67.61s/it]\u001b[A\n",
            "Training Progress:   0%|          | 2.9866666666667014/84843 [04:15<1610:26:24, 68.34s/it]\u001b[A\n",
            "Training Progress:   0%|          | 2.9893333333333683/84843 [04:15<1624:13:44, 68.92s/it]\u001b[A\n",
            "Training Progress:   0%|          | 2.992000000000035/84843 [04:15<1644:12:33, 69.77s/it] \u001b[A\n",
            "Training Progress:   0%|          | 2.994666666666702/84843 [04:15<1637:44:19, 69.49s/it]\u001b[A\n",
            "Training Progress:   0%|          | 2.9973333333333687/84843 [04:15<1627:17:49, 69.05s/it]\u001b[A\n",
            "Training Progress:   0%|          | 3.0000000000000355/84843 [04:16<1622:34:26, 68.85s/it]\u001b[A"
          ]
        },
        {
          "output_type": "stream",
          "name": "stdout",
          "text": [
            "\n",
            "Test Epoch: 3\tAccuracy: 165/11005 (1%)\n",
            "Average WER: 0.9850\n",
            "Average CER: 1.6171\n",
            "\n",
            "saved\n"
          ]
        },
        {
          "output_type": "stream",
          "name": "stderr",
          "text": [
            "\n",
            "Training Progress:   0%|          | 3.0026666666667023/84843 [04:16<1692:16:47, 71.81s/it]\u001b[A\n",
            "Training Progress:   0%|          | 3.005333333333369/84843 [04:16<1657:20:58, 70.33s/it] \u001b[A\n",
            "Training Progress:   0%|          | 3.008000000000036/84843 [04:16<1617:42:17, 68.64s/it]\u001b[A\n",
            "Training Progress:   0%|          | 3.010666666666703/84843 [04:16<1604:21:31, 68.08s/it]\u001b[A\n",
            "Training Progress:   0%|          | 3.0133333333333696/84843 [04:17<1587:52:54, 67.38s/it]\u001b[A\n",
            "Training Progress:   0%|          | 3.0160000000000364/84843 [04:17<1576:20:23, 66.89s/it]\u001b[A\n",
            "Training Progress:   0%|          | 3.0186666666667032/84843 [04:17<1592:43:19, 67.58s/it]\u001b[A\n",
            "Training Progress:   0%|          | 3.02133333333337/84843 [04:17<1575:02:22, 66.83s/it]  \u001b[A\n",
            "Training Progress:   0%|          | 3.024000000000037/84843 [04:17<1566:06:22, 66.45s/it]\u001b[A\n",
            "Training Progress:   0%|          | 3.0266666666667037/84843 [04:17<1553:07:08, 65.90s/it]\u001b[A\n",
            "Training Progress:   0%|          | 3.0293333333333705/84843 [04:18<1564:54:20, 66.40s/it]\u001b[A\n",
            "Training Progress:   0%|          | 3.0320000000000373/84843 [04:18<1566:41:05, 66.48s/it]\u001b[A\n",
            "Training Progress:   0%|          | 3.034666666666704/84843 [04:18<1608:15:42, 68.24s/it] \u001b[A\n",
            "Training Progress:   0%|          | 3.037333333333371/84843 [04:18<1590:44:22, 67.50s/it]\u001b[A\n",
            "Training Progress:   0%|          | 3.040000000000038/84843 [04:18<1583:21:37, 67.19s/it]\u001b[A\n",
            "Training Progress:   0%|          | 3.0426666666667046/84843 [04:19<1564:39:49, 66.39s/it]\u001b[A\n",
            "Training Progress:   0%|          | 3.0453333333333714/84843 [04:19<1570:07:56, 66.63s/it]\u001b[A\n",
            "Training Progress:   0%|          | 3.0480000000000382/84843 [04:19<1551:02:20, 65.81s/it]\u001b[A\n",
            "Training Progress:   0%|          | 3.050666666666705/84843 [04:19<1555:53:52, 66.02s/it] \u001b[A\n",
            "Training Progress:   0%|          | 3.053333333333372/84843 [04:19<1551:44:50, 65.85s/it]\u001b[A\n",
            "Training Progress:   0%|          | 3.0560000000000387/84843 [04:19<1561:18:43, 66.25s/it]\u001b[A\n",
            "Training Progress:   0%|          | 3.0586666666667055/84843 [04:20<1562:43:15, 66.31s/it]\u001b[A"
          ]
        },
        {
          "output_type": "stream",
          "name": "stdout",
          "text": [
            "Train Epoch: 4 [0/84843 (0%)]\tLoss: 3.555522\n",
            "Train Epoch: 4 [5120/84843 (6%)]\tLoss: 3.559965\n"
          ]
        },
        {
          "output_type": "stream",
          "name": "stderr",
          "text": [
            "\n",
            "Training Progress:   0%|          | 3.0613333333333723/84843 [04:20<1556:41:27, 66.05s/it]\u001b[A\n",
            "Training Progress:   0%|          | 3.064000000000039/84843 [04:20<1586:22:33, 67.31s/it] \u001b[A\n",
            "Training Progress:   0%|          | 3.066666666666706/84843 [04:20<1692:52:23, 71.83s/it]\u001b[A\n",
            "Training Progress:   0%|          | 3.0693333333333728/84843 [04:20<1711:02:22, 72.60s/it]\u001b[A\n",
            "Training Progress:   0%|          | 3.0720000000000396/84843 [04:21<1718:47:00, 72.93s/it]\u001b[A\n",
            "Training Progress:   0%|          | 3.0746666666667064/84843 [04:21<1748:57:49, 74.21s/it]\u001b[A\n",
            "Training Progress:   0%|          | 3.077333333333373/84843 [04:21<1777:22:42, 75.42s/it] \u001b[A\n",
            "Training Progress:   0%|          | 3.08000000000004/84843 [04:21<1776:16:40, 75.37s/it] \u001b[A\n",
            "Training Progress:   0%|          | 3.082666666666707/84843 [04:21<1781:09:33, 75.58s/it]\u001b[A\n",
            "Training Progress:   0%|          | 3.0853333333333737/84843 [04:22<1762:06:21, 74.77s/it]\u001b[A\n",
            "Training Progress:   0%|          | 3.0880000000000405/84843 [04:22<1782:49:06, 75.65s/it]\u001b[A\n",
            "Training Progress:   0%|          | 3.0906666666667073/84843 [04:22<1778:48:32, 75.48s/it]\u001b[A\n",
            "Training Progress:   0%|          | 3.093333333333374/84843 [04:22<1763:32:07, 74.83s/it] \u001b[A\n",
            "Training Progress:   0%|          | 3.096000000000041/84843 [04:22<1701:20:43, 72.19s/it]\u001b[A\n",
            "Training Progress:   0%|          | 3.0986666666667078/84843 [04:23<1655:19:32, 70.24s/it]\u001b[A\n",
            "Training Progress:   0%|          | 3.1013333333333746/84843 [04:23<1623:33:41, 68.89s/it]\u001b[A\n",
            "Training Progress:   0%|          | 3.1040000000000414/84843 [04:23<1631:32:18, 69.23s/it]\u001b[A\n",
            "Training Progress:   0%|          | 3.106666666666708/84843 [04:23<1625:36:40, 68.98s/it] \u001b[A\n",
            "Training Progress:   0%|          | 3.109333333333375/84843 [04:23<1621:04:51, 68.79s/it]\u001b[A\n",
            "Training Progress:   0%|          | 3.112000000000042/84843 [04:23<1594:00:00, 67.64s/it]\u001b[A"
          ]
        },
        {
          "output_type": "stream",
          "name": "stdout",
          "text": [
            "Train Epoch: 4 [10240/84843 (12%)]\tLoss: 3.562973\n"
          ]
        },
        {
          "output_type": "stream",
          "name": "stderr",
          "text": [
            "\n",
            "Training Progress:   0%|          | 3.1146666666667087/84843 [04:24<1589:42:53, 67.46s/it]\u001b[A\n",
            "Training Progress:   0%|          | 3.1173333333333755/84843 [04:24<1580:07:09, 67.05s/it]\u001b[A\n",
            "Training Progress:   0%|          | 3.1200000000000423/84843 [04:24<1590:30:29, 67.49s/it]\u001b[A\n",
            "Training Progress:   0%|          | 3.122666666666709/84843 [04:24<1601:59:38, 67.98s/it] \u001b[A\n",
            "Training Progress:   0%|          | 3.125333333333376/84843 [04:24<1583:21:33, 67.19s/it]\u001b[A\n",
            "Training Progress:   0%|          | 3.1280000000000427/84843 [04:24<1577:13:35, 66.93s/it]\u001b[A\n",
            "Training Progress:   0%|          | 3.1306666666667096/84843 [04:25<1562:09:35, 66.29s/it]\u001b[A\n",
            "Training Progress:   0%|          | 3.1333333333333764/84843 [04:25<1555:37:12, 66.01s/it]\u001b[A\n",
            "Training Progress:   0%|          | 3.136000000000043/84843 [04:25<1564:47:46, 66.40s/it] \u001b[A\n",
            "Training Progress:   0%|          | 3.13866666666671/84843 [04:25<1560:46:03, 66.23s/it] \u001b[A\n",
            "Training Progress:   0%|          | 3.141333333333377/84843 [04:25<1558:47:13, 66.14s/it]\u001b[A\n",
            "Training Progress:   0%|          | 3.1440000000000436/84843 [04:26<1552:40:41, 65.88s/it]\u001b[A\n",
            "Training Progress:   0%|          | 3.1466666666667105/84843 [04:26<1550:52:35, 65.81s/it]\u001b[A\n",
            "Training Progress:   0%|          | 3.1493333333333773/84843 [04:26<1546:59:50, 65.64s/it]\u001b[A\n",
            "Training Progress:   0%|          | 3.152000000000044/84843 [04:26<1544:01:58, 65.52s/it] \u001b[A\n",
            "Training Progress:   0%|          | 3.154666666666711/84843 [04:26<1550:41:35, 65.80s/it]\u001b[A\n",
            "Training Progress:   0%|          | 3.1573333333333777/84843 [04:26<1564:44:21, 66.40s/it]\u001b[A\n",
            "Training Progress:   0%|          | 3.1600000000000446/84843 [04:27<1557:28:34, 66.09s/it]\u001b[A\n",
            "Training Progress:   0%|          | 3.1626666666667114/84843 [04:27<1568:53:00, 66.57s/it]\u001b[A\n",
            "Training Progress:   0%|          | 3.165333333333378/84843 [04:27<1569:51:38, 66.61s/it] \u001b[A"
          ]
        },
        {
          "output_type": "stream",
          "name": "stdout",
          "text": [
            "Train Epoch: 4 [15360/84843 (18%)]\tLoss: 3.558351\n"
          ]
        },
        {
          "output_type": "error",
          "ename": "KeyboardInterrupt",
          "evalue": "ignored",
          "traceback": [
            "\u001b[0;31m---------------------------------------------------------------------------\u001b[0m",
            "\u001b[0;31mKeyboardInterrupt\u001b[0m                         Traceback (most recent call last)",
            "\u001b[0;32m<ipython-input-21-a2888068d65d>\u001b[0m in \u001b[0;36m<cell line: 7>\u001b[0;34m()\u001b[0m\n\u001b[1;32m      6\u001b[0m \u001b[0;34m\u001b[0m\u001b[0m\n\u001b[1;32m      7\u001b[0m \u001b[0;32mfor\u001b[0m \u001b[0mepoch\u001b[0m \u001b[0;32min\u001b[0m \u001b[0mrange\u001b[0m\u001b[0;34m(\u001b[0m\u001b[0;36m1\u001b[0m\u001b[0;34m,\u001b[0m \u001b[0mn_epoch\u001b[0m \u001b[0;34m+\u001b[0m \u001b[0;36m1\u001b[0m\u001b[0;34m)\u001b[0m\u001b[0;34m:\u001b[0m\u001b[0;34m\u001b[0m\u001b[0;34m\u001b[0m\u001b[0m\n\u001b[0;32m----> 8\u001b[0;31m     \u001b[0mtrain\u001b[0m\u001b[0;34m(\u001b[0m\u001b[0mmodel\u001b[0m\u001b[0;34m,\u001b[0m \u001b[0mepoch\u001b[0m\u001b[0;34m,\u001b[0m \u001b[0mlog_interval\u001b[0m\u001b[0;34m)\u001b[0m\u001b[0;34m\u001b[0m\u001b[0;34m\u001b[0m\u001b[0m\n\u001b[0m\u001b[1;32m      9\u001b[0m     \u001b[0;31m# Evaluate the model\u001b[0m\u001b[0;34m\u001b[0m\u001b[0;34m\u001b[0m\u001b[0m\n\u001b[1;32m     10\u001b[0m     \u001b[0mavg_wer\u001b[0m\u001b[0;34m,\u001b[0m \u001b[0mavg_cer\u001b[0m\u001b[0;34m,\u001b[0m \u001b[0mcorrect_predictions\u001b[0m \u001b[0;34m=\u001b[0m \u001b[0mtest\u001b[0m\u001b[0;34m(\u001b[0m\u001b[0mmodel\u001b[0m\u001b[0;34m,\u001b[0m \u001b[0mepoch\u001b[0m\u001b[0;34m)\u001b[0m\u001b[0;34m\u001b[0m\u001b[0;34m\u001b[0m\u001b[0m\n",
            "\u001b[0;32m<ipython-input-15-5a195a484d13>\u001b[0m in \u001b[0;36mtrain\u001b[0;34m(model, epoch, log_interval)\u001b[0m\n\u001b[1;32m      6\u001b[0m \u001b[0;34m\u001b[0m\u001b[0m\n\u001b[1;32m      7\u001b[0m         \u001b[0;31m# Apply Mel-spectrogram transform\u001b[0m\u001b[0;34m\u001b[0m\u001b[0;34m\u001b[0m\u001b[0m\n\u001b[0;32m----> 8\u001b[0;31m         \u001b[0mdata\u001b[0m \u001b[0;34m=\u001b[0m \u001b[0mmel_spectrogram_transform\u001b[0m\u001b[0;34m(\u001b[0m\u001b[0mdata\u001b[0m\u001b[0;34m)\u001b[0m\u001b[0;34m\u001b[0m\u001b[0;34m\u001b[0m\u001b[0m\n\u001b[0m\u001b[1;32m      9\u001b[0m \u001b[0;34m\u001b[0m\u001b[0m\n\u001b[1;32m     10\u001b[0m         \u001b[0mdata\u001b[0m \u001b[0;34m=\u001b[0m \u001b[0mdata\u001b[0m\u001b[0;34m.\u001b[0m\u001b[0mto\u001b[0m\u001b[0;34m(\u001b[0m\u001b[0mdevice\u001b[0m\u001b[0;34m)\u001b[0m\u001b[0;34m\u001b[0m\u001b[0;34m\u001b[0m\u001b[0m\n",
            "\u001b[0;32m/usr/local/lib/python3.10/dist-packages/torch/nn/modules/module.py\u001b[0m in \u001b[0;36m_call_impl\u001b[0;34m(self, *args, **kwargs)\u001b[0m\n\u001b[1;32m   1499\u001b[0m                 \u001b[0;32mor\u001b[0m \u001b[0m_global_backward_pre_hooks\u001b[0m \u001b[0;32mor\u001b[0m \u001b[0m_global_backward_hooks\u001b[0m\u001b[0;34m\u001b[0m\u001b[0;34m\u001b[0m\u001b[0m\n\u001b[1;32m   1500\u001b[0m                 or _global_forward_hooks or _global_forward_pre_hooks):\n\u001b[0;32m-> 1501\u001b[0;31m             \u001b[0;32mreturn\u001b[0m \u001b[0mforward_call\u001b[0m\u001b[0;34m(\u001b[0m\u001b[0;34m*\u001b[0m\u001b[0margs\u001b[0m\u001b[0;34m,\u001b[0m \u001b[0;34m**\u001b[0m\u001b[0mkwargs\u001b[0m\u001b[0;34m)\u001b[0m\u001b[0;34m\u001b[0m\u001b[0;34m\u001b[0m\u001b[0m\n\u001b[0m\u001b[1;32m   1502\u001b[0m         \u001b[0;31m# Do not call functions when jit is used\u001b[0m\u001b[0;34m\u001b[0m\u001b[0;34m\u001b[0m\u001b[0m\n\u001b[1;32m   1503\u001b[0m         \u001b[0mfull_backward_hooks\u001b[0m\u001b[0;34m,\u001b[0m \u001b[0mnon_full_backward_hooks\u001b[0m \u001b[0;34m=\u001b[0m \u001b[0;34m[\u001b[0m\u001b[0;34m]\u001b[0m\u001b[0;34m,\u001b[0m \u001b[0;34m[\u001b[0m\u001b[0;34m]\u001b[0m\u001b[0;34m\u001b[0m\u001b[0;34m\u001b[0m\u001b[0m\n",
            "\u001b[0;32m/usr/local/lib/python3.10/dist-packages/torch/nn/modules/container.py\u001b[0m in \u001b[0;36mforward\u001b[0;34m(self, input)\u001b[0m\n\u001b[1;32m    215\u001b[0m     \u001b[0;32mdef\u001b[0m \u001b[0mforward\u001b[0m\u001b[0;34m(\u001b[0m\u001b[0mself\u001b[0m\u001b[0;34m,\u001b[0m \u001b[0minput\u001b[0m\u001b[0;34m)\u001b[0m\u001b[0;34m:\u001b[0m\u001b[0;34m\u001b[0m\u001b[0;34m\u001b[0m\u001b[0m\n\u001b[1;32m    216\u001b[0m         \u001b[0;32mfor\u001b[0m \u001b[0mmodule\u001b[0m \u001b[0;32min\u001b[0m \u001b[0mself\u001b[0m\u001b[0;34m:\u001b[0m\u001b[0;34m\u001b[0m\u001b[0;34m\u001b[0m\u001b[0m\n\u001b[0;32m--> 217\u001b[0;31m             \u001b[0minput\u001b[0m \u001b[0;34m=\u001b[0m \u001b[0mmodule\u001b[0m\u001b[0;34m(\u001b[0m\u001b[0minput\u001b[0m\u001b[0;34m)\u001b[0m\u001b[0;34m\u001b[0m\u001b[0;34m\u001b[0m\u001b[0m\n\u001b[0m\u001b[1;32m    218\u001b[0m         \u001b[0;32mreturn\u001b[0m \u001b[0minput\u001b[0m\u001b[0;34m\u001b[0m\u001b[0;34m\u001b[0m\u001b[0m\n\u001b[1;32m    219\u001b[0m \u001b[0;34m\u001b[0m\u001b[0m\n",
            "\u001b[0;32m/usr/local/lib/python3.10/dist-packages/torch/nn/modules/module.py\u001b[0m in \u001b[0;36m_call_impl\u001b[0;34m(self, *args, **kwargs)\u001b[0m\n\u001b[1;32m   1499\u001b[0m                 \u001b[0;32mor\u001b[0m \u001b[0m_global_backward_pre_hooks\u001b[0m \u001b[0;32mor\u001b[0m \u001b[0m_global_backward_hooks\u001b[0m\u001b[0;34m\u001b[0m\u001b[0;34m\u001b[0m\u001b[0m\n\u001b[1;32m   1500\u001b[0m                 or _global_forward_hooks or _global_forward_pre_hooks):\n\u001b[0;32m-> 1501\u001b[0;31m             \u001b[0;32mreturn\u001b[0m \u001b[0mforward_call\u001b[0m\u001b[0;34m(\u001b[0m\u001b[0;34m*\u001b[0m\u001b[0margs\u001b[0m\u001b[0;34m,\u001b[0m \u001b[0;34m**\u001b[0m\u001b[0mkwargs\u001b[0m\u001b[0;34m)\u001b[0m\u001b[0;34m\u001b[0m\u001b[0;34m\u001b[0m\u001b[0m\n\u001b[0m\u001b[1;32m   1502\u001b[0m         \u001b[0;31m# Do not call functions when jit is used\u001b[0m\u001b[0;34m\u001b[0m\u001b[0;34m\u001b[0m\u001b[0m\n\u001b[1;32m   1503\u001b[0m         \u001b[0mfull_backward_hooks\u001b[0m\u001b[0;34m,\u001b[0m \u001b[0mnon_full_backward_hooks\u001b[0m \u001b[0;34m=\u001b[0m \u001b[0;34m[\u001b[0m\u001b[0;34m]\u001b[0m\u001b[0;34m,\u001b[0m \u001b[0;34m[\u001b[0m\u001b[0;34m]\u001b[0m\u001b[0;34m\u001b[0m\u001b[0;34m\u001b[0m\u001b[0m\n",
            "\u001b[0;32m/usr/local/lib/python3.10/dist-packages/torchaudio/transforms/_transforms.py\u001b[0m in \u001b[0;36mforward\u001b[0;34m(self, waveform)\u001b[0m\n\u001b[1;32m   1008\u001b[0m         \u001b[0;32mif\u001b[0m \u001b[0mself\u001b[0m\u001b[0;34m.\u001b[0m\u001b[0morig_freq\u001b[0m \u001b[0;34m==\u001b[0m \u001b[0mself\u001b[0m\u001b[0;34m.\u001b[0m\u001b[0mnew_freq\u001b[0m\u001b[0;34m:\u001b[0m\u001b[0;34m\u001b[0m\u001b[0;34m\u001b[0m\u001b[0m\n\u001b[1;32m   1009\u001b[0m             \u001b[0;32mreturn\u001b[0m \u001b[0mwaveform\u001b[0m\u001b[0;34m\u001b[0m\u001b[0;34m\u001b[0m\u001b[0m\n\u001b[0;32m-> 1010\u001b[0;31m         \u001b[0;32mreturn\u001b[0m \u001b[0m_apply_sinc_resample_kernel\u001b[0m\u001b[0;34m(\u001b[0m\u001b[0mwaveform\u001b[0m\u001b[0;34m,\u001b[0m \u001b[0mself\u001b[0m\u001b[0;34m.\u001b[0m\u001b[0morig_freq\u001b[0m\u001b[0;34m,\u001b[0m \u001b[0mself\u001b[0m\u001b[0;34m.\u001b[0m\u001b[0mnew_freq\u001b[0m\u001b[0;34m,\u001b[0m \u001b[0mself\u001b[0m\u001b[0;34m.\u001b[0m\u001b[0mgcd\u001b[0m\u001b[0;34m,\u001b[0m \u001b[0mself\u001b[0m\u001b[0;34m.\u001b[0m\u001b[0mkernel\u001b[0m\u001b[0;34m,\u001b[0m \u001b[0mself\u001b[0m\u001b[0;34m.\u001b[0m\u001b[0mwidth\u001b[0m\u001b[0;34m)\u001b[0m\u001b[0;34m\u001b[0m\u001b[0;34m\u001b[0m\u001b[0m\n\u001b[0m\u001b[1;32m   1011\u001b[0m \u001b[0;34m\u001b[0m\u001b[0m\n\u001b[1;32m   1012\u001b[0m \u001b[0;34m\u001b[0m\u001b[0m\n",
            "\u001b[0;32m/usr/local/lib/python3.10/dist-packages/torchaudio/functional/functional.py\u001b[0m in \u001b[0;36m_apply_sinc_resample_kernel\u001b[0;34m(waveform, orig_freq, new_freq, gcd, kernel, width)\u001b[0m\n\u001b[1;32m   1549\u001b[0m     \u001b[0mnum_wavs\u001b[0m\u001b[0;34m,\u001b[0m \u001b[0mlength\u001b[0m \u001b[0;34m=\u001b[0m \u001b[0mwaveform\u001b[0m\u001b[0;34m.\u001b[0m\u001b[0mshape\u001b[0m\u001b[0;34m\u001b[0m\u001b[0;34m\u001b[0m\u001b[0m\n\u001b[1;32m   1550\u001b[0m     \u001b[0mwaveform\u001b[0m \u001b[0;34m=\u001b[0m \u001b[0mtorch\u001b[0m\u001b[0;34m.\u001b[0m\u001b[0mnn\u001b[0m\u001b[0;34m.\u001b[0m\u001b[0mfunctional\u001b[0m\u001b[0;34m.\u001b[0m\u001b[0mpad\u001b[0m\u001b[0;34m(\u001b[0m\u001b[0mwaveform\u001b[0m\u001b[0;34m,\u001b[0m \u001b[0;34m(\u001b[0m\u001b[0mwidth\u001b[0m\u001b[0;34m,\u001b[0m \u001b[0mwidth\u001b[0m \u001b[0;34m+\u001b[0m \u001b[0morig_freq\u001b[0m\u001b[0;34m)\u001b[0m\u001b[0;34m)\u001b[0m\u001b[0;34m\u001b[0m\u001b[0;34m\u001b[0m\u001b[0m\n\u001b[0;32m-> 1551\u001b[0;31m     \u001b[0mresampled\u001b[0m \u001b[0;34m=\u001b[0m \u001b[0mtorch\u001b[0m\u001b[0;34m.\u001b[0m\u001b[0mnn\u001b[0m\u001b[0;34m.\u001b[0m\u001b[0mfunctional\u001b[0m\u001b[0;34m.\u001b[0m\u001b[0mconv1d\u001b[0m\u001b[0;34m(\u001b[0m\u001b[0mwaveform\u001b[0m\u001b[0;34m[\u001b[0m\u001b[0;34m:\u001b[0m\u001b[0;34m,\u001b[0m \u001b[0;32mNone\u001b[0m\u001b[0;34m]\u001b[0m\u001b[0;34m,\u001b[0m \u001b[0mkernel\u001b[0m\u001b[0;34m,\u001b[0m \u001b[0mstride\u001b[0m\u001b[0;34m=\u001b[0m\u001b[0morig_freq\u001b[0m\u001b[0;34m)\u001b[0m\u001b[0;34m\u001b[0m\u001b[0;34m\u001b[0m\u001b[0m\n\u001b[0m\u001b[1;32m   1552\u001b[0m     \u001b[0mresampled\u001b[0m \u001b[0;34m=\u001b[0m \u001b[0mresampled\u001b[0m\u001b[0;34m.\u001b[0m\u001b[0mtranspose\u001b[0m\u001b[0;34m(\u001b[0m\u001b[0;36m1\u001b[0m\u001b[0;34m,\u001b[0m \u001b[0;36m2\u001b[0m\u001b[0;34m)\u001b[0m\u001b[0;34m.\u001b[0m\u001b[0mreshape\u001b[0m\u001b[0;34m(\u001b[0m\u001b[0mnum_wavs\u001b[0m\u001b[0;34m,\u001b[0m \u001b[0;34m-\u001b[0m\u001b[0;36m1\u001b[0m\u001b[0;34m)\u001b[0m\u001b[0;34m\u001b[0m\u001b[0;34m\u001b[0m\u001b[0m\n\u001b[1;32m   1553\u001b[0m     \u001b[0mtarget_length\u001b[0m \u001b[0;34m=\u001b[0m \u001b[0mint\u001b[0m\u001b[0;34m(\u001b[0m\u001b[0mmath\u001b[0m\u001b[0;34m.\u001b[0m\u001b[0mceil\u001b[0m\u001b[0;34m(\u001b[0m\u001b[0mnew_freq\u001b[0m \u001b[0;34m*\u001b[0m \u001b[0mlength\u001b[0m \u001b[0;34m/\u001b[0m \u001b[0morig_freq\u001b[0m\u001b[0;34m)\u001b[0m\u001b[0;34m)\u001b[0m\u001b[0;34m\u001b[0m\u001b[0;34m\u001b[0m\u001b[0m\n",
            "\u001b[0;31mKeyboardInterrupt\u001b[0m: "
          ]
        }
      ],
      "source": [
        "log_interval = 20\n",
        "pbar_update = 1 / (len(train_loader) + len(test_loader))\n",
        "losses = []\n",
        "model = model.to(device)\n",
        "\n",
        "\n",
        "for epoch in range(1, n_epoch + 1):\n",
        "    train(model, epoch, log_interval)\n",
        "    # Evaluate the model\n",
        "    avg_wer, avg_cer, correct_predictions = test(model, epoch)\n",
        "\n",
        "    # Store the metrics for plotting or further analysis\n",
        "    wer_over_epochs.append(avg_wer)\n",
        "    cer_over_epochs.append(avg_cer)\n",
        "    correct_predictions_over_epochs.append(correct_predictions)\n",
        "    scheduler.step()\n",
        "   # Save\n",
        "    torch.save(model.state_dict(), PATH)\n",
        "    print(\"saved\")\n",
        "# Let's plot the training loss versus the number of iteration.\n",
        "# plt.plot(losses);\n",
        "# plt.title(\"training loss\");"
      ]
    },
    {
      "cell_type": "code",
      "source": [],
      "metadata": {
        "id": "Ud0PZc69I9Fv"
      },
      "execution_count": null,
      "outputs": []
    },
    {
      "cell_type": "code",
      "source": [],
      "metadata": {
        "id": "01iL6uSYI4iS"
      },
      "execution_count": null,
      "outputs": []
    },
    {
      "cell_type": "markdown",
      "source": [],
      "metadata": {
        "id": "9GwgFngZvUak"
      }
    },
    {
      "cell_type": "code",
      "source": [],
      "metadata": {
        "id": "Mau8tq4l8trN"
      },
      "execution_count": null,
      "outputs": []
    },
    {
      "cell_type": "markdown",
      "source": [
        "## Metrics\n",
        "\n",
        "### Word Error Rate (WER)\n",
        "\n",
        "Word Error Rate (WER) is a standard metric used to measure the performance of an automatic speech recognition system. It represents the ratio of incorrect words to the total number of words in the reference transcription:\n",
        "\n",
        "$$\n",
        "\\text{WER} = \\frac{\\text{Substitutions + Insertions + Deletions}}{\\text{Total number of words in reference}}\n",
        "$$\n",
        "\n",
        "### Character Error Rate (CER)\n",
        "\n",
        "Character Error Rate (CER) is similar to WER but measures errors at the character level. It represents the ratio of incorrect characters to the total number of characters in the reference transcription:\n",
        "\n",
        "$$\n",
        "\\text{CER} = \\frac{\\text{Substitutions + Insertions + Deletions}}{\\text{Total number of characters in reference}}\n",
        "$$\n",
        "\n",
        "### Accuracy - to be implemented\n",
        "\n",
        "Accuracy is a standard metric used to evaluate classification models. It is defined as the ratio of correct predictions to the total number of predictions:\n",
        "\n",
        "$$\n",
        "\\text{Accuracy} = \\frac{\\text{Number of Correct Predictions}}{\\text{Total Number of Predictions}}\n",
        "$$\n",
        "\n",
        "### Loss\n",
        "\n",
        "The loss function quantifies how well the predicted outputs agree with the actual labels. For classification problems, a common loss function is the negative log-likelihood loss:\n",
        "\n",
        "$$\n",
        "\\text{Loss} = -\\log \\left( \\frac{\\text{Probability of the Correct Class}}{\\text{Sum of Probabilities for All Classes}} \\right)\n",
        "$$\n",
        "\n",
        "These metrics provide a comprehensive evaluation of the model's performance, allowing for better understanding and optimization.\n"
      ],
      "metadata": {
        "id": "lkN8QHKGy_al"
      }
    },
    {
      "cell_type": "code",
      "source": [
        "\n",
        "# Let's plot the training metrics versus the number of iteration.\n",
        "# WER Plotvimport matplotlib.pyplot as plt\n",
        "epochs = list(range(1, 201))\n",
        "\n",
        "#loss\n",
        "plt.plot(losses)\n",
        "plt.title(\"Training Loss Per Batch\")\n",
        "plt.xlabel(\"Batches\")\n",
        "plt.ylabel(\"Loss\")\n",
        "plt.grid()\n",
        "plt.show()\n",
        "\n",
        "plt.plot(correct_predictions_over_epochs, marker='o', label='Number of Correct Predictions')\n",
        "plt.xlabel('Epochs')\n",
        "plt.ylabel('Number of Correct Predictions')\n",
        "plt.title('Correct Predictions Over Epochs')\n",
        "plt.legend()\n",
        "plt.show()\n",
        "plt.figure(figsize=(12, 6))\n",
        "# Plot WER\n",
        "plt.plot(epochs, wer_over_epochs, label='WER', marker='o')\n",
        "# Plot CER\n",
        "plt.plot(epochs, cer_over_epochs, label='CER', marker='o')\n",
        "\n",
        "plt.title('Word Error Rate (WER) and Character Error Rate (CER) over epochs')\n",
        "plt.xlabel('Epochs')\n",
        "plt.ylabel('Error Rate')\n",
        "plt.legend()\n",
        "plt.grid(True)\n",
        "\n"
      ],
      "metadata": {
        "id": "JouJkeHEn23Z"
      },
      "execution_count": null,
      "outputs": []
    },
    {
      "cell_type": "code",
      "source": [
        "from google.colab import drive\n",
        "drive.mount('/content/drive')"
      ],
      "metadata": {
        "id": "VXUUzeXrtZB2"
      },
      "execution_count": null,
      "outputs": []
    },
    {
      "cell_type": "code",
      "execution_count": null,
      "metadata": {
        "id": "0M7uLxfoYUaC"
      },
      "outputs": [],
      "source": [
        "def predict(tensor):\n",
        "    # Use the model to predict the label of the waveform\n",
        "    tensor = tensor.to(device)\n",
        "    tensor = transform(tensor)\n",
        "    tensor = model(tensor.unsqueeze(0))\n",
        "    tensor = get_likely_index(tensor)\n",
        "    tensor = index_to_label(tensor.squeeze())\n",
        "    return tensor\n",
        "\n",
        "\n",
        "waveform, sample_rate, utterance, *_ = train_set[-1]\n",
        "ipd.Audio(waveform.numpy(), rate=sample_rate)\n",
        "\n",
        "print(f\"Expected: {utterance}. Predicted: {predict(waveform)}.\")"
      ]
    },
    {
      "cell_type": "code",
      "execution_count": null,
      "metadata": {
        "id": "_RtSpxswYUaC"
      },
      "outputs": [],
      "source": [
        "for i, (waveform, sample_rate, utterance, *_) in enumerate(test_set):    output = predict(waveform)\n",
        "if output != utterance:\n",
        "      ipd.Audio(waveform.numpy(), rate=sample_rate)\n",
        "      print(f\"Data point #{i}. Expected: {utterance}. Predicted: {output}.\")\n",
        "\n",
        "else:\n",
        "    print(\"All examples in this dataset were correctly classified!\")\n",
        "    print(\"In this case, let's just look at the last data point\")\n",
        "    ipd.Audio(waveform.numpy(), rate=sample_rate)\n",
        "    print(f\"Data point #{i}. Expected: {utterance}. Predicted: {output}.\")"
      ]
    },
    {
      "cell_type": "code",
      "source": [],
      "metadata": {
        "id": "z6xOoXaxd2Mz"
      },
      "execution_count": null,
      "outputs": []
    },
    {
      "cell_type": "code",
      "source": [
        "!pip install PyAudio"
      ],
      "metadata": {
        "id": "m8bcdv57dxpE"
      },
      "execution_count": null,
      "outputs": []
    },
    {
      "cell_type": "code",
      "execution_count": null,
      "metadata": {
        "id": "-b1lnCsyYUaC"
      },
      "outputs": [],
      "source": [
        "import sounddevice as sd\n",
        "import numpy as np\n",
        "import torch\n",
        "import torchaudio.transforms as T\n",
        "import random\n",
        "import matplotlib.pyplot as plt\n",
        "\n",
        "# Defining functions\n",
        "def record_audio():\n",
        "    print(\"Recording...\")\n",
        "    audio = sd.rec(int(duration * sample_rate), samplerate=sample_rate, channels=1, dtype=np.float32)\n",
        "    sd.wait()\n",
        "    print(\"Recording done.\")\n",
        "    return torch.tensor(audio).squeeze()\n",
        "\n",
        "def live_validate(model, waveform, true_label_text):\n",
        "    model.eval()\n",
        "    with torch.no_grad():\n",
        "        # Extract features from the given waveform\n",
        "        features = transform(waveform)\n",
        "        features = features.unsqueeze(0)  # Adding batch dimension\n",
        "\n",
        "        # Model forward pass\n",
        "        outputs = model(features)\n",
        "\n",
        "        # Get predicted label\n",
        "        predicted_label_index = outputs.argmax(dim=1).item()\n",
        "        predicted_label_text = labels[predicted_label_index]\n",
        "\n",
        "        # Compute WER and CER\n",
        "        wer_score = wer([true_label_text], [predicted_label_text])\n",
        "        cer_score = cer(true_label_text, predicted_label_text)\n",
        "\n",
        "    return predicted_label_text, wer_score, cer_score\n",
        "\n",
        "# Lists to store metrics for plotting\n",
        "wer_over_epochs = []\n",
        "cer_over_epochs = []\n",
        "loss_over_epochs = []\n",
        "accuracy_over_epochs = []\n",
        "\n",
        "num_epochs = 10\n",
        "for epoch in range(num_epochs):\n",
        "    model.train()\n",
        "\n",
        "    # Select a random label\n",
        "    true_label_index = random.randint(0, len(labels) - 1)\n",
        "    true_label_text = labels[true_label_index]\n",
        "    print(f\"Please speak the label: {true_label_text}\")\n",
        "\n",
        "    # Record audio\n",
        "    waveform = record_audio()\n",
        "\n",
        "    # Extract features\n",
        "    features = transform(waveform)\n",
        "    features = features.unsqueeze(0)  # Adding batch dimension\n",
        "\n",
        "    # Model forward pass\n",
        "    outputs = model(features)\n",
        "\n",
        "    # Compute loss\n",
        "    true_label_tensor = torch.tensor([true_label_index])  # Convert the true label to tensor\n",
        "    loss = loss_function(outputs.squeeze(0), true_label_tensor)\n",
        "\n",
        "    # Backward pass\n",
        "    optimizer.zero_grad()\n",
        "    loss.backward()\n",
        "    optimizer.step()\n",
        "\n",
        "    # Compute accuracy\n",
        "    pred = outputs.argmax(dim=1, keepdim=True)\n",
        "    correct = pred.eq(true_label_tensor.view_as(pred)).sum().item()\n",
        "    accuracy = correct / len(true_label_tensor)\n",
        "\n",
        "    # Store metrics\n",
        "    loss_over_epochs.append(loss.item())\n",
        "    accuracy_over_epochs.append(accuracy)\n",
        "\n",
        "    # Live validation\n",
        "    print(\"Please provide an audio sample for validation:\")\n",
        "    val_waveform = record_audio()\n",
        "    predicted_label, wer_score, cer_score = live_validate(model, val_waveform, true_label_text)\n",
        "    print(f\"Model's prediction: {predicted_label}\\nWER: {wer_score}\\nCER: {cer_score}\\n\")\n",
        "    wer_over_epochs.append(wer_score)\n",
        "    cer_over_epochs.append(cer_score)\n",
        "\n",
        "    print(f\"Epoch {epoch+1}/{num_epochs}, Loss: {loss.item()}, Accuracy: {accuracy*100:.2f}%\\n\")\n",
        "\n",
        "# Plot metrics\n",
        "fig, axs = plt.subplots(2, 2, figsize=(12, 10))\n",
        "axs[0, 0].plot(loss_over_epochs, label='Training Loss')\n",
        "axs[0, 0].set_title('Training Loss')\n",
        "axs[0, 1].plot(accuracy_over_epochs, label='Training Accuracy')\n",
        "axs[0, 1].set_title('Training Accuracy')\n",
        "axs[1, 0].plot(wer_over_epochs, label='WER')\n",
        "axs[1, 0].set_title('Word Error Rate (WER)')\n",
        "axs[1, 1].plot(cer_over_epochs, label='CER')\n",
        "axs[1, 1].set_title('Character Error Rate (CER)')\n",
        "\n",
        "for ax in axs.flat:\n",
        "    ax.legend()\n",
        "    ax.grid(True)\n",
        "\n",
        "plt.tight_layout()\n",
        "plt.show()\n"
      ]
    },
    {
      "cell_type": "code",
      "execution_count": null,
      "metadata": {
        "id": "cPODYt4gCwn2"
      },
      "outputs": [],
      "source": [
        "\n",
        "# Plot WER and CER\n",
        "plt.plot(wer_over_epochs2, label='WER')\n",
        "plt.plot(cer_over_epochs2, label='CER')\n",
        "plt.xlabel('Epoch')\n",
        "plt.ylabel('Error Rate')\n",
        "plt.legend()\n",
        "plt.title('Live Validation Metrics')\n",
        "plt.show()"
      ]
    }
  ],
  "metadata": {
    "colab": {
      "provenance": [],
      "machine_shape": "hm",
      "gpuType": "T4",
      "include_colab_link": true
    },
    "kernelspec": {
      "display_name": "Python 3",
      "name": "python3"
    },
    "language_info": {
      "codemirror_mode": {
        "name": "ipython",
        "version": 3
      },
      "file_extension": ".py",
      "mimetype": "text/x-python",
      "name": "python",
      "nbconvert_exporter": "python",
      "pygments_lexer": "ipython3",
      "version": "3.10.9"
    },
    "accelerator": "GPU"
  },
  "nbformat": 4,
  "nbformat_minor": 0
}