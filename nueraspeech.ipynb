{
  "cells": [
    {
      "cell_type": "markdown",
      "metadata": {
        "id": "view-in-github",
        "colab_type": "text"
      },
      "source": [
        "<a href=\"https://colab.research.google.com/github/leonmck-dsp-dev/nueraspeech/blob/main/nueraspeech.ipynb\" target=\"_parent\"><img src=\"https://colab.research.google.com/assets/colab-badge.svg\" alt=\"Open In Colab\"/></a>"
      ]
    },
    {
      "cell_type": "code",
      "execution_count": 1,
      "metadata": {
        "id": "LaTtLnEMYUZ-"
      },
      "outputs": [],
      "source": [
        "%matplotlib inline"
      ]
    },
    {
      "cell_type": "markdown",
      "metadata": {
        "id": "lalY1_2iYUZ_"
      },
      "source": [
        "\n"
      ]
    },
    {
      "cell_type": "code",
      "execution_count": 2,
      "metadata": {
        "id": "1sjxjWufYUZ_"
      },
      "outputs": [],
      "source": [
        "# Uncomment the line corresponding to your \"runtime type\" to run in Google Colab\n",
        "\n",
        "# CPU:\n",
        "# !pip install pydub torch==1.7.0+cpu torchvision==0.8.1+cpu torchaudio==0.7.0 -f https://download.pytorch.org/whl/torch_stable.html\n",
        "\n",
        "# GPU:\n",
        "# !pip install pydub torch==1.7.0+cu101 torchvision==0.8.1+cu101 torchaudio==0.7.0 -f https://download.pytorch.org/whl/torch_stable.html\n",
        "\n",
        "import torch\n",
        "import torch.nn as nn\n",
        "import torch.nn.functional as F\n",
        "import torch.optim as optim\n",
        "import torchaudio\n",
        "import sys\n",
        "from torchaudio import transforms\n",
        "import matplotlib.pyplot as plt\n",
        "import IPython.display as ipd\n",
        "import editdistance\n",
        "\n",
        "from tqdm import tqdm"
      ]
    },
    {
      "cell_type": "code",
      "execution_count": 3,
      "metadata": {
        "colab": {
          "base_uri": "https://localhost:8080/"
        },
        "id": "qK_nSa0aYUaA",
        "outputId": "fd7a1dfb-d9d8-4ae7-a30a-bbff21f22854"
      },
      "outputs": [
        {
          "output_type": "stream",
          "name": "stdout",
          "text": [
            "cpu\n"
          ]
        }
      ],
      "source": [
        "device = torch.device(\"cuda\" if torch.cuda.is_available() else \"cpu\")\n",
        "print(device)"
      ]
    },
    {
      "cell_type": "code",
      "execution_count": 4,
      "metadata": {
        "id": "7EM6WlKQYUaA"
      },
      "outputs": [],
      "source": [
        "from torchaudio.datasets import SPEECHCOMMANDS\n",
        "import os\n",
        "\n",
        "\n",
        "class SubsetSC(SPEECHCOMMANDS):\n",
        "    def __init__(self, subset: str = None):\n",
        "        super().__init__(\"./\", download=True)\n",
        "\n",
        "        def load_list(filename):\n",
        "            filepath = os.path.join(self._path, filename)\n",
        "            with open(filepath) as fileobj:\n",
        "                return [os.path.normpath(os.path.join(self._path, line.strip())) for line in fileobj]\n",
        "\n",
        "        if subset == \"validation\":\n",
        "            self._walker = load_list(\"validation_list.txt\")\n",
        "        elif subset == \"testing\":\n",
        "            self._walker = load_list(\"testing_list.txt\")\n",
        "        elif subset == \"training\":\n",
        "            excludes = load_list(\"validation_list.txt\") + load_list(\"testing_list.txt\")\n",
        "            excludes = set(excludes)\n",
        "            self._walker = [w for w in self._walker if w not in excludes]\n",
        "\n",
        "\n",
        "train_set = SubsetSC(\"training\")\n",
        "test_set = SubsetSC(\"testing\")\n",
        "\n",
        "waveform, sample_rate, label, speaker_id, utterance_number = train_set[0]"
      ]
    },
    {
      "cell_type": "code",
      "execution_count": 5,
      "metadata": {
        "colab": {
          "base_uri": "https://localhost:8080/",
          "height": 466
        },
        "id": "0_rUOAj8YUaA",
        "outputId": "c2994709-f0b3-4006-f613-0fcc6b3b65d5"
      },
      "outputs": [
        {
          "output_type": "stream",
          "name": "stdout",
          "text": [
            "Shape of waveform: torch.Size([1, 16000])\n",
            "Sample rate of waveform: 16000\n"
          ]
        },
        {
          "output_type": "display_data",
          "data": {
            "text/plain": [
              "<Figure size 640x480 with 1 Axes>"
            ],
            "image/png": "[encoded data removed]"
          },
          "metadata": {}
        }
      ],
      "source": [
        "print(\"Shape of waveform: {}\".format(waveform.size()))\n",
        "print(\"Sample rate of waveform: {}\".format(sample_rate))\n",
        "\n",
        "plt.plot(waveform.t().numpy());"
      ]
    },
    {
      "cell_type": "code",
      "execution_count": null,
      "metadata": {
        "id": "Aj6_jO85YUaB"
      },
      "outputs": [],
      "source": [
        "labels = sorted(list(set(datapoint[2] for datapoint in train_set)))\n",
        "labels"
      ]
    },
    {
      "cell_type": "code",
      "execution_count": null,
      "metadata": {
        "id": "0adiSTjFYUaB"
      },
      "outputs": [],
      "source": [
        "waveform_first, *_ = train_set[0]\n",
        "ipd.Audio(waveform_first.numpy(), rate=sample_rate)\n",
        "\n",
        "waveform_second, *_ = train_set[1]\n",
        "ipd.Audio(waveform_second.numpy(), rate=sample_rate)"
      ]
    },
    {
      "cell_type": "markdown",
      "metadata": {
        "id": "iWsWgG_xYUaB"
      },
      "source": [
        "The last file is someone saying “visual”.\n",
        "\n",
        "\n"
      ]
    },
    {
      "cell_type": "code",
      "execution_count": null,
      "metadata": {
        "id": "w6AyMcD5YUaB"
      },
      "outputs": [],
      "source": [
        "waveform_last, *_ = train_set[-1]\n",
        "ipd.Audio(waveform_last.numpy(), rate=sample_rate)"
      ]
    },
    {
      "cell_type": "code",
      "execution_count": null,
      "metadata": {
        "id": "IC172_CtYUaB"
      },
      "outputs": [],
      "source": [
        "new_sample_rate = 8000\n",
        "import torchaudio\n",
        "import random\n",
        "import numpy as np\n",
        "\n",
        "class SpecAugment:\n",
        "    def __init__(self, freq_mask_param, time_mask_param, num_time_masks=1, num_freq_masks=1):\n",
        "        self.freq_mask_param = freq_mask_param\n",
        "        self.time_mask_param = time_mask_param\n",
        "        self.num_time_masks = num_time_masks\n",
        "        self.num_freq_masks = num_freq_masks\n",
        "\n",
        "    def __call__(self, specs):\n",
        "        augmented_specs = []\n",
        "        for spec in specs:\n",
        "            # Frequency Masking\n",
        "            for _ in range(self.num_freq_masks):\n",
        "                num_freqs, num_frames = spec.shape\n",
        "                f = random.randrange(0, self.freq_mask_param)\n",
        "                f0 = random.randrange(0, num_freqs - f)\n",
        "                spec[f0:f0 + f, :] = 0\n",
        "\n",
        "            # Time Masking\n",
        "            for _ in range(self.num_time_masks):\n",
        "                num_freqs, num_frames = spec.shape\n",
        "                t = random.randrange(0, self.time_mask_param)\n",
        "                t0 = random.randrange(0, num_frames - t)\n",
        "                spec[:, t0:t0 + t] = 0\n",
        "\n",
        "            augmented_specs.append(spec)\n",
        "\n",
        "        return torch.stack(augmented_specs)\n",
        "\n",
        "\n",
        "# 1. Resample\n",
        "resampler = torchaudio.transforms.Resample(orig_freq=sample_rate, new_freq=new_sample_rate)\n",
        "resampled_waveform = resampler(waveform)\n",
        "\n",
        "# 2. Convert to Mel-spectrogram\n",
        "mel_transform = torchaudio.transforms.MelSpectrogram(sample_rate=new_sample_rate, n_mels=128)\n",
        "mel_spectrogram = mel_transform(resampled_waveform)\n",
        "\n",
        "# 3. Convert to dB scale\n",
        "db_transform = torchaudio.transforms.AmplitudeToDB()\n",
        "db_mel_spectrogram = db_transform(mel_spectrogram)\n",
        "\n",
        "mel_spectrogram_transform = torch.nn.Sequential(\n",
        "    torchaudio.transforms.Resample(orig_freq=sample_rate, new_freq=new_sample_rate),\n",
        "    torchaudio.transforms.MelSpectrogram(sample_rate=new_sample_rate, n_mels=128),\n",
        "    torchaudio.transforms.AmplitudeToDB()\n",
        ")\n",
        "\n",
        "# Instantiate and apply\n",
        "spec_augment = SpecAugment(freq_mask_param=30, time_mask_param=30)\n",
        "\n",
        "# Display\n",
        "plt.figure(figsize=(20, 4))\n",
        "plt.imshow(db_mel_spectrogram[0].detach().numpy(), cmap='viridis', origin='lower', aspect='auto')\n",
        "plt.colorbar(format=\"%+2.0f dB\")\n",
        "plt.show()\n",
        "\n",
        "print(\"Shape of the Mel spectrogram:\", mel_spectrogram.shape)\n",
        "# Listen to the resampled audio\n",
        "ipd.Audio(resampled_waveform.numpy(), rate=new_sample_rate)\n"
      ]
    },
    {
      "cell_type": "code",
      "execution_count": null,
      "metadata": {
        "id": "VEkZYZirYUaB"
      },
      "outputs": [],
      "source": [
        "def label_to_index(word):\n",
        "    # Return the position of the word in labels\n",
        "    return torch.tensor(labels.index(word))\n",
        "\n",
        "def index_to_label(tensor):\n",
        "    # Convert tensor of indices into its string labels\n",
        "    if tensor.dim() == 0:  # If tensor is a scalar\n",
        "        return labels[tensor.item()]\n",
        "    else:  # If tensor is not a scalar\n",
        "        return [labels[index] for index in tensor.cpu().numpy()]\n",
        "\n",
        "\n",
        "word_start = \"yes\"\n",
        "index = label_to_index(word_start)\n",
        "word_recovered = index_to_label(index)\n",
        "\n",
        "print(word_start, \"-->\", index, \"-->\", word_recovered)"
      ]
    },
    {
      "cell_type": "code",
      "execution_count": null,
      "metadata": {
        "id": "10wdIx6tYUaB"
      },
      "outputs": [],
      "source": [
        "def pad_sequence(batch):\n",
        "    # Make all tensor in a batch the same length by padding with zeros\n",
        "    batch = [item.t() for item in batch]\n",
        "    batch = torch.nn.utils.rnn.pad_sequence(batch, batch_first=True, padding_value=0.)\n",
        "    return batch.permute(0, 2, 1)\n",
        "\n",
        "\n",
        "def collate_fn(batch):\n",
        "\n",
        "    # A data tuple has the form:\n",
        "    # waveform, sample_rate, label, speaker_id, utterance_number\n",
        "\n",
        "    tensors, targets = [], []\n",
        "\n",
        "    # Gather in lists, and encode labels as indices\n",
        "    for waveform, _, label, *_ in batch:\n",
        "        tensors += [waveform]\n",
        "        targets += [label_to_index(label)]\n",
        "\n",
        "    # Group the list of tensors into a batched tensor\n",
        "    tensors = pad_sequence(tensors)\n",
        "    targets = torch.stack(targets)\n",
        "\n",
        "    return tensors, targets\n",
        "\n",
        "\n",
        "batch_size = 512\n",
        "if device == \"cuda\":\n",
        "    num_workers = 1\n",
        "    pin_memory = True\n",
        "else:\n",
        "    num_workers = 0\n",
        "    pin_memory = False\n",
        "\n",
        "train_loader = torch.utils.data.DataLoader(\n",
        "    train_set,\n",
        "    batch_size=batch_size,\n",
        "    shuffle=True,\n",
        "    collate_fn=collate_fn,\n",
        "    num_workers=num_workers,\n",
        "    pin_memory=pin_memory,\n",
        ")\n",
        "test_loader = torch.utils.data.DataLoader(\n",
        "    test_set,\n",
        "    batch_size=batch_size,\n",
        "    shuffle=False,\n",
        "    drop_last=False,\n",
        "    collate_fn=collate_fn,\n",
        "    num_workers=num_workers,\n",
        "    pin_memory=pin_memory,\n",
        ")"
      ]
    },
    {
      "cell_type": "code",
      "execution_count": null,
      "metadata": {
        "id": "NsC8Qg3a44vA"
      },
      "outputs": [],
      "source": [
        "print(torch.__version__)"
      ]
    },
    {
      "cell_type": "code",
      "source": [],
      "metadata": {
        "id": "WBuxLZQ_yWlr"
      },
      "execution_count": null,
      "outputs": []
    },
    {
      "cell_type": "markdown",
      "source": [
        "# Nueraspeech model architecture\n",
        "## Acoustic Model (Convolutional Layers)\n",
        "\n",
        "### Convolutional Neural Networks (CNNs)\n",
        "A convolutional layer employs a set of learnable filters, which are used to spatially convolve with the input data to produce feature maps. Mathematically, for a 1D input $x$ and a filter $h$, convolution is represented as:\n",
        "\n",
        "$$\n",
        "y(t) = (x * h)(t) = \\sum_{a=-\\infty}^{\\infty} x(a)h(t-a)\n",
        "$$\n",
        "\n",
        "### Batch Normalization\n",
        "\n",
        "Batch normalization normalizes the output of a previous activation layer by subtracting the batch mean and dividing by the batch standard deviation.\n",
        "\n",
        "$$\n",
        "\\hat{x} = \\frac{x - \\text{E}[x]}{\\sqrt{\\text{Var}[x]+\\epsilon}}\n",
        "$$\n",
        "\n",
        "Where:\n",
        "- $\\hat{x}$ is the normalized data.\n",
        "- $\\text{E}[x]$ is the mean of the batch data.\n",
        "- $\\text{Var}[x]$ is the variance of the batch data.\n",
        "- $\\epsilon$ is a small constant to avoid division by zero.\n",
        "\n",
        "---\n",
        "\n",
        "## Recurrent Layers (GRU Layers)\n",
        "\n",
        "### Gated Recurrent Units (GRUs)\n",
        "\n",
        "GRUs are a type of recurrent neural network (RNN) architecture. The GRU uses gating mechanisms (reset gate and update gate) to control the flow of information.\n",
        "\n",
        "$$\n",
        "r_t = \\sigma(W_r x_t + U_r h_{t-1} + b_r)\n",
        "$$\n",
        "$$\n",
        "z_t = \\sigma(W_z x_t + U_z h_{t-1} + b_z)\n",
        "$$\n",
        "$$\n",
        "\\tilde{h}_t = \\tanh(W x_t + r_t \\odot (U h_{t-1} + b) + b')\n",
        "$$\n",
        "$$\n",
        "h_t = (1 - z_t) \\odot h_{t-1} + z_t \\odot \\tilde{h}_t\n",
        "$$\n",
        "\n",
        "Where:\n",
        "- $r_t$ is the reset gate.\n",
        "- $z_t$ is the update gate.\n",
        "- $\\tilde{h}_t$ is the candidate activation.\n",
        "- $h_t$ is the output.\n",
        "- $\\sigma$ is the sigmoid function.\n",
        "- $\\odot$ is the element-wise multiplication.\n",
        "\n",
        "---\n",
        "\n",
        "## Transformer Attention\n",
        "\n",
        "### Self Attention\n",
        "\n",
        "The self-attention mechanism allows the model to weigh the significance of each part in a sequence based on its content. For a query $Q$, key $K$, and value $V$ set, the attention mechanism is defined as:\n",
        "\n",
        "$$\n",
        "\\text{Attention}(Q, K, V) = \\text{softmax}\\left(\\frac{QK^T}{\\sqrt{d_k}}\\right) V\n",
        "$$\n",
        "\n",
        "Where $d_k$ is the dimension of the keys.\n",
        "\n",
        "### Multi-head Attention\n",
        "\n",
        "Instead of using one set of attention weights, multi-head attention uses multiple sets, allowing the model to focus on different parts of the input for different tasks or reasons.\n",
        "\n",
        "---\n",
        "\n",
        "## Residual Connections (ResBlocks)\n",
        "\n",
        "Residual connections (or skip connections) allow for the direct flow of gradients during the backpropagation process. If $x$ is the input and $F(x)$ is the output after some layers, the residual connection is:\n",
        "\n",
        "$$\n",
        "\\text{output} = x + F(x)\n",
        "$$\n",
        "\n",
        "This ensures that even as $F(x)$ learns the residuals (or errors), the original input is preserved.\n"
      ],
      "metadata": {
        "id": "GcS9MoG6vXhl"
      }
    },
    {
      "cell_type": "code",
      "source": [
        "import torch.nn as nn\n",
        "import torch.nn.functional as F\n",
        "\n",
        "class ResBlock(nn.Module):\n",
        "    def __init__(self, in_channels, out_channels, stride=1):\n",
        "        super(ResBlock, self).__init__()\n",
        "\n",
        "        self.conv = nn.Conv1d(in_channels, out_channels, kernel_size=3, stride=stride, padding=1, bias=False)\n",
        "        self.bn = nn.BatchNorm1d(out_channels)\n",
        "        self.skip = nn.Sequential()\n",
        "\n",
        "        if stride != 1 or in_channels != out_channels:\n",
        "            self.skip = nn.Sequential(\n",
        "                nn.Conv1d(in_channels, out_channels, kernel_size=1, stride=stride, bias=False),\n",
        "                nn.BatchNorm1d(out_channels)\n",
        "            )\n",
        "\n",
        "    def forward(self, x):\n",
        "        out = F.relu(self.bn(self.conv(x)))\n",
        "        out = out + self.skip(x)\n",
        "        return F.relu(out)\n",
        "class AcousticModel(nn.Module):\n",
        "    def __init__(self, n_input, n_channel, num_res_blocks=1):\n",
        "        super().__init__()\n",
        "        self.conv1 = nn.Conv1d(n_input, n_channel, kernel_size=5, stride=2)\n",
        "        self.bn1 = nn.BatchNorm1d(n_channel)\n",
        "        self.pool1 = nn.MaxPool1d(2)\n",
        "\n",
        "        # Allow for multiple residual blocks\n",
        "        self.resblocks = nn.Sequential(*[ResBlock(n_channel, n_channel) for _ in range(num_res_blocks)])\n",
        "\n",
        "    def forward(self, x):\n",
        "        x = self.conv1(x)\n",
        "        x = self.bn1(x)\n",
        "        x = F.relu(x)\n",
        "        x = self.pool1(x)\n",
        "        x = self.resblocks(x)\n",
        "        return x\n",
        "\n",
        "class RecurrentLayers(nn.Module):\n",
        "    def __init__(self, n_channel, hidden_dim, num_gru_layers=1):\n",
        "        super().__init__()\n",
        "        self.gru = nn.GRU(n_channel, hidden_dim, num_layers=num_gru_layers, batch_first=True, bidirectional=True)\n",
        "\n",
        "    def forward(self, x):\n",
        "        x, _ = self.gru(x)\n",
        "        return x\n",
        "\n",
        "class nueraspeechASR(nn.Module):\n",
        "    def __init__(self, n_input=1, n_output=35, n_channel=16, hidden_dim=64, dropout_rate=0.4, num_res_blocks=1, num_gru_layers=1):\n",
        "        super().__init__()\n",
        "\n",
        "        self.acoustic_model = AcousticModel(n_input, n_channel, num_res_blocks=num_res_blocks)\n",
        "        self.recurrent_layers = RecurrentLayers(n_channel, hidden_dim, num_gru_layers=num_gru_layers)\n",
        "\n",
        "        self.fc1 = nn.Linear(hidden_dim*2, n_output)\n",
        "        self.dropout = nn.Dropout(dropout_rate)\n",
        "\n",
        "    def forward(self, x):\n",
        "        x = self.acoustic_model(x)\n",
        "        x = x.permute(0, 2, 1)\n",
        "        x = self.recurrent_layers(x)\n",
        "        x = self.dropout(x)\n",
        "        x = x[:, -1, :]\n",
        "        x = self.fc1(x)\n",
        "        return F.log_softmax(x, dim=1)\n",
        "\n",
        "\n",
        "# Testing the model\n",
        "n_input = 128\n",
        "n_output = 35\n",
        "\n",
        "model = nueraspeechASR(n_input=n_input, n_output=n_output)\n",
        "print(model)\n",
        "\n",
        "# Print number of parameters\n",
        "print(f'The model has {sum(p.numel() for p in model.parameters()):,} trainable parameters')\n",
        "\n",
        "# Test\n",
        "x = torch.randn(1, 128, 8000)\n",
        "OUT = model(x)\n",
        "print(OUT.shape)\n"
      ],
      "metadata": {
        "id": "s5MfeA7a3WIZ"
      },
      "execution_count": null,
      "outputs": []
    },
    {
      "cell_type": "markdown",
      "source": [],
      "metadata": {
        "id": "aiDhhfdA3fbE"
      }
    },
    {
      "cell_type": "markdown",
      "source": [],
      "metadata": {
        "id": "Li3m6SMqdY2p"
      }
    },
    {
      "cell_type": "code",
      "execution_count": null,
      "metadata": {
        "id": "9zKs9WPdYUaB"
      },
      "outputs": [],
      "source": [
        "# @title Default title text\n",
        "\n",
        "n_epoch = 10\n",
        "optimizer = torch.optim.Adam(model.parameters(), lr=0.001, weight_decay=0.0001)\n",
        "\n",
        "scheduler = torch.optim.lr_scheduler.StepLR(optimizer, step_size=10, gamma=0.1)\n",
        "\n",
        "pbar = tqdm(total=len(train_loader.dataset), desc=\"Training Progress\")\n",
        "PATH = \"nueraspeech.pth\""
      ]
    },
    {
      "cell_type": "code",
      "execution_count": null,
      "metadata": {
        "id": "t8yIN9wkYUaB"
      },
      "outputs": [],
      "source": [
        "def train(model, epoch, log_interval):\n",
        "    model.train()\n",
        "\n",
        "    for batch_idx, (data, target) in enumerate(train_loader):\n",
        "        data = data.squeeze(1)  # This will remove the single channel dimension, turning [batch_size, 1, 128, 41] into [batch_size, 128, 41]\n",
        "\n",
        "        # Preprocess the data with Mel-spectrogram transform\n",
        "        data = mel_spectrogram_transform(data)\n",
        "\n",
        "        # Apply SpecAugment (only during training)\n",
        "        data = spec_augment(data)\n",
        "        data = data.to(device)\n",
        "\n",
        "\n",
        "        target = target.to(device)\n",
        "\n",
        "        output = model(data)\n",
        "        loss = F.nll_loss(output.squeeze(), target)\n",
        "\n",
        "        optimizer.zero_grad()\n",
        "        loss.backward()\n",
        "        optimizer.step()\n",
        "\n",
        "        # print training stats\n",
        "        if batch_idx % log_interval == 0:\n",
        "            print(f\"Train Epoch: {epoch} [{batch_idx * len(data)}/{len(train_loader.dataset)} ({100. * batch_idx / len(train_loader):.0f}%)]\\tLoss: {loss.item():.6f}\")\n",
        "\n",
        "        # update progress bar\n",
        "        pbar.update(pbar_update)\n",
        "        # record loss\n",
        "        losses.append(loss.item())\n"
      ]
    },
    {
      "cell_type": "code",
      "source": [],
      "metadata": {
        "id": "AfXRkUfpEjoe"
      },
      "execution_count": null,
      "outputs": []
    },
    {
      "cell_type": "code",
      "execution_count": null,
      "metadata": {
        "id": "MvhCMAKYYUaC"
      },
      "outputs": [],
      "source": [
        "def wer(s1, s2):\n",
        "    \"\"\"\n",
        "    Compute the Word Error Rate between two lists of words.\n",
        "    \"\"\"\n",
        "    b = set(s1 + s2)\n",
        "    word2char = dict(zip(b, range(len(b))))\n",
        "\n",
        "    w1 = [chr(word2char[w]) for w in s1]\n",
        "    w2 = [chr(word2char[w]) for w in s2]\n",
        "\n",
        "    return editdistance.eval(\" \".join(w1), \" \".join(w2)) / len(s2)\n",
        "def cer(s1, s2):\n",
        "    \"\"\"\n",
        "    Compute the Character Error Rate between two lists of words.\n",
        "    \"\"\"\n",
        "    s1 = \" \".join(s1)\n",
        "    s2 = \" \".join(s2)\n",
        "\n",
        "    return editdistance.eval(s1, s2) / len(s2)\n",
        "\n",
        "\n",
        "def number_of_correct(pred, target):\n",
        "    # count number of correct predictions\n",
        "    return pred.squeeze().eq(target).sum().item()\n",
        "\n",
        "\n",
        "def get_likely_index(tensor):\n",
        "    # find most likely label index for each element in the batch\n",
        "    return tensor.argmax(dim=-1)\n",
        "wer_over_epochs = []\n",
        "cer_over_epochs = []\n",
        "correct_predictions_over_epochs = []\n",
        "\n",
        "def test(model, epoch):\n",
        "    model.eval()\n",
        "    correct = 0\n",
        "    total_wer, total_cer, total_samples = 0, 0, 0\n",
        "\n",
        "    for data, target in test_loader:\n",
        "        # Apply Mel-spectrogram transform\n",
        "        data = mel_spectrogram_transform(data)\n",
        "\n",
        "        # Remove channel dimension after applying mel transform\n",
        "        data = data.squeeze(1)  # This will convert [batch_size, 1, 128, 41] into [batch_size, 128, 41]\n",
        "\n",
        "        data = data.to(device)\n",
        "        target = target.to(device)\n",
        "\n",
        "        output = model(data)\n",
        "        pred = get_likely_index(output)\n",
        "        correct += number_of_correct(pred, target)\n",
        "\n",
        "        # Compute WER and CER\n",
        "        pred_str = index_to_label(pred)  # Convert the prediction indices to string\n",
        "        target_str = index_to_label(target)  # Convert target indices to string\n",
        "\n",
        "        total_wer += wer(pred_str, target_str)\n",
        "        total_cer += cer(pred_str, target_str)\n",
        "        total_samples += 1\n",
        "\n",
        "        # update progress bar\n",
        "        pbar.update(pbar_update)\n",
        "\n",
        "    avg_wer = total_wer / total_samples\n",
        "    avg_cer = total_cer / total_samples\n",
        "\n",
        "    print(f\"\\nTest Epoch: {epoch}\\tAccuracy: {correct}/{len(test_loader.dataset)} ({100. * correct / len(test_loader.dataset):.0f}%)\")\n",
        "    print(f\"Average WER: {avg_wer:.4f}\\nAverage CER: {avg_cer:.4f}\\n\")\n",
        "\n",
        "    return avg_wer, avg_cer, correct"
      ]
    },
    {
      "cell_type": "code",
      "execution_count": null,
      "metadata": {
        "id": "66TkhMppYUaC"
      },
      "outputs": [],
      "source": [
        "log_interval = 20\n",
        "pbar_update = 1 / (len(train_loader) + len(test_loader))\n",
        "losses = []\n",
        "model = model.to(device)\n",
        "\n",
        "\n",
        "for epoch in range(1, n_epoch + 1):\n",
        "    train(model, epoch, log_interval)\n",
        "    # Evaluate the model\n",
        "    avg_wer, avg_cer, correct_predictions = test(model, epoch)\n",
        "\n",
        "    # Store the metrics for plotting or further analysis\n",
        "    wer_over_epochs.append(avg_wer)\n",
        "    cer_over_epochs.append(avg_cer)\n",
        "    correct_predictions_over_epochs.append(correct_predictions)\n",
        "    scheduler.step()\n",
        "   # Save\n",
        "    torch.save(model.state_dict(), PATH)\n",
        "    print(\"saved\")\n",
        "# Let's plot the training loss versus the number of iteration.\n",
        "# plt.plot(losses);\n",
        "# plt.title(\"training loss\");"
      ]
    },
    {
      "cell_type": "code",
      "source": [],
      "metadata": {
        "id": "xUL3nYYsL9Mn"
      },
      "execution_count": null,
      "outputs": []
    },
    {
      "cell_type": "code",
      "source": [],
      "metadata": {
        "id": "epKEsu3lGi9S"
      },
      "execution_count": null,
      "outputs": []
    },
    {
      "cell_type": "code",
      "source": [],
      "metadata": {
        "id": "IBjroUSRzYrp"
      },
      "execution_count": null,
      "outputs": []
    },
    {
      "cell_type": "code",
      "source": [],
      "metadata": {
        "id": "Ud0PZc69I9Fv"
      },
      "execution_count": null,
      "outputs": []
    },
    {
      "cell_type": "code",
      "source": [],
      "metadata": {
        "id": "01iL6uSYI4iS"
      },
      "execution_count": null,
      "outputs": []
    },
    {
      "cell_type": "markdown",
      "source": [],
      "metadata": {
        "id": "9GwgFngZvUak"
      }
    },
    {
      "cell_type": "code",
      "source": [],
      "metadata": {
        "id": "Mau8tq4l8trN"
      },
      "execution_count": null,
      "outputs": []
    },
    {
      "cell_type": "markdown",
      "source": [
        "## Metrics\n",
        "\n",
        "### Word Error Rate (WER)\n",
        "\n",
        "Word Error Rate (WER) is a standard metric used to measure the performance of an automatic speech recognition system. It represents the ratio of incorrect words to the total number of words in the reference transcription:\n",
        "\n",
        "$$\n",
        "\\text{WER} = \\frac{\\text{Substitutions + Insertions + Deletions}}{\\text{Total number of words in reference}}\n",
        "$$\n",
        "\n",
        "### Character Error Rate (CER)\n",
        "\n",
        "Character Error Rate (CER) is similar to WER but measures errors at the character level. It represents the ratio of incorrect characters to the total number of characters in the reference transcription:\n",
        "\n",
        "$$\n",
        "\\text{CER} = \\frac{\\text{Substitutions + Insertions + Deletions}}{\\text{Total number of characters in reference}}\n",
        "$$\n",
        "\n",
        "### Accuracy - to be implemented\n",
        "\n",
        "Accuracy is a standard metric used to evaluate classification models. It is defined as the ratio of correct predictions to the total number of predictions:\n",
        "\n",
        "$$\n",
        "\\text{Accuracy} = \\frac{\\text{Number of Correct Predictions}}{\\text{Total Number of Predictions}}\n",
        "$$\n",
        "\n",
        "### Loss\n",
        "\n",
        "The loss function quantifies how well the predicted outputs agree with the actual labels. For classification problems, a common loss function is the negative log-likelihood loss:\n",
        "\n",
        "$$\n",
        "\\text{Loss} = -\\log \\left( \\frac{\\text{Probability of the Correct Class}}{\\text{Sum of Probabilities for All Classes}} \\right)\n",
        "$$\n",
        "\n",
        "These metrics provide a comprehensive evaluation of the model's performance, allowing for better understanding and optimization.\n"
      ],
      "metadata": {
        "id": "lkN8QHKGy_al"
      }
    },
    {
      "cell_type": "code",
      "source": [
        "\n",
        "# Let's plot the training metrics versus the number of iteration.\n",
        "# WER Plotvimport matplotlib.pyplot as plt\n",
        "epochs = list(range(1, 201))\n",
        "\n",
        "#loss\n",
        "plt.plot(losses)\n",
        "plt.title(\"Training Loss Per Batch\")\n",
        "plt.xlabel(\"Batches\")\n",
        "plt.ylabel(\"Loss\")\n",
        "plt.grid()\n",
        "plt.show()\n",
        "\n",
        "plt.plot(correct_predictions_over_epochs, marker='o', label='Number of Correct Predictions')\n",
        "plt.xlabel('Epochs')\n",
        "plt.ylabel('Number of Correct Predictions')\n",
        "plt.title('Correct Predictions Over Epochs')\n",
        "plt.legend()\n",
        "plt.show()\n",
        "plt.figure(figsize=(12, 6))\n",
        "# Plot WER# Assuming wer_over_epochs and cer_over_epochs have been populated correctly during training:\n",
        "epochs_range = list(range(1, len(wer_over_epochs) + 1))\n",
        "\n",
        "plt.plot(epochs_range, wer_over_epochs, label='WER', marker='o')\n",
        "\n",
        "plt.plot(epochs_range, cer_over_epochs, label='CER', marker='o')\n",
        "plt.title('WER & CER over Epochs')\n",
        "plt.xlabel('Epochs')\n",
        "plt.ylabel('Error Rate')\n",
        "plt.legend()\n",
        "plt.grid(True)\n",
        "plt.show()\n"
      ],
      "metadata": {
        "id": "JouJkeHEn23Z"
      },
      "execution_count": null,
      "outputs": []
    },
    {
      "cell_type": "code",
      "source": [
        "from google.colab import drive\n",
        "drive.mount('/content/drive')"
      ],
      "metadata": {
        "id": "VXUUzeXrtZB2"
      },
      "execution_count": null,
      "outputs": []
    },
    {
      "cell_type": "code",
      "execution_count": null,
      "metadata": {
        "id": "0M7uLxfoYUaC"
      },
      "outputs": [],
      "source": [
        "def predict(tensor):\n",
        "    # Use the model to predict the label of the waveform\n",
        "    tensor = tensor.to(device)\n",
        "    tensor = transform(tensor)\n",
        "    tensor = model(tensor.unsqueeze(0))\n",
        "    tensor = get_likely_index(tensor)\n",
        "    tensor = index_to_label(tensor.squeeze())\n",
        "    return tensor\n",
        "\n",
        "\n",
        "waveform, sample_rate, utterance, *_ = train_set[-1]\n",
        "ipd.Audio(waveform.numpy(), rate=sample_rate)\n",
        "\n",
        "print(f\"Expected: {utterance}. Predicted: {predict(waveform)}.\")"
      ]
    },
    {
      "cell_type": "code",
      "execution_count": null,
      "metadata": {
        "id": "_RtSpxswYUaC"
      },
      "outputs": [],
      "source": [
        "for i, (waveform, sample_rate, utterance, *_) in enumerate(test_set):    output = predict(waveform)\n",
        "if output != utterance:\n",
        "      ipd.Audio(waveform.numpy(), rate=sample_rate)\n",
        "      print(f\"Data point #{i}. Expected: {utterance}. Predicted: {output}.\")\n",
        "\n",
        "else:\n",
        "    print(\"All examples in this dataset were correctly classified!\")\n",
        "    print(\"In this case, let's just look at the last data point\")\n",
        "    ipd.Audio(waveform.numpy(), rate=sample_rate)\n",
        "    print(f\"Data point #{i}. Expected: {utterance}. Predicted: {output}.\")"
      ]
    },
    {
      "cell_type": "code",
      "source": [],
      "metadata": {
        "id": "z6xOoXaxd2Mz"
      },
      "execution_count": null,
      "outputs": []
    },
    {
      "cell_type": "code",
      "source": [
        "!pip install sounddevice"
      ],
      "metadata": {
        "id": "m8bcdv57dxpE"
      },
      "execution_count": null,
      "outputs": []
    },
    {
      "cell_type": "code",
      "execution_count": null,
      "metadata": {
        "id": "-b1lnCsyYUaC"
      },
      "outputs": [],
      "source": [
        "import sounddevice as sd\n",
        "import numpy as np\n",
        "import torch\n",
        "import torchaudio.transforms as T\n",
        "import random\n",
        "import matplotlib.pyplot as plt\n",
        "\n",
        "# Defining functions\n",
        "def record_audio():\n",
        "    print(\"Recording...\")\n",
        "    audio = sd.rec(int(duration * sample_rate), samplerate=sample_rate, channels=1, dtype=np.float32)\n",
        "    sd.wait()\n",
        "    print(\"Recording done.\")\n",
        "    return torch.tensor(audio).squeeze()\n",
        "\n",
        "def live_validate(model, waveform, true_label_text):\n",
        "    model.eval()\n",
        "    with torch.no_grad():\n",
        "        # Extract features from the given waveform\n",
        "        features = transform(waveform)\n",
        "        features = features.unsqueeze(0)  # Adding batch dimension\n",
        "\n",
        "        # Model forward pass\n",
        "        outputs = model(features)\n",
        "\n",
        "        # Get predicted label\n",
        "        predicted_label_index = outputs.argmax(dim=1).item()\n",
        "        predicted_label_text = labels[predicted_label_index]\n",
        "\n",
        "        # Compute WER and CER\n",
        "        wer_score = wer([true_label_text], [predicted_label_text])\n",
        "        cer_score = cer(true_label_text, predicted_label_text)\n",
        "\n",
        "    return predicted_label_text, wer_score, cer_score\n",
        "\n",
        "# Lists to store metrics for plotting\n",
        "wer_over_epochs = []\n",
        "cer_over_epochs = []\n",
        "loss_over_epochs = []\n",
        "accuracy_over_epochs = []\n",
        "\n",
        "num_epochs = 10\n",
        "for epoch in range(num_epochs):\n",
        "    model.train()\n",
        "\n",
        "    # Select a random label\n",
        "    true_label_index = random.randint(0, len(labels) - 1)\n",
        "    true_label_text = labels[true_label_index]\n",
        "    print(f\"Please speak the label: {true_label_text}\")\n",
        "\n",
        "    # Record audio\n",
        "    waveform = record_audio()\n",
        "\n",
        "    # Extract features\n",
        "    features = transform(waveform)\n",
        "    features = features.unsqueeze(0)  # Adding batch dimension\n",
        "\n",
        "    # Model forward pass\n",
        "    outputs = model(features)\n",
        "\n",
        "    # Compute loss\n",
        "    true_label_tensor = torch.tensor([true_label_index])  # Convert the true label to tensor\n",
        "    loss = loss_function(outputs.squeeze(0), true_label_tensor)\n",
        "\n",
        "    # Backward pass\n",
        "    optimizer.zero_grad()\n",
        "    loss.backward()\n",
        "    optimizer.step()\n",
        "\n",
        "    # Compute accuracy\n",
        "    pred = outputs.argmax(dim=1, keepdim=True)\n",
        "    correct = pred.eq(true_label_tensor.view_as(pred)).sum().item()\n",
        "    accuracy = correct / len(true_label_tensor)\n",
        "\n",
        "    # Store metrics\n",
        "    loss_over_epochs.append(loss.item())\n",
        "    accuracy_over_epochs.append(accuracy)\n",
        "\n",
        "    # Live validation\n",
        "    print(\"Please provide an audio sample for validation:\")\n",
        "    val_waveform = record_audio()\n",
        "    predicted_label, wer_score, cer_score = live_validate(model, val_waveform, true_label_text)\n",
        "    print(f\"Model's prediction: {predicted_label}\\nWER: {wer_score}\\nCER: {cer_score}\\n\")\n",
        "    wer_over_epochs.append(wer_score)\n",
        "    cer_over_epochs.append(cer_score)\n",
        "\n",
        "    print(f\"Epoch {epoch+1}/{num_epochs}, Loss: {loss.item()}, Accuracy: {accuracy*100:.2f}%\\n\")\n",
        "\n",
        "# Plot metrics\n",
        "fig, axs = plt.subplots(2, 2, figsize=(12, 10))\n",
        "axs[0, 0].plot(loss_over_epochs, label='Training Loss')\n",
        "axs[0, 0].set_title('Training Loss')\n",
        "axs[0, 1].plot(accuracy_over_epochs, label='Training Accuracy')\n",
        "axs[0, 1].set_title('Training Accuracy')\n",
        "axs[1, 0].plot(wer_over_epochs, label='WER')\n",
        "axs[1, 0].set_title('Word Error Rate (WER)')\n",
        "axs[1, 1].plot(cer_over_epochs, label='CER')\n",
        "axs[1, 1].set_title('Character Error Rate (CER)')\n",
        "\n",
        "for ax in axs.flat:\n",
        "    ax.legend()\n",
        "    ax.grid(True)\n",
        "\n",
        "plt.tight_layout()\n",
        "plt.show()\n"
      ]
    },
    {
      "cell_type": "code",
      "execution_count": null,
      "metadata": {
        "id": "cPODYt4gCwn2"
      },
      "outputs": [],
      "source": [
        "\n",
        "# Plot WER and CER\n",
        "plt.plot(wer_over_epochs2, label='WER')\n",
        "plt.plot(cer_over_epochs2, label='CER')\n",
        "plt.xlabel('Epoch')\n",
        "plt.ylabel('Error Rate')\n",
        "plt.legend()\n",
        "plt.title('Live Validation Metrics')\n",
        "plt.show()"
      ]
    }
  ],
  "metadata": {
    "colab": {
      "provenance": [],
      "machine_shape": "hm",
      "include_colab_link": true
    },
    "kernelspec": {
      "display_name": "Python 3",
      "name": "python3"
    },
    "language_info": {
      "codemirror_mode": {
        "name": "ipython",
        "version": 3
      },
      "file_extension": ".py",
      "mimetype": "text/x-python",
      "name": "python",
      "nbconvert_exporter": "python",
      "pygments_lexer": "ipython3",
      "version": "3.10.9"
    },
    "accelerator": "TPU"
  },
  "nbformat": 4,
  "nbformat_minor": 0
}